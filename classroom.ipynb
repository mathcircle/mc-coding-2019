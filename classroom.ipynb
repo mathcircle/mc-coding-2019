{
  "nbformat": 4,
  "nbformat_minor": 0,
  "metadata": {
    "colab": {
      "name": "classroom.ipynb",
      "version": "0.3.2",
      "provenance": [],
      "collapsed_sections": [],
      "include_colab_link": true
    },
    "kernelspec": {
      "name": "python3",
      "display_name": "Python 3"
    }
  },
  "cells": [
    {
      "cell_type": "markdown",
      "metadata": {
        "id": "view-in-github",
        "colab_type": "text"
      },
      "source": [
        "<a href=\"https://colab.research.google.com/github/mathcircle/mc-coding-2019/blob/master/classroom.ipynb\" target=\"_parent\"><img src=\"https://colab.research.google.com/assets/colab-badge.svg\" alt=\"Open In Colab\"/></a>"
      ]
    },
    {
      "cell_type": "markdown",
      "metadata": {
        "id": "-6Vcx_l4Z9iZ",
        "colab_type": "text"
      },
      "source": [
        "#  Information\n",
        "*  Code shared in https://github.com/mathcircle/mc-coding-2019\n",
        "*  We will use a simple online coding system located here: https://repl.it/languages/python3\n",
        "*  Python Documentation: https://docs.python.org/3/"
      ]
    },
    {
      "cell_type": "markdown",
      "metadata": {
        "id": "sghL07SVHFHL",
        "colab_type": "text"
      },
      "source": [
        "#  Topics covered\n",
        "*  2019-06-10: console input/output, operators (arithmetic, conditional, logical)\n",
        "*  2019-06-11: python documentation, comments, decisions, iterations\n",
        "*  2019-06-12: Literals (numbers, string, logical)\n",
        "*  2019-06-13: Variables and types\n",
        "*  Operations (arithmetic, logical, string, lists)\n",
        "   *  Conditional operations (`<, >, <=, >=, ==, !=, is [not], [not] in`)\n",
        "   *  String operations (`3 * 'un' + 'ium', len, indexing: word[-2], word[2:4], word[:4`])\n"
      ]
    },
    {
      "cell_type": "markdown",
      "metadata": {
        "id": "DfgaK7L5aMRQ",
        "colab_type": "text"
      },
      "source": [
        "Learning to code is learning to *think* in a new way. It is similar to learning a language. You need to actually write to get a hang of things. Otherwise, you'll understand, but you'll forget most of it once the course is over."
      ]
    },
    {
      "cell_type": "markdown",
      "metadata": {
        "id": "F2nK73vIen02",
        "colab_type": "text"
      },
      "source": [
        "# Input and output"
      ]
    },
    {
      "cell_type": "code",
      "metadata": {
        "id": "NaWDErrLfbDr",
        "colab_type": "code",
        "outputId": "79e4d708-3f99-4149-9462-d5f4c9fb1c3a",
        "colab": {
          "base_uri": "https://localhost:8080/",
          "height": 85
        }
      },
      "source": [
        "#  You can print to the console using the in-built function `print`\n",
        "print(\"Hello World!\")    # Strings can either be enclosed in double quotes\n",
        "print('Hello world!')    # Or in single quotes\n",
        "print(42)    # Numbers can be of type integer\n",
        "print(10.3)    # Or of type float"
      ],
      "execution_count": 0,
      "outputs": [
        {
          "output_type": "stream",
          "text": [
            "Hello World!\n",
            "Hello world!\n",
            "42\n",
            "10.3\n"
          ],
          "name": "stdout"
        }
      ]
    },
    {
      "cell_type": "code",
      "metadata": {
        "id": "kRNxHHT0BbNp",
        "colab_type": "code",
        "outputId": "5ebce7fe-1424-4dcd-a4d6-ba679830fa21",
        "colab": {
          "base_uri": "https://localhost:8080/",
          "height": 68
        }
      },
      "source": [
        "#  You can assign an number or string to a variable using the assingment operator =.\n",
        "#  Input a string from the user.\n",
        "str = input(\"Enter your name: \")\n",
        "print(str)\n",
        "str = \"Some other name\"    # Variable contents may change throughout the program.\n",
        "print(str)"
      ],
      "execution_count": 0,
      "outputs": [
        {
          "output_type": "stream",
          "text": [
            "Enter your name: Sudip Sinha\n",
            "Sudip Sinha\n",
            "Some other name\n"
          ],
          "name": "stdout"
        }
      ]
    },
    {
      "cell_type": "markdown",
      "metadata": {
        "id": "MClijaL9efRM",
        "colab_type": "text"
      },
      "source": [
        "# Operations: arithmetic, conditional, Boolean/logical"
      ]
    },
    {
      "cell_type": "markdown",
      "metadata": {
        "id": "idyIG-9GfAxN",
        "colab_type": "text"
      },
      "source": [
        "##  Arithmetic operations\n",
        "*  *Input*: numbers\n",
        "*  *Output*: number"
      ]
    },
    {
      "cell_type": "code",
      "metadata": {
        "id": "yZ6m9XirB1yj",
        "colab_type": "code",
        "outputId": "2545ddce-964e-4781-8cec-76c92700c624",
        "colab": {
          "base_uri": "https://localhost:8080/",
          "height": 119
        }
      },
      "source": [
        "# Arithmetic operations (+, -, *, **, /, //, %)\n",
        "print(4 - 3)\n",
        "print(4 * 3)\n",
        "print(4 ** 3)\n",
        "print(4 / 3)\n",
        "print(4 // 3)\n",
        "print(4 % 3)"
      ],
      "execution_count": 0,
      "outputs": [
        {
          "output_type": "stream",
          "text": [
            "1\n",
            "12\n",
            "64\n",
            "1.3333333333333333\n",
            "1\n",
            "1\n"
          ],
          "name": "stdout"
        }
      ]
    },
    {
      "cell_type": "code",
      "metadata": {
        "id": "4cgC7QGKCDuc",
        "colab_type": "code",
        "outputId": "8c2bc338-8dff-44ac-d76a-47263c0560aa",
        "colab": {
          "base_uri": "https://localhost:8080/",
          "height": 68
        }
      },
      "source": [
        "# Write a program to input a number and output the units digit and the tens digit\n",
        "num = int(input(\"Enter a two digit number: \"))\n",
        "units = num % 10\n",
        "tens = num % 100\n",
        "tens = tens // 10\n",
        "print(units)\n",
        "print(tens)"
      ],
      "execution_count": 0,
      "outputs": [
        {
          "output_type": "stream",
          "text": [
            "Enter a two digit number: 89\n",
            "9\n",
            "8\n"
          ],
          "name": "stdout"
        }
      ]
    },
    {
      "cell_type": "code",
      "metadata": {
        "id": "46I94tIBJMDd",
        "colab_type": "code",
        "outputId": "48430f71-fe2b-4c0a-9933-dea30fb8260e",
        "colab": {
          "base_uri": "https://localhost:8080/",
          "height": 34
        }
      },
      "source": [
        "4 != 3"
      ],
      "execution_count": 0,
      "outputs": [
        {
          "output_type": "execute_result",
          "data": {
            "text/plain": [
              "True"
            ]
          },
          "metadata": {
            "tags": []
          },
          "execution_count": 5
        }
      ]
    },
    {
      "cell_type": "markdown",
      "metadata": {
        "id": "uos0o-VOgFGN",
        "colab_type": "text"
      },
      "source": [
        "##  Conditional operations\n",
        "*  *Input*: numbers\n",
        "*  *Output*: Boolean/logical"
      ]
    },
    {
      "cell_type": "code",
      "metadata": {
        "id": "rXljWV_qg3Wr",
        "colab_type": "code",
        "outputId": "18aa9318-bdb2-496a-bb3a-a04b94c1ef54",
        "colab": {
          "base_uri": "https://localhost:8080/",
          "height": 85
        }
      },
      "source": [
        "print(4 > 3)\n",
        "print(2 >= 2)\n",
        "print(1 + 1 == 2)\n",
        "print(23 // 10 != 2)"
      ],
      "execution_count": 0,
      "outputs": [
        {
          "output_type": "stream",
          "text": [
            "True\n",
            "True\n",
            "True\n",
            "False\n"
          ],
          "name": "stdout"
        }
      ]
    },
    {
      "cell_type": "markdown",
      "metadata": {
        "id": "eubH2hNNgxg4",
        "colab_type": "text"
      },
      "source": [
        "##  Boolean/logical operations\n",
        "*  *Input*: Boolean/logical\n",
        "*  *Output*: Boolean/logical"
      ]
    },
    {
      "cell_type": "code",
      "metadata": {
        "id": "CfDyXPLHKmLq",
        "colab_type": "code",
        "outputId": "46fb9ea6-694e-4944-f374-16f304478c2a",
        "colab": {
          "base_uri": "https://localhost:8080/",
          "height": 85
        }
      },
      "source": [
        "print(True)\n",
        "print(not False)\n",
        "print(True and (4>3))\n",
        "print(True and False)"
      ],
      "execution_count": 0,
      "outputs": [
        {
          "output_type": "stream",
          "text": [
            "True\n",
            "True\n",
            "True\n",
            "False\n"
          ],
          "name": "stdout"
        }
      ]
    },
    {
      "cell_type": "code",
      "metadata": {
        "id": "nuKkjksFCCmU",
        "colab_type": "code",
        "outputId": "ba4786ba-9d9c-4b0e-f09a-b65ea9f9d0cb",
        "colab": {
          "base_uri": "https://localhost:8080/",
          "height": 85
        }
      },
      "source": [
        "#  Input two numbers base and exponent and output base^exponent. Also print true when the result is even.\n",
        "base = int(input(\"Enter base: \"))\n",
        "exponent = int(input(\"Enter exponent: \"))\n",
        "result = base ** exponent\n",
        "print(result)\n",
        "print(result % 2 == 0)"
      ],
      "execution_count": 0,
      "outputs": [
        {
          "output_type": "stream",
          "text": [
            "Enter base: 2\n",
            "Enter exponent: 4\n",
            "16\n",
            "True\n"
          ],
          "name": "stdout"
        }
      ]
    },
    {
      "cell_type": "markdown",
      "metadata": {
        "id": "VrEQ47eX40fR",
        "colab_type": "text"
      },
      "source": [
        "#  Documentation, comments\n",
        "\n",
        "#  Making decisions"
      ]
    },
    {
      "cell_type": "markdown",
      "metadata": {
        "id": "o-7p2Xm0CsMt",
        "colab_type": "text"
      },
      "source": [
        "##  Flowcharts\n",
        "Linear vs non-linear flow"
      ]
    },
    {
      "cell_type": "markdown",
      "metadata": {
        "id": "9opHn9ZJCyPX",
        "colab_type": "text"
      },
      "source": [
        "##  Problems"
      ]
    },
    {
      "cell_type": "code",
      "metadata": {
        "id": "5RXHztl__IUn",
        "colab_type": "code",
        "colab": {}
      },
      "source": [
        "#  Input a user's points out of 100, and grade him according to the following:\n",
        "#    points >= 90: A\n",
        "#    80 <= points < 90: B\n",
        "#    70 <= points < 80: C\n",
        "#    60 <= points < 70: D\n",
        "#    points < 60: F\n",
        "\n",
        "points = int(input(\"Enter points: \"))\n",
        "if points < 0 or points > 100:\n",
        "  print(\"Invalid score. Scores must be between 0 and 100.\")\n",
        "elif points >= 90:\n",
        "  print(\"Grade: A\")\n",
        "elif points >= 80:\n",
        "  print(\"Grade: B\")\n",
        "elif points >= 70:\n",
        "  print(\"Grade: C\")\n",
        "elif points >= 60:\n",
        "  print(\"Grade: D\")\n",
        "else:\n",
        "  print(\"Grade: F\")"
      ],
      "execution_count": 0,
      "outputs": []
    },
    {
      "cell_type": "code",
      "metadata": {
        "id": "HahUeBGsBaeE",
        "colab_type": "code",
        "colab": {}
      },
      "source": [
        "#  Input a number and output the absolute value of that number.\n",
        "num = float(input(\"Enter number: \"))\n",
        "if num < 0:\n",
        "  num = -num\n",
        "print(num)"
      ],
      "execution_count": 0,
      "outputs": []
    },
    {
      "cell_type": "code",
      "metadata": {
        "id": "1CVfK0vLBhT8",
        "colab_type": "code",
        "outputId": "17c3e372-585d-4ae1-f154-8adcba492011",
        "colab": {
          "base_uri": "https://localhost:8080/",
          "height": 51
        }
      },
      "source": [
        "#  Print even or odd.\n",
        "num = int(input(\"Enter an integer: \"))\n",
        "if num % 2 == 0:\n",
        "  print(\"Even\")\n",
        "else:\n",
        "  print(\"Odd\")"
      ],
      "execution_count": 0,
      "outputs": [
        {
          "output_type": "stream",
          "text": [
            "Enter an integer: -3\n",
            "Odd\n"
          ],
          "name": "stdout"
        }
      ]
    },
    {
      "cell_type": "markdown",
      "metadata": {
        "id": "EZXX-J0F7hor",
        "colab_type": "text"
      },
      "source": [
        "#  Iterations\n",
        "*  while\n",
        "*  range\n",
        "*  for"
      ]
    },
    {
      "cell_type": "markdown",
      "metadata": {
        "id": "Bf38B3dfE1-m",
        "colab_type": "text"
      },
      "source": [
        "###  While loops"
      ]
    },
    {
      "cell_type": "code",
      "metadata": {
        "id": "0B08o_0pFz4W",
        "colab_type": "code",
        "outputId": "b73e4347-1c5f-4f2e-fc54-57cb880b04a7",
        "colab": {
          "base_uri": "https://localhost:8080/",
          "height": 111
        }
      },
      "source": [
        "#  Print all numbers from 4 to 0.\n",
        "i = 4\n",
        "while i >= 0:\n",
        "  print(i)\n",
        "  i = i - 1"
      ],
      "execution_count": 0,
      "outputs": [
        {
          "output_type": "stream",
          "text": [
            "4\n",
            "3\n",
            "2\n",
            "1\n",
            "0\n"
          ],
          "name": "stdout"
        }
      ]
    },
    {
      "cell_type": "code",
      "metadata": {
        "id": "4mE08s6KUKt8",
        "colab_type": "code",
        "outputId": "3d316fb9-c4de-4f4f-d9db-6601330b1e17",
        "colab": {
          "base_uri": "https://localhost:8080/",
          "height": 111
        }
      },
      "source": [
        "#  Print all the even natural numbers from 0 to n.\n",
        "limit = float(input(\"Enter limit: \"))\n",
        "i = 0\n",
        "while i <= limit:\n",
        "  print(i)\n",
        "  i = i + 2"
      ],
      "execution_count": 0,
      "outputs": [
        {
          "output_type": "stream",
          "text": [
            "Enter limit: 7\n",
            "0\n",
            "2\n",
            "4\n",
            "6\n"
          ],
          "name": "stdout"
        }
      ]
    },
    {
      "cell_type": "code",
      "metadata": {
        "id": "cGEY0Yw7D9v8",
        "colab_type": "code",
        "outputId": "e065f4d3-8d55-44ad-ec68-3e6578460931",
        "colab": {
          "base_uri": "https://localhost:8080/",
          "height": 55
        }
      },
      "source": [
        "#  Print all the digits of a number in reverse.\n",
        "#  E.g. if the user enters 7231, print 1327.\n",
        "\n",
        "number = int(input(\"Enter number: \"))\n",
        "reverse = 0\n",
        "\n",
        "while number > 0:\n",
        "  units = number % 10\n",
        "  reverse = reverse * 10 + units\n",
        "  number = number // 10\n",
        "\n",
        "print(reverse)"
      ],
      "execution_count": 0,
      "outputs": [
        {
          "output_type": "stream",
          "text": [
            "Enter number: 1253476897163\n",
            "3617986743521\n"
          ],
          "name": "stdout"
        }
      ]
    },
    {
      "cell_type": "markdown",
      "metadata": {
        "id": "ANq0rR0_Ed8l",
        "colab_type": "text"
      },
      "source": [
        "###  For loops and the range function"
      ]
    },
    {
      "cell_type": "code",
      "metadata": {
        "id": "YvlHY0gM_6A2",
        "colab_type": "code",
        "outputId": "c4eaedb6-35cf-4eef-ed3e-81453844bccb",
        "colab": {
          "base_uri": "https://localhost:8080/",
          "height": 129
        }
      },
      "source": [
        "#  Print odd numbers from 1 to 11 using a for loop and range.\n",
        "for i in range(1, 12, 2):\n",
        "  print(i)"
      ],
      "execution_count": 0,
      "outputs": [
        {
          "output_type": "stream",
          "text": [
            "1\n",
            "3\n",
            "5\n",
            "7\n",
            "9\n",
            "11\n"
          ],
          "name": "stdout"
        }
      ]
    },
    {
      "cell_type": "code",
      "metadata": {
        "id": "2b5xNNw9AAR2",
        "colab_type": "code",
        "outputId": "12d1520c-2098-4379-c8fd-a607058085dc",
        "colab": {
          "base_uri": "https://localhost:8080/",
          "height": 615
        }
      },
      "source": [
        "#  Fizz buzz game (https://en.wikipedia.org/wiki/Fizz_buzz)\n",
        "#  Print numbers from 1 to 32 with the following restrictions.\n",
        "#  *  Any number divisible by 3 is replaced by the word fizz.\n",
        "#  *  Any number divisible by 5 is replaced by the word buzz.\n",
        "#  *  Numbers divisible by both 3 and 5 become fizz buzz.\n",
        "#  Sample output till 16: 1, 2, Fizz, 4, Buzz, Fizz, 7, 8, Fizz, Buzz, 11, Fizz, 13, 14, Fizz Buzz, 16\n",
        "\n",
        "for i in range(1, 33):\n",
        "  str = \"\"\n",
        "  if i % 3 == 0 and i % 5 == 0:\n",
        "    print(\"Fizz Buzz\")\n",
        "  elif i % 3 == 0:\n",
        "    print(\"Fizz\")\n",
        "  elif i % 5 == 0:\n",
        "    print(\"Buzz\")\n",
        "  else:\n",
        "    print(i)"
      ],
      "execution_count": 0,
      "outputs": [
        {
          "output_type": "stream",
          "text": [
            "1\n",
            "2\n",
            "Fizz\n",
            "4\n",
            "Buzz\n",
            "Fizz\n",
            "7\n",
            "8\n",
            "Fizz\n",
            "Buzz\n",
            "11\n",
            "Fizz\n",
            "13\n",
            "14\n",
            "Fizz Buzz\n",
            "16\n",
            "17\n",
            "Fizz\n",
            "19\n",
            "Buzz\n",
            "Fizz\n",
            "22\n",
            "23\n",
            "Fizz\n",
            "Buzz\n",
            "26\n",
            "Fizz\n",
            "28\n",
            "29\n",
            "Fizz Buzz\n",
            "31\n",
            "32\n"
          ],
          "name": "stdout"
        }
      ]
    },
    {
      "cell_type": "code",
      "metadata": {
        "id": "zKjizHs8QwcG",
        "colab_type": "code",
        "outputId": "5f539829-6e4e-4bbb-df9f-5759a528ef0d",
        "colab": {
          "base_uri": "https://localhost:8080/",
          "height": 55
        }
      },
      "source": [
        "#  Calculate n!\n",
        "\n",
        "number = int(input(\"Enter number: \"))\n",
        "fact = 1\n",
        "\n",
        "for i in range(2, number + 1):\n",
        "  fact = fact * i    # Introduce the op= variants\n",
        "\n",
        "print(fact)"
      ],
      "execution_count": 0,
      "outputs": [
        {
          "output_type": "stream",
          "text": [
            "Enter number: 6\n",
            "720\n"
          ],
          "name": "stdout"
        }
      ]
    },
    {
      "cell_type": "markdown",
      "metadata": {
        "id": "ytyhyWE77ZRu",
        "colab_type": "text"
      },
      "source": [
        "#  Functions\n",
        "\n",
        "Functions take input(s) and return an output\n",
        "\n",
        "_Syntax_:\n",
        "```python\n",
        "def NAME ([parameter1: type1, [parameter2: type2, [...]]]) ['->' output_type] ':'\n",
        "  \"\"\"This is a documentation comment\n",
        "      for the dummy function.\"\"\"\n",
        "  \n",
        "  # Do what you have to do\n",
        "  return return_object\n",
        "```"
      ]
    },
    {
      "cell_type": "code",
      "metadata": {
        "id": "WETqE-ze713u",
        "colab_type": "code",
        "outputId": "a6e2cc14-ebc3-43a9-aef3-910c7233de10",
        "colab": {
          "base_uri": "https://localhost:8080/",
          "height": 35
        }
      },
      "source": [
        "#  Factorial\n",
        "\n",
        "def factorial(n: int) -> int:\n",
        "  \"\"\" Take a number and return its factorial.\n",
        "      The factorial is given by the formula n! = n * (n - 1) * ... * 2 \"\"\"\n",
        "  \n",
        "#   #  Check for bad input\n",
        "#   if n < 0:\n",
        "#     return -1\n",
        "  \n",
        "  fact = 1\n",
        "  for i in range(2, n+1):\n",
        "    fact *= i\n",
        "  return fact\n",
        "\n",
        "print(factorial(4))"
      ],
      "execution_count": 0,
      "outputs": [
        {
          "output_type": "stream",
          "text": [
            "24\n"
          ],
          "name": "stdout"
        }
      ]
    },
    {
      "cell_type": "code",
      "metadata": {
        "id": "MBzh11gl5rel",
        "colab_type": "code",
        "outputId": "95d0d78c-319f-4e0d-fe64-36e308bb5a50",
        "colab": {
          "base_uri": "https://localhost:8080/",
          "height": 35
        }
      },
      "source": [
        "#  Function to compute n choose k.\n",
        "def choose(n: int, k:int) -> int:\n",
        "  \"\"\" Take two integers and return C(n, k).\n",
        "      This is given by the formula C(n, k) = n! // (k! (n - k)!) \"\"\"\n",
        "  \n",
        "  return factorial(n) // (factorial(k) * factorial(n - k))\n",
        "\n",
        "print(choose(5, 2))"
      ],
      "execution_count": 0,
      "outputs": [
        {
          "output_type": "stream",
          "text": [
            "10\n"
          ],
          "name": "stdout"
        }
      ]
    },
    {
      "cell_type": "code",
      "metadata": {
        "id": "7or_PuswBYrX",
        "colab_type": "code",
        "outputId": "73e287e8-f7c9-4171-c923-39140a872155",
        "colab": {
          "base_uri": "https://localhost:8080/",
          "height": 35
        }
      },
      "source": [
        "#  Write a function (using iteration) to return the nth Fibonacci number\n",
        "#  0, 1, 1, 2, 3, 5, 8, 13, 21, ...\n",
        "\n",
        "def fibonacci(n: int) -> int:\n",
        "  \"\"\" Return the nth Fibonacci number. \"\"\"\n",
        "  \n",
        "  p = 1\n",
        "  q = 0\n",
        "  s = 0\n",
        "  \n",
        "  for i in range(n):\n",
        "    s = p + q\n",
        "    p = q\n",
        "    q = s\n",
        "    #  (s, p, q) = (p + q, q, s)\n",
        "  \n",
        "  return q\n",
        "\n",
        "print(fibonacci(6))"
      ],
      "execution_count": 0,
      "outputs": [
        {
          "output_type": "stream",
          "text": [
            "8\n"
          ],
          "name": "stdout"
        }
      ]
    },
    {
      "cell_type": "code",
      "metadata": {
        "id": "BUUjJ6fBC7kp",
        "colab_type": "code",
        "outputId": "2c3a1e8e-d50c-4c15-85c7-ada74416c8db",
        "colab": {
          "base_uri": "https://localhost:8080/",
          "height": 52
        }
      },
      "source": [
        "#  Write a function to reverse the digits of a decimal number.\n",
        "#  E.g. if the user enters 7231, print 1327.\n",
        "\n",
        "\n",
        "def num_reverse(n: int) -> int:\n",
        "  \"\"\" Reverses the digits of a decimal number \"\"\"\n",
        "  \n",
        "  reverse = 0\n",
        "  \n",
        "  while n > 0:\n",
        "    units = n % 10\n",
        "    reverse = reverse * 10 + units\n",
        "    n //= 10\n",
        "  \n",
        "  return reverse\n",
        "\n",
        "#  Execute the program\n",
        "number = int(input(\"Enter number: \"))\n",
        "print(num_reverse(number))"
      ],
      "execution_count": 0,
      "outputs": [
        {
          "output_type": "stream",
          "text": [
            "Enter number: 445891\n",
            "198544\n"
          ],
          "name": "stdout"
        }
      ]
    },
    {
      "cell_type": "code",
      "metadata": {
        "id": "Pm5gex4lECiI",
        "colab_type": "code",
        "colab": {}
      },
      "source": [
        "#  Write a function called is_prime to check if the argument is prime or not.\n",
        "#  Your return should be a Boolean."
      ],
      "execution_count": 0,
      "outputs": []
    },
    {
      "cell_type": "code",
      "metadata": {
        "id": "So7npnIEGm0h",
        "colab_type": "code",
        "colab": {}
      },
      "source": [
        "#  Write a function to return a string containing the following pattern for n lines.\n",
        "#          $\n",
        "#        $   $\n",
        "#      $       $\n",
        "#    $           $\n",
        "#  $               $\n",
        "#    $           $\n",
        "#      $       $\n",
        "#        $   $\n",
        "#          $\n"
      ],
      "execution_count": 0,
      "outputs": []
    },
    {
      "cell_type": "markdown",
      "metadata": {
        "id": "X05QpnLGGpxK",
        "colab_type": "text"
      },
      "source": [
        "####  Write a Python function to check whether a number is perfect or not.\n",
        "\n",
        "*Definition*: In number theory, a _perfect number_ is a positive integer that is equal to the sum of its positive divisors excluding the number itself. \n",
        "\n",
        "*Example*: The first perfect number is 6, because 1, 2, and 3 are its proper positive divisors, and 1 + 2 + 3 = 6. Equivalently, the number 6 is equal to half the sum of all its positive divisors: ( 1 + 2 + 3 + 6 ) / 2 = 6. The next perfect number is 28 = 1 + 2 + 4 + 7 + 14.\n",
        "\n",
        "####  Find the first 4 perfect numbers."
      ]
    },
    {
      "cell_type": "markdown",
      "metadata": {
        "id": "CvNyqQFm7i4E",
        "colab_type": "text"
      },
      "source": [
        "#  Recursion\n",
        "*  Base case\n",
        "*  Recursion step\n",
        "*  Do NOT forget: the base case comes first\n",
        "*  Recursion vs induction\n",
        "*  Iteration vs recursion\n",
        "*  Meat: Towers of Hanoi"
      ]
    },
    {
      "cell_type": "code",
      "metadata": {
        "id": "jB51f1Ks70hb",
        "colab_type": "code",
        "outputId": "46ff0916-6f4f-474a-f603-9dff5a63a1a3",
        "colab": {
          "base_uri": "https://localhost:8080/",
          "height": 35
        }
      },
      "source": [
        "#  Write a function to return the factorial of n using recursion.\n",
        "#  Remember: n! = n * (n - 1)!\n",
        "\n",
        "def fact(n: int) -> int:\n",
        "  \"\"\" Calculates the factorial of an integer. \"\"\"\n",
        "\n",
        "  if n <= 1:\n",
        "    return 1\n",
        "  return n * fact(n - 1)\n",
        "\n",
        "print(fact(5))"
      ],
      "execution_count": 0,
      "outputs": [
        {
          "output_type": "stream",
          "text": [
            "120\n"
          ],
          "name": "stdout"
        }
      ]
    },
    {
      "cell_type": "code",
      "metadata": {
        "id": "0L9NzmO--6GO",
        "colab_type": "code",
        "outputId": "7f3b50c6-cda5-4eee-9f51-2b6883bd0bf0",
        "colab": {
          "base_uri": "https://localhost:8080/",
          "height": 35
        }
      },
      "source": [
        "#  Write a function to return the nth Fibonacci number using recursion.\n",
        "#  Remember: f(n) = f(n - 1) + f(n - 2)\n",
        "\n",
        "def fibonacci(n: int) -> int:\n",
        "  \"\"\" Return the nth Fibonacci number. \"\"\"\n",
        "  \n",
        "  if n == 0:\n",
        "    return 0\n",
        "  elif n == 1:\n",
        "    return 1\n",
        "  else:\n",
        "    return fibonacci(n - 1) + fibonacci(n - 2)\n",
        "\n",
        "print(fibonacci(6))"
      ],
      "execution_count": 0,
      "outputs": [
        {
          "output_type": "stream",
          "text": [
            "8\n"
          ],
          "name": "stdout"
        }
      ]
    },
    {
      "cell_type": "code",
      "metadata": {
        "id": "KOBQ_jxE_No3",
        "colab_type": "code",
        "outputId": "91314095-024f-490a-fbdd-cdb32e2bb513",
        "colab": {
          "base_uri": "https://localhost:8080/",
          "height": 72
        }
      },
      "source": [
        "#  Write a recursive function to calculate the sum of digits of a decimal number.\n",
        "import random\n",
        "\n",
        "def sum_of_digits(n: int) -> int:\n",
        "  \"\"\" Return the sum of digits of a decimal number. \"\"\"\n",
        "  \n",
        "  if n == 0:\n",
        "    return 0\n",
        "  return  n % 10 + sum_of_digits(n // 10)\n",
        "\n",
        "n = random.randint(0, 10**950)    # n is a random integer from 0 to 10^100\n",
        "print(n)\n",
        "print(sum_of_digits(n))\n"
      ],
      "execution_count": 0,
      "outputs": [
        {
          "output_type": "stream",
          "text": [
            "11209606512493506750880926145507133407165783039612411114162308082427215061475230379383503285552788669892163155929500976138392608908697854833064118241990287457272494401073943911565831459553870201426928534349348482261960221821213623088347351882561634413460502973251843806479400170685380634798360291632530324696275241619732431613171208119601466958905638082471231396415946469760239721612566869158118514143442496857435737491700302129987662667806036664000235989828096406320691941300544753491593183699247688474176100590745898345944136539709218774688661708166474138087712027598778659899531639190691480675939069347905664157080483973308343657386690951493987548504719441642831967487040467791307934390770020567872101937199581437215814621079651731024477193586929470290094600968650302013116456709706980205351124515202244736987963970427392483327434790614410259502638251242230415415623097507047354332050904253058482315397593298859825659166738666021650477609018268244\n",
            "4183\n"
          ],
          "name": "stdout"
        }
      ]
    },
    {
      "cell_type": "code",
      "metadata": {
        "id": "r7E3Ut7N_rk_",
        "colab_type": "code",
        "outputId": "dd80d21d-ef1a-4fdc-bdab-ba1bd1c89cd0",
        "colab": {
          "base_uri": "https://localhost:8080/",
          "height": 90
        }
      },
      "source": [
        "#  Use the above function to quickly check if a (possibly large) number is divisible by 3 or not.\n",
        "import random\n",
        "\n",
        "def div_by_3(n: int) -> bool:\n",
        "  \"\"\" Return if n is divisible by 3. \"\"\"\n",
        "  \n",
        "  return sum_of_digits(n) % 3 == 0\n",
        "\n",
        "n = random.randint(0, 10**950)    # n is a random integer from 0 to 10^100\n",
        "print(n)\n",
        "print(sum_of_digits(n))\n",
        "print(div_by_3(n))\n"
      ],
      "execution_count": 0,
      "outputs": [
        {
          "output_type": "stream",
          "text": [
            "11100403667707985397340248363819871174775688759976454937583633552731582521418362357148771451600712280413130475821641408909205057361414779644498346119741691952174934242007403152190983908975432040462088745002472547065114875902221707639409544968382997900851682538912589988295608009375260847380859196253161920792939981451351070300775789453385007311442736824051377530220639863073253016883802880634835657238652757986866532968180206231998930121571611798117086064262604312586514527110836494981969229407616281277279481039142555269772917968589164572556764264026268089375509230634731779916319994650509811036765716235947597219337437513093401462095745572163427876755937922712717619610376757910429316298522010947296784762428244533269179588957982747836252159572712624843652461613097406248608072966459757777874973059826344269369217999465430386907819792617592512914740908678267208716181534764866270722833730802121353538732511408605505230526549666406124240839186106028\n",
            "4317\n",
            "True\n"
          ],
          "name": "stdout"
        }
      ]
    },
    {
      "cell_type": "markdown",
      "metadata": {
        "id": "5mFJB_tU7kyD",
        "colab_type": "text"
      },
      "source": [
        "#  Nested loops"
      ]
    },
    {
      "cell_type": "code",
      "metadata": {
        "id": "-iA9VDBr7nAN",
        "colab_type": "code",
        "outputId": "98d47f8f-e2c6-4dbc-9b78-980d4ee512b8",
        "colab": {
          "base_uri": "https://localhost:8080/",
          "height": 577
        }
      },
      "source": [
        "#  Write a script to print multiplication tables upto n\n",
        "\n",
        "#  Table for 1\n",
        "#  ===========\n",
        "#  1 * 1 = 1\n",
        "#  \n",
        "#  Table for 2\n",
        "#  ===========\n",
        "#  2 * 1 = 2\n",
        "#  2 * 2 = 4\n",
        "#  \n",
        "#  ...\n",
        "#  \n",
        "#  Table for n\n",
        "#  ===========\n",
        "#  n * 1 = n\n",
        "#  n * 2 = 2n\n",
        "#  ...\n",
        "#  n * n = n^2\n",
        "\n",
        "#  Hint: use nested for loops\n",
        "\n",
        "# n = int(input(\"Enter an integer: \"))\n",
        "n = 5\n",
        "\n",
        "for i in range(1, n+1):\n",
        "  print(\"Table for\", i)\n",
        "  print(\"============\")\n",
        "  for j in range(1, i+1):\n",
        "    print(i, \"*\", j, \"=\", i*j)\n",
        "  print()\n"
      ],
      "execution_count": 0,
      "outputs": [
        {
          "output_type": "stream",
          "text": [
            "Table for 1\n",
            "============\n",
            "1 * 1 = 1\n",
            "\n",
            "Table for 2\n",
            "============\n",
            "2 * 1 = 2\n",
            "2 * 2 = 4\n",
            "\n",
            "Table for 3\n",
            "============\n",
            "3 * 1 = 3\n",
            "3 * 2 = 6\n",
            "3 * 3 = 9\n",
            "\n",
            "Table for 4\n",
            "============\n",
            "4 * 1 = 4\n",
            "4 * 2 = 8\n",
            "4 * 3 = 12\n",
            "4 * 4 = 16\n",
            "\n",
            "Table for 5\n",
            "============\n",
            "5 * 1 = 5\n",
            "5 * 2 = 10\n",
            "5 * 3 = 15\n",
            "5 * 4 = 20\n",
            "5 * 5 = 25\n",
            "\n"
          ],
          "name": "stdout"
        }
      ]
    },
    {
      "cell_type": "markdown",
      "metadata": {
        "id": "gzaD8mM-BIvO",
        "colab_type": "text"
      },
      "source": [
        "#  Object `type`\n",
        "*  checking: `type`\n",
        "*  casting: `int`, `float`, `bool`, `str`"
      ]
    },
    {
      "cell_type": "code",
      "metadata": {
        "id": "d0Q2z4EzBUyQ",
        "colab_type": "code",
        "outputId": "3cf29282-94db-4484-ded0-a9cf9d6d4267",
        "colab": {
          "base_uri": "https://localhost:8080/",
          "height": 35
        }
      },
      "source": [
        "# type(1)\n",
        "# type(1.5)\n",
        "# type(True)\n",
        "type(\"random\")\n",
        "int(\"5\")"
      ],
      "execution_count": 0,
      "outputs": [
        {
          "output_type": "execute_result",
          "data": {
            "text/plain": [
              "5"
            ]
          },
          "metadata": {
            "tags": []
          },
          "execution_count": 12
        }
      ]
    },
    {
      "cell_type": "markdown",
      "metadata": {
        "id": "chgVdjZs6fzR",
        "colab_type": "text"
      },
      "source": [
        "#  String operations\n",
        "*  +\n",
        "*  *\n",
        "*  indexing\n",
        "*  negative indexing\n",
        "*  slicing\n",
        "*  :\n",
        "*  format()"
      ]
    },
    {
      "cell_type": "code",
      "metadata": {
        "id": "UJADfdlIbydD",
        "colab_type": "code",
        "outputId": "b83ab56d-8a28-4f52-a985-8b25d6009b7e",
        "colab": {
          "base_uri": "https://localhost:8080/",
          "height": 36
        }
      },
      "source": [
        "# \"I am Sudip \" + \"Sinha\"\n",
        "\"*\" * 10\n",
        "name = \"Sudip Sinha\"\n",
        "name[-2]\n",
        "\"My name is {} and my username is {}.\".format(name[0:5], name[0] + name[6:] + str(4))"
      ],
      "execution_count": 0,
      "outputs": [
        {
          "output_type": "execute_result",
          "data": {
            "text/plain": [
              "'My name is Sudip and my username is SSinha4.'"
            ]
          },
          "metadata": {
            "tags": []
          },
          "execution_count": 5
        }
      ]
    },
    {
      "cell_type": "code",
      "metadata": {
        "id": "SprYaQHuANta",
        "colab_type": "code",
        "outputId": "4c436847-64dc-4673-b07d-67ea8a03d642",
        "colab": {
          "base_uri": "https://localhost:8080/",
          "height": 111
        }
      },
      "source": [
        "#  Print the following pattern for n lines\n",
        "#  $\n",
        "#  $$\n",
        "#  $$$\n",
        "#  $$$$\n",
        "#  $$$$$\n",
        "#  Hint: try the * function on strings, e.g. \"x\" * 4 = ?\n",
        "\n",
        "number = int(input(\"Enter number: \"))\n",
        "\n",
        "for i in range(number + 1):\n",
        "  print(\"$\" * i)"
      ],
      "execution_count": 0,
      "outputs": [
        {
          "output_type": "stream",
          "text": [
            "Enter number: 3\n",
            "\n",
            "$\n",
            "$$\n",
            "$$$\n"
          ],
          "name": "stdout"
        }
      ]
    },
    {
      "cell_type": "code",
      "metadata": {
        "id": "JirSt0Vk7FMx",
        "colab_type": "code",
        "outputId": "af7c80d2-8850-4838-e6a9-8a71291b7ddc",
        "colab": {
          "base_uri": "https://localhost:8080/",
          "height": 148
        }
      },
      "source": [
        "#  Write a function to return a string with the following pattern for n lines:\n",
        "#  $\n",
        "#  $$\n",
        "#  $$$\n",
        "#  $$$$\n",
        "#  $$$$$\n",
        "#  Hint: In order to induce a line break, use '\\n'\n",
        "\n",
        "def pattern(n: int) -> str:\n",
        "  incr = \"\"\n",
        "  for i in range(number + 1):\n",
        "    incr += \"$\" * i + \"\\n\"\n",
        "  return incr[:-1]\n",
        "  \n",
        "number = int(input(\"Enter number: \"))\n",
        "print(pattern(5))\n"
      ],
      "execution_count": 0,
      "outputs": [
        {
          "output_type": "stream",
          "text": [
            "Enter number: 5\n",
            "\n",
            "$\n",
            "$$\n",
            "$$$\n",
            "$$$$\n",
            "$$$$$\n"
          ],
          "name": "stdout"
        }
      ]
    },
    {
      "cell_type": "code",
      "metadata": {
        "id": "KwSh8GyV8Z3-",
        "colab_type": "code",
        "colab": {}
      },
      "source": [
        "#  Write a function to return a string with the following pattern for n lines:\n",
        "\n",
        "#  1\n",
        "#  1 2\n",
        "#  1 2 3\n",
        "#  1 2 3 4\n",
        "#  1 2 3 4 5"
      ],
      "execution_count": 0,
      "outputs": []
    },
    {
      "cell_type": "code",
      "metadata": {
        "id": "DUYhOAVnCEiC",
        "colab_type": "code",
        "colab": {}
      },
      "source": [
        "#  Fizzbuzz variant\n",
        "#  Write a function which returns a string of fizz buzz horizontally.\n",
        "#  1, 2, Fizz, 4, Buzz, Fizz, 7, 8, Fizz, Buzz, 11, Fizz, 13, 14, Fizz Buzz, 16."
      ],
      "execution_count": 0,
      "outputs": []
    },
    {
      "cell_type": "markdown",
      "metadata": {
        "id": "gFnXDT6rox25",
        "colab_type": "text"
      },
      "source": [
        "##  Indexing and slicing"
      ]
    },
    {
      "cell_type": "code",
      "metadata": {
        "id": "mq1IXvGXo33E",
        "colab_type": "code",
        "outputId": "bbe39852-2c90-4313-b3f7-7ca52e1bd854",
        "colab": {
          "base_uri": "https://localhost:8080/",
          "height": 36
        }
      },
      "source": [
        "#  For finding the index of a character, use the index function\n",
        "email = 'ursula_the_coder@bad.programming.com'\n",
        "print(email.index('@'))"
      ],
      "execution_count": 0,
      "outputs": [
        {
          "output_type": "stream",
          "text": [
            "16\n"
          ],
          "name": "stdout"
        }
      ]
    },
    {
      "cell_type": "code",
      "metadata": {
        "id": "A2nGRWD-pOIu",
        "colab_type": "code",
        "outputId": "e35d34e2-42d8-4a47-bb37-e759c2c52b2a",
        "colab": {
          "base_uri": "https://localhost:8080/",
          "height": 73
        }
      },
      "source": [
        "#  To get a part of the string, use the : operatator\n",
        "email = 'ursula_the_coder@bad.programming.com'\n",
        "print(email[1:10])\n",
        "print(email[(email.index('@')+1):])\n",
        "print(email[:email.index('_')])"
      ],
      "execution_count": 0,
      "outputs": [
        {
          "output_type": "stream",
          "text": [
            "rsula_the\n",
            "bad.programming.com\n",
            "ursula\n"
          ],
          "name": "stdout"
        }
      ]
    },
    {
      "cell_type": "code",
      "metadata": {
        "id": "Ft5HvcfgosA7",
        "colab_type": "code",
        "colab": {}
      },
      "source": [
        "### Exercise - Sensitive Credit Card Numbers\n",
        "\n",
        "#  You are in charge of handling sensitive data.\n",
        "#  For each of these credit card numbers you need to replace the inner 8 digits with `*`s.\n",
        "#  For example, `4520 1234 5678 0001` should become `4520 **** **** 0001`.\n",
        "\n",
        "#  card1 = \"1234 5678 9876 5432\"\n",
        "#  card2 = \"5412 7501 2345 0987\"\n",
        "#  card3 = \"4000 1234 5678 9010\"\n"
      ],
      "execution_count": 0,
      "outputs": []
    },
    {
      "cell_type": "code",
      "metadata": {
        "id": "GsARmqDknFcQ",
        "colab_type": "code",
        "colab": {}
      },
      "source": [
        "#  Sensitive Email Adresses\n",
        "\n",
        "#  You are again in charge of handling sensitive email addresses.\n",
        "#  For each of these emails you need to replace the user name with 5 `*`s, except for the first letter.\n",
        "#  For example, `ursula_the_coder@bad.programming.com` should become `u*****@bad.programming.com`.\n",
        "#  Use the `.index()` method since the emails have different lengths.\n",
        "\n",
        "#  email1 = \"ada_lovelace@computing.uk\"\n",
        "#  email2 = \"grace.m.hopper@us.gov.com\"\n",
        "#  email3 = \"evelyn_boyd_granville@IBM.computing.com\""
      ],
      "execution_count": 0,
      "outputs": []
    },
    {
      "cell_type": "markdown",
      "metadata": {
        "id": "ubWp7YW2e0AG",
        "colab_type": "text"
      },
      "source": [
        "#  Base conversions"
      ]
    },
    {
      "cell_type": "code",
      "metadata": {
        "id": "rQY9IBXAe3Bd",
        "colab_type": "code",
        "outputId": "2a197710-0827-4117-b2b2-ae9b1243f151",
        "colab": {
          "base_uri": "https://localhost:8080/",
          "height": 353
        }
      },
      "source": [
        "#  Binary\n",
        "print(\"Binary\\n\" + \"=\" * 6)\n",
        "n = 0b110    #  To specify a number in binary, start the string with '0b'\n",
        "print(n)\n",
        "n_str = bin(6)   #  To print a number in binary, use the bin function\n",
        "print(n_str)\n",
        "print()\n",
        "\n",
        "#  Octal\n",
        "print(\"Octal\\n\" + \"=\" * 5)\n",
        "n = 0o110    #  To specify a number in octal, start the string with '0o'\n",
        "print(n)\n",
        "n_str = oct(6)   #  To print a number in octal, use the oct function\n",
        "print(n_str)\n",
        "print()\n",
        "\n",
        "#  Hexadecimal\n",
        "print(\"Hexadecimal\\n\" + \"=\" * 11)\n",
        "n = 0x110    #  To specify a number in hexadecimal, start the string with '0x'\n",
        "print(n)\n",
        "n_str = hex(6)   #  To print a number in hexadecimal, use the hex function\n",
        "print(n_str)\n",
        "print()\n",
        "\n",
        "\n",
        "#  Arbitrary base\n",
        "print(\"Arbitrary base\\n\" + \"=\" * 14)\n",
        "print(int('0401', 7))"
      ],
      "execution_count": 0,
      "outputs": [
        {
          "output_type": "stream",
          "text": [
            "Binary\n",
            "======\n",
            "6\n",
            "0b110\n",
            "\n",
            "Octal\n",
            "=====\n",
            "72\n",
            "0o6\n",
            "\n",
            "Hexadecimal\n",
            "===========\n",
            "272\n",
            "0x6\n",
            "\n",
            "Arbitrary base\n",
            "==============\n",
            "197\n"
          ],
          "name": "stdout"
        }
      ]
    },
    {
      "cell_type": "markdown",
      "metadata": {
        "id": "SfniEH8F7gEf",
        "colab_type": "text"
      },
      "source": [
        "#  Lists"
      ]
    },
    {
      "cell_type": "markdown",
      "metadata": {
        "id": "trXbXVLT5BRK",
        "colab_type": "text"
      },
      "source": [
        "## Declaration"
      ]
    },
    {
      "cell_type": "code",
      "metadata": {
        "id": "m3Cr-cOA5Eyp",
        "colab_type": "code",
        "outputId": "c60ff923-0073-4186-cfbf-bfb21deadfb0",
        "colab": {
          "base_uri": "https://localhost:8080/",
          "height": 73
        }
      },
      "source": [
        "empl_names = [\"Gavin\", \"Luci\", \"Rohin\", \"Sudip\"]\n",
        "empl_numbers = [9, 4, 1, 11]\n",
        "print(empl_names)\n",
        "print(empl_numbers)\n",
        "len(empl_numbers)\n",
        "\n",
        "#  Print employee numbers beside employee names.\n",
        "#  E.g.    11  Sudip\n",
        "\n",
        "#  Find the highest empl_number, i.e. 11 in this case\n",
        "\n",
        "#  Find the position of the highest empl_number, e.g. 3 in this case\n"
      ],
      "execution_count": 0,
      "outputs": [
        {
          "output_type": "stream",
          "text": [
            "['Gavin', 'Luci', 'Rohin', 'Sudip']\n",
            "[9, 4, 1, 11]\n"
          ],
          "name": "stdout"
        },
        {
          "output_type": "execute_result",
          "data": {
            "text/plain": [
              "4"
            ]
          },
          "metadata": {
            "tags": []
          },
          "execution_count": 25
        }
      ]
    },
    {
      "cell_type": "code",
      "metadata": {
        "id": "sXwDwFma5obz",
        "colab_type": "code",
        "outputId": "dc85c38b-fbc6-46a7-ea03-b187fb7fd59d",
        "colab": {
          "base_uri": "https://localhost:8080/",
          "height": 34
        }
      },
      "source": [
        "# Lists can contain numbers, Booleans, strings, and more lists!\n",
        "weird_list = [1, 2, \"three\", [\"inside\", \"list\"], True]\n",
        "print(weird_list)"
      ],
      "execution_count": 0,
      "outputs": [
        {
          "output_type": "stream",
          "text": [
            "[1, 2, 'three', ['inside', 'list'], True]\n"
          ],
          "name": "stdout"
        }
      ]
    },
    {
      "cell_type": "code",
      "metadata": {
        "id": "bmqrllTEiOBz",
        "colab_type": "code",
        "outputId": "c0dc119a-465d-4d99-d6f5-8f01b51596aa",
        "colab": {
          "base_uri": "https://localhost:8080/",
          "height": 148
        }
      },
      "source": [
        "#  Nested lists can be used to represent a grid\n",
        "tictactoe = [['x', 'o', 'x'], ['o', 'o', 'x'], ['o', 'x', 'x']]\n",
        "print(\"Default display: \", tictactoe)\n",
        "\n",
        "#  A better way to print\n",
        "print(\"\\nBetter display:\")\n",
        "str = ''\n",
        "for row in tictactoe:\n",
        "  for element in row:\n",
        "    str += element + \" \"\n",
        "  str += '\\n'\n",
        "print(str)"
      ],
      "execution_count": 0,
      "outputs": [
        {
          "output_type": "stream",
          "text": [
            "Default display:  [['x', 'o', 'x'], ['o', 'o', 'x'], ['o', 'x', 'x']]\n",
            "\n",
            "Better display:\n",
            "x o x \n",
            "o o x \n",
            "o x x \n",
            "\n"
          ],
          "name": "stdout"
        }
      ]
    },
    {
      "cell_type": "markdown",
      "metadata": {
        "id": "r4RAnzlh6G4O",
        "colab_type": "text"
      },
      "source": [
        "##  Indexing and slicing"
      ]
    },
    {
      "cell_type": "code",
      "metadata": {
        "id": "oKy9BDSPn_ZR",
        "colab_type": "code",
        "colab": {}
      },
      "source": [
        ""
      ],
      "execution_count": 0,
      "outputs": []
    },
    {
      "cell_type": "code",
      "metadata": {
        "id": "PmxjL3M_oPdz",
        "colab_type": "code",
        "colab": {}
      },
      "source": [
        ""
      ],
      "execution_count": 0,
      "outputs": []
    },
    {
      "cell_type": "markdown",
      "metadata": {
        "id": "4g1JSS8ICf9T",
        "colab_type": "text"
      },
      "source": [
        "##  Looping through lists"
      ]
    },
    {
      "cell_type": "markdown",
      "metadata": {
        "id": "W6P_t9K6Ct2h",
        "colab_type": "text"
      },
      "source": [
        "#  Miscellaneous topics"
      ]
    },
    {
      "cell_type": "code",
      "metadata": {
        "id": "jH9xk7HVCwmQ",
        "colab_type": "code",
        "outputId": "a6c68b72-29b8-4e95-cab2-16b350e8fc4c",
        "colab": {
          "base_uri": "https://localhost:8080/",
          "height": 70
        }
      },
      "source": [
        "#  Check the version of python\n",
        "import sys\n",
        "print(sys.version)\n",
        "print(sys.version_info)"
      ],
      "execution_count": 0,
      "outputs": [
        {
          "output_type": "stream",
          "text": [
            "3.6.7 (default, Oct 22 2018, 11:32:17) \n",
            "[GCC 8.2.0]\n",
            "sys.version_info(major=3, minor=6, micro=7, releaselevel='final', serial=0)\n"
          ],
          "name": "stdout"
        }
      ]
    },
    {
      "cell_type": "markdown",
      "metadata": {
        "id": "EYc3idswRo8o",
        "colab_type": "text"
      },
      "source": [
        "#  Projects"
      ]
    },
    {
      "cell_type": "code",
      "metadata": {
        "id": "cF5bqQ7QRrlN",
        "colab_type": "code",
        "colab": {
          "base_uri": "https://localhost:8080/",
          "height": 56
        },
        "outputId": "62f86dc4-1e39-40b9-bbe8-5a4f55a4ba57"
      },
      "source": [
        "#  Simulation of random tictactoe.\n",
        "#  Players: 0 and 1.\n",
        "\n",
        "\n",
        "from random import sample\n",
        "import numpy\n",
        "\n",
        "\n",
        "SIZE = 3\n",
        "DIGITS = range(SIZE * SIZE)\n",
        "UNPLAYED = -1\n",
        "\n",
        "\n",
        "def check(state: list) -> int:\n",
        "\t\n",
        "\twin = UNPLAYED\n",
        "\t\n",
        "\t#  Check rows and colums\n",
        "\tfor i in range(SIZE):\n",
        "\t\tif all(state[i, :] == 0) or all(state[:, i] == 0):\n",
        "\t\t\treturn 0\n",
        "\t\telif all(state[i, :] == 1) or all(state[:, i] == 1):\n",
        "\t\t\treturn 1\n",
        "\t\n",
        "\t#  Check diagonals\n",
        "\tif all(map(lambda n: n == 0, [state[0, 0], state[1, 1], state[2, 2]])):\n",
        "\t\treturn 0\n",
        "\telif all(map(lambda n: n == 1, [state[0, 0], state[1, 1], state[2, 2]])):\n",
        "\t\treturn 0\n",
        "\telif all(map(lambda n: n == 0, [state[0, -1], state[1, -2], state[2, -3]])):\n",
        "\t\treturn 1\n",
        "\telif all(map(lambda n: n == 1, [state[0, -1], state[1, -2], state[2, -3]])):\n",
        "\t\treturn 1\n",
        "\t\n",
        "\treturn UNPLAYED\n",
        "\t# if state[1, 1] == 1 and state[2, 2] == 1 and state[3, 3] == 1:\n",
        "\t# \twin = 1\n",
        "\t# elif state[1, -1] == 1 and state[2, 2] == 1 and state[3, 3] == 1\n",
        "\n",
        "def play():\n",
        "\tstate = numpy.array([[-1] * SIZE] * SIZE)\n",
        "\tsequence = sample(DIGITS, SIZE * SIZE)\n",
        "\t\n",
        "\tfor stage in range(SIZE * SIZE):\n",
        "\t\tstate[sequence[stage] // 3, sequence[stage] % 3] = stage % 2\n",
        "\t\twinner = check(state)\n",
        "\t\tif winner != UNPLAYED:\n",
        "\t\t\treturn (winner, stage)\n",
        "\twinner = check(state)\n",
        "\treturn (winner, stage)\n",
        "\n",
        "if __name__ == \"__main__\":\n",
        "\n",
        "\t#  Play the game\n",
        "\t# print(\"(winner, round)\")\n",
        "\t# print(\"\")\n",
        "\tfreq = [0] * 10\n",
        "\n",
        "\trepeat = 2 ** 16    # 65536\n",
        "\tfor expt in range(repeat):\n",
        "\t\tresult = play()\n",
        "\t\tif result[0] == 0:    # Player 0 wins\n",
        "\t\t\tfreq[result[1] - 4] += 1    # Start from position 0 for round 4\n",
        "\t\telif result[0] == 1:    # Player 1 wins\n",
        "\t\t\tfreq[5 + result[1] - 5] += 1    # Start from position 5 for round 5\n",
        "\t\telse:    # Draw\n",
        "\t\t\tfreq[9] += 1\n",
        "\n",
        "\tprob = list(map(lambda x: x/repeat, freq))\n",
        "\tdata = {\n",
        "\t\t'winner': [0] * 5 + [1] * 4 + [-1],\n",
        "\t\t'round': list(range(4, 9)) + list(range(5, 9)) + [8],\n",
        "\t\t'frequency': freq,\n",
        "\t\t'probability': prob\n",
        "\t}\n",
        "\tprint(data)"
      ],
      "execution_count": 72,
      "outputs": [
        {
          "output_type": "stream",
          "text": [
            "{'winner': [0, 0, 0, 0, 0, 1, 1, 1, 1, -1], 'round': [4, 5, 6, 7, 8, 5, 6, 7, 8, 8], 'frequency': [5455, 785, 15033, 2389, 13054, 5035, 2369, 10640, 2432, 8344], 'probability': [0.0832366943359375, 0.0119781494140625, 0.2293853759765625, 0.0364532470703125, 0.199188232421875, 0.0768280029296875, 0.0361480712890625, 0.162353515625, 0.037109375, 0.1273193359375]}\n"
          ],
          "name": "stdout"
        }
      ]
    },
    {
      "cell_type": "code",
      "metadata": {
        "id": "yyF-UR8IaQCW",
        "colab_type": "code",
        "colab": {
          "base_uri": "https://localhost:8080/",
          "height": 327
        },
        "outputId": "23f02a30-cf1a-44e2-b176-5f583e2fb4c5"
      },
      "source": [
        "import pandas\n",
        "import matplotlib.pyplot as plt\n",
        "\n",
        "plt.figure();\n",
        "\n",
        "idx = list(map(\n",
        "    lambda winner, round: \"(\" + str(winner) + \", \" + str(round) + \")\",\n",
        "    [0] * 5 + [1] * 4 + [-1],\n",
        "    list(range(4, 9)) + list(range(5, 9)) + [8]))\n",
        "\n",
        "df = pandas.DataFrame(data=data['probability'], index=idx)\n",
        "df.plot.bar()"
      ],
      "execution_count": 73,
      "outputs": [
        {
          "output_type": "execute_result",
          "data": {
            "text/plain": [
              "<matplotlib.axes._subplots.AxesSubplot at 0x7f95071798d0>"
            ]
          },
          "metadata": {
            "tags": []
          },
          "execution_count": 73
        },
        {
          "output_type": "display_data",
          "data": {
            "text/plain": [
              "<Figure size 432x288 with 0 Axes>"
            ]
          },
          "metadata": {
            "tags": []
          }
        },
        {
          "output_type": "display_data",
          "data": {
            "image/png": "[encoded data removed]",
            "text/plain": [
              "<Figure size 432x288 with 1 Axes>"
            ]
          },
          "metadata": {
            "tags": []
          }
        }
      ]
    }
  ]
}