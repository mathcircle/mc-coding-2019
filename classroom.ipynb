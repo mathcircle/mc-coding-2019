{
  "nbformat": 4,
  "nbformat_minor": 0,
  "metadata": {
    "colab": {
      "name": "classroom.ipynb",
      "version": "0.3.2",
      "provenance": [],
      "collapsed_sections": [],
      "include_colab_link": true
    },
    "kernelspec": {
      "name": "python3",
      "display_name": "Python 3"
    }
  },
  "cells": [
    {
      "cell_type": "markdown",
      "metadata": {
        "id": "view-in-github",
        "colab_type": "text"
      },
      "source": [
        "<a href=\"https://colab.research.google.com/github/mathcircle/mc-coding-2019/blob/master/classroom.ipynb\" target=\"_parent\"><img src=\"https://colab.research.google.com/assets/colab-badge.svg\" alt=\"Open In Colab\"/></a>"
      ]
    },
    {
      "cell_type": "markdown",
      "metadata": {
        "id": "-6Vcx_l4Z9iZ",
        "colab_type": "text"
      },
      "source": [
        "#  Information\n",
        "*  Code shared in https://github.com/mathcircle/mc-coding-2019\n",
        "*  We will use a simple online coding system located here: https://repl.it/languages/python3\n",
        "*  Python Documentation: https://docs.python.org/3/"
      ]
    },
    {
      "cell_type": "markdown",
      "metadata": {
        "id": "sghL07SVHFHL",
        "colab_type": "text"
      },
      "source": [
        "#  Topics covered\n",
        "*  2019-06-10: console input/output, operators (arithmetic, conditional, logical)\n",
        "*  2019-06-11: python documentation, comments, \n",
        "*  2019-06-12: Literals (numbers, string, logical)\n",
        "*  2019-06-13: Variables and types\n",
        "*  Operations (arithmetic, logical, string, lists)\n",
        "   *  Conditional operations (`<, >, <=, >=, ==, !=, is [not], [not] in`)\n",
        "   *  String operations (`3 * 'un' + 'ium', len, indexing: word[-2], word[2:4], word[:4`])\n"
      ]
    },
    {
      "cell_type": "markdown",
      "metadata": {
        "id": "DfgaK7L5aMRQ",
        "colab_type": "text"
      },
      "source": [
        "Learning to code is learning to *think* in a new way. It is similar to learning a language. You need to actually write to get a hang of things. Otherwise, you'll understand, but you'll forget most of it once the course is over."
      ]
    },
    {
      "cell_type": "markdown",
      "metadata": {
        "id": "F2nK73vIen02",
        "colab_type": "text"
      },
      "source": [
        "# Input and output"
      ]
    },
    {
      "cell_type": "code",
      "metadata": {
        "id": "NaWDErrLfbDr",
        "colab_type": "code",
        "outputId": "d3387320-1a13-4174-f126-04e523682f86",
        "colab": {
          "base_uri": "https://localhost:8080/",
          "height": 86
        }
      },
      "source": [
        "# You can print to the console using the in-built function `print`\n",
        "print(\"Hello World!\")    # Strings can either be enclosed in double quotes\n",
        "print('Hello world!')    # Or in single quotes\n",
        "print(42)    # Numbers can be of type integer\n",
        "print(10.3)    # Or of type float"
      ],
      "execution_count": 0,
      "outputs": [
        {
          "output_type": "stream",
          "text": [
            "Hello World!\n",
            "Hello world!\n",
            "42\n",
            "10.3\n"
          ],
          "name": "stdout"
        }
      ]
    },
    {
      "cell_type": "code",
      "metadata": {
        "id": "kRNxHHT0BbNp",
        "colab_type": "code",
        "outputId": "7285b17c-1eb8-455b-820c-be939d688586",
        "colab": {
          "base_uri": "https://localhost:8080/",
          "height": 69
        }
      },
      "source": [
        "# You can assign an number or string to a variable using the assingment operator =.\n",
        "str = input(\"Enter your name: \")\n",
        "print(str)\n",
        "str = \"Some other name\"    # variable contents may change throughout the program.\n",
        "print(str)"
      ],
      "execution_count": 0,
      "outputs": [
        {
          "output_type": "stream",
          "text": [
            "Enter your name: Sudip\n",
            "Sudip\n",
            "some other name\n"
          ],
          "name": "stdout"
        }
      ]
    },
    {
      "cell_type": "markdown",
      "metadata": {
        "id": "MClijaL9efRM",
        "colab_type": "text"
      },
      "source": [
        "# Operations: arithmetic, conditional, Boolean/logical"
      ]
    },
    {
      "cell_type": "markdown",
      "metadata": {
        "id": "idyIG-9GfAxN",
        "colab_type": "text"
      },
      "source": [
        "##  Arithmetic operations\n",
        "*  *Input*: numbers\n",
        "*  *Output*: number"
      ]
    },
    {
      "cell_type": "code",
      "metadata": {
        "id": "yZ6m9XirB1yj",
        "colab_type": "code",
        "outputId": "6c783077-7748-4e4a-fbbb-9aeaf476f130",
        "colab": {
          "base_uri": "https://localhost:8080/",
          "height": 136
        }
      },
      "source": [
        "# Arithmetic operations (`+, -, *, **, /, //, %`)\n",
        "print(4 - 3)\n",
        "print(4 * 3)\n",
        "print(4 ** 3)\n",
        "print(4 / 3)\n",
        "print(4 // 3)\n",
        "print(4 % 3)"
      ],
      "execution_count": 0,
      "outputs": [
        {
          "output_type": "stream",
          "text": [
            "7\n",
            "1\n",
            "12\n",
            "1.3333333333333333\n",
            "1\n",
            "1\n",
            "64\n"
          ],
          "name": "stdout"
        }
      ]
    },
    {
      "cell_type": "code",
      "metadata": {
        "id": "4cgC7QGKCDuc",
        "colab_type": "code",
        "outputId": "da1d916c-beaf-48e7-d70f-398bb610ea80",
        "colab": {
          "base_uri": "https://localhost:8080/",
          "height": 34
        }
      },
      "source": [
        "# Write a program to input a number and output the units digit and the tens digit\n",
        "num = int(input(\"Enter a two digit number: \"))\n",
        "units = num % 10\n",
        "tens = num % 100\n",
        "tens = tens // 10\n",
        "print(units)\n",
        "print(tens)"
      ],
      "execution_count": 0,
      "outputs": [
        {
          "output_type": "stream",
          "text": [
            "12\n"
          ],
          "name": "stdout"
        }
      ]
    },
    {
      "cell_type": "code",
      "metadata": {
        "id": "46I94tIBJMDd",
        "colab_type": "code",
        "outputId": "99cc8929-045a-48ab-b620-a047151feaf1",
        "colab": {
          "base_uri": "https://localhost:8080/",
          "height": 34
        }
      },
      "source": [
        "4 != 3"
      ],
      "execution_count": 0,
      "outputs": [
        {
          "output_type": "execute_result",
          "data": {
            "text/plain": [
              "True"
            ]
          },
          "metadata": {
            "tags": []
          },
          "execution_count": 23
        }
      ]
    },
    {
      "cell_type": "markdown",
      "metadata": {
        "id": "uos0o-VOgFGN",
        "colab_type": "text"
      },
      "source": [
        "##  Conditional operations\n",
        "*  *Input*: numbers\n",
        "*  *Output*: Boolean/logical"
      ]
    },
    {
      "cell_type": "code",
      "metadata": {
        "id": "rXljWV_qg3Wr",
        "colab_type": "code",
        "outputId": "9c51886f-ad4c-4ead-a191-074cc2f0af63",
        "colab": {
          "base_uri": "https://localhost:8080/",
          "height": 85
        }
      },
      "source": [
        "print(4 > 3)\n",
        "print(2 >= 2)\n",
        "print(1 + 1 == 2)\n",
        "print(23 // 10 != 2)"
      ],
      "execution_count": 0,
      "outputs": [
        {
          "output_type": "stream",
          "text": [
            "True\n",
            "True\n",
            "True\n",
            "False\n"
          ],
          "name": "stdout"
        }
      ]
    },
    {
      "cell_type": "markdown",
      "metadata": {
        "id": "eubH2hNNgxg4",
        "colab_type": "text"
      },
      "source": [
        "##  Boolean/logical operations\n",
        "*  *Input*: Boolean/logical\n",
        "*  *Output*: Boolean/logical"
      ]
    },
    {
      "cell_type": "code",
      "metadata": {
        "id": "CfDyXPLHKmLq",
        "colab_type": "code",
        "outputId": "0d298984-b794-435f-df88-5e26d45e77ba",
        "colab": {
          "base_uri": "https://localhost:8080/",
          "height": 85
        }
      },
      "source": [
        "print(True)\n",
        "print(not False)\n",
        "print(True and (4>3))\n",
        "print(True and False)"
      ],
      "execution_count": 0,
      "outputs": [
        {
          "output_type": "stream",
          "text": [
            "True\n",
            "True\n",
            "True\n",
            "False\n"
          ],
          "name": "stdout"
        }
      ]
    }
  ]
}