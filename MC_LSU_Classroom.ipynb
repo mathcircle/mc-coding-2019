{
  "nbformat": 4,
  "nbformat_minor": 0,
  "metadata": {
    "colab": {
      "name": "MC_LSU_Classroom.ipynb",
      "version": "0.3.2",
      "provenance": [],
      "collapsed_sections": [],
      "toc_visible": true,
      "include_colab_link": true
    },
    "kernelspec": {
      "name": "python3",
      "display_name": "Python 3"
    }
  },
  "cells": [
    {
      "cell_type": "markdown",
      "metadata": {
        "id": "view-in-github",
        "colab_type": "text"
      },
      "source": [
        "<a href=\"https://colab.research.google.com/github/mathcircle/mc-coding-2019/blob/master/MC_LSU_Classroom.ipynb\" target=\"_parent\"><img src=\"https://colab.research.google.com/assets/colab-badge.svg\" alt=\"Open In Colab\"/></a>"
      ]
    },
    {
      "cell_type": "markdown",
      "metadata": {
        "id": "-6Vcx_l4Z9iZ",
        "colab_type": "text"
      },
      "source": [
        "#  Information\n",
        "*  Code shared in https://github.com/mathcircle/mc-coding-2019\n",
        "*  We will use a simple online coding system located here: https://repl.it/languages/python3\n",
        "*  Python Documentation: https://docs.python.org/3/"
      ]
    },
    {
      "cell_type": "markdown",
      "metadata": {
        "id": "sghL07SVHFHL",
        "colab_type": "text"
      },
      "source": [
        "#  Topics covered\n",
        "*  2019-06-10: console input/output, operators (arithmetic, conditional, logical)\n",
        "*  2019-06-11: python documentation, comments, decisions, iterations\n",
        "*  2019-06-12: Literals (numbers, string, logical)\n",
        "*  2019-06-13: Variables and types\n",
        "*  Operations (arithmetic, logical, string, lists)\n",
        "   *  Conditional operations (`<, >, <=, >=, ==, !=, is [not], [not] in`)\n",
        "   *  String operations (`3 * 'un' + 'ium', len, indexing: word[-2], word[2:4], word[:4`])\n"
      ]
    },
    {
      "cell_type": "markdown",
      "metadata": {
        "id": "DfgaK7L5aMRQ",
        "colab_type": "text"
      },
      "source": [
        "Learning to code is learning to *think* in a new way. It is similar to learning a language. You need to actually write to get a hang of things. Otherwise, you'll understand, but you'll forget most of it once the course is over."
      ]
    },
    {
      "cell_type": "markdown",
      "metadata": {
        "id": "F2nK73vIen02",
        "colab_type": "text"
      },
      "source": [
        "# Input and output"
      ]
    },
    {
      "cell_type": "code",
      "metadata": {
        "id": "NaWDErrLfbDr",
        "colab_type": "code",
        "outputId": "e7d0d510-8ae8-40f3-cfee-f0a5b696542f",
        "colab": {
          "base_uri": "https://localhost:8080/",
          "height": 86
        }
      },
      "source": [
        "#  You can print to the console using the in-built function `print`\n",
        "print(\"Hello World!\")    # Strings can either be enclosed in double quotes\n",
        "print('Hello world!')    # Or in single quotes\n",
        "print(42)    # Numbers can be of type integer\n",
        "print(10.3)    # Or of type float"
      ],
      "execution_count": 0,
      "outputs": [
        {
          "output_type": "stream",
          "text": [
            "Hello World!\n",
            "Hello world!\n",
            "42\n",
            "10.3\n"
          ],
          "name": "stdout"
        }
      ]
    },
    {
      "cell_type": "code",
      "metadata": {
        "id": "kRNxHHT0BbNp",
        "colab_type": "code",
        "outputId": "141c915d-538f-4595-a2e4-6554aec01cd7",
        "colab": {
          "base_uri": "https://localhost:8080/",
          "height": 69
        }
      },
      "source": [
        "#  You can assign an number or string to a variable using the assingment operator =.\n",
        "#  Input a string from the user.\n",
        "name = input(\"Enter your name: \")\n",
        "print(name)\n",
        "name = \"Some other name\"    # Variable contents may change throughout the program.\n",
        "print(name)"
      ],
      "execution_count": 0,
      "outputs": [
        {
          "output_type": "stream",
          "text": [
            "Enter your name: Sudip Sinha\n",
            "Sudip Sinha\n",
            "Some other name\n"
          ],
          "name": "stdout"
        }
      ]
    },
    {
      "cell_type": "markdown",
      "metadata": {
        "id": "MClijaL9efRM",
        "colab_type": "text"
      },
      "source": [
        "# Operations: arithmetic, conditional, Boolean/logical"
      ]
    },
    {
      "cell_type": "markdown",
      "metadata": {
        "id": "idyIG-9GfAxN",
        "colab_type": "text"
      },
      "source": [
        "##  Arithmetic operations\n",
        "*  *Input*: numbers\n",
        "*  *Output*: number"
      ]
    },
    {
      "cell_type": "code",
      "metadata": {
        "id": "yZ6m9XirB1yj",
        "colab_type": "code",
        "outputId": "ce40a082-6578-40cd-8ad7-39e8309bd859",
        "colab": {
          "base_uri": "https://localhost:8080/",
          "height": 121
        }
      },
      "source": [
        "# Arithmetic operations (+, -, *, **, /, //, %)\n",
        "print(4 - 3)\n",
        "print(4 * 3)\n",
        "print(4 ** 3)\n",
        "print(4 / 3)\n",
        "print(4 // 3)\n",
        "print(4 % 3)"
      ],
      "execution_count": 0,
      "outputs": [
        {
          "output_type": "stream",
          "text": [
            "1\n",
            "12\n",
            "64\n",
            "1.3333333333333333\n",
            "1\n",
            "1\n"
          ],
          "name": "stdout"
        }
      ]
    },
    {
      "cell_type": "code",
      "metadata": {
        "id": "4cgC7QGKCDuc",
        "colab_type": "code",
        "outputId": "596fae3f-6763-4dc9-c512-3b54486532d3",
        "colab": {
          "base_uri": "https://localhost:8080/",
          "height": 69
        }
      },
      "source": [
        "# Write a program to input a number and output the units digit and the tens digit\n",
        "num = int(input(\"Enter a two digit number: \"))\n",
        "units = num % 10\n",
        "tens = num % 100\n",
        "tens = tens // 10\n",
        "print(units)\n",
        "print(tens)"
      ],
      "execution_count": 0,
      "outputs": [
        {
          "output_type": "stream",
          "text": [
            "Enter a two digit number: 42\n",
            "2\n",
            "4\n"
          ],
          "name": "stdout"
        }
      ]
    },
    {
      "cell_type": "code",
      "metadata": {
        "id": "46I94tIBJMDd",
        "colab_type": "code",
        "outputId": "0258f770-b943-4222-a67b-66fec662d5d2",
        "colab": {
          "base_uri": "https://localhost:8080/",
          "height": 35
        }
      },
      "source": [
        "4 != 3"
      ],
      "execution_count": 0,
      "outputs": [
        {
          "output_type": "execute_result",
          "data": {
            "text/plain": [
              "True"
            ]
          },
          "metadata": {
            "tags": []
          },
          "execution_count": 5
        }
      ]
    },
    {
      "cell_type": "markdown",
      "metadata": {
        "id": "uos0o-VOgFGN",
        "colab_type": "text"
      },
      "source": [
        "##  Conditional operations\n",
        "*  *Input*: numbers\n",
        "*  *Output*: Boolean/logical"
      ]
    },
    {
      "cell_type": "code",
      "metadata": {
        "id": "rXljWV_qg3Wr",
        "colab_type": "code",
        "outputId": "ae37a3ff-33c8-4ee8-c819-d1eccf4d659c",
        "colab": {
          "base_uri": "https://localhost:8080/",
          "height": 86
        }
      },
      "source": [
        "print(4 > 3)\n",
        "print(2 >= 2)\n",
        "print(1 + 1 == 2)\n",
        "print(23 // 10 != 2)"
      ],
      "execution_count": 0,
      "outputs": [
        {
          "output_type": "stream",
          "text": [
            "True\n",
            "True\n",
            "True\n",
            "False\n"
          ],
          "name": "stdout"
        }
      ]
    },
    {
      "cell_type": "markdown",
      "metadata": {
        "id": "eubH2hNNgxg4",
        "colab_type": "text"
      },
      "source": [
        "##  Boolean/logical operations\n",
        "*  *Input*: Boolean/logical\n",
        "*  *Output*: Boolean/logical"
      ]
    },
    {
      "cell_type": "code",
      "metadata": {
        "id": "CfDyXPLHKmLq",
        "colab_type": "code",
        "outputId": "39907183-d8e2-475c-f5e8-4366996ce8ae",
        "colab": {
          "base_uri": "https://localhost:8080/",
          "height": 86
        }
      },
      "source": [
        "print(True)\n",
        "print(not False)\n",
        "print(True and (4>3))\n",
        "print(True and False)"
      ],
      "execution_count": 0,
      "outputs": [
        {
          "output_type": "stream",
          "text": [
            "True\n",
            "True\n",
            "True\n",
            "False\n"
          ],
          "name": "stdout"
        }
      ]
    },
    {
      "cell_type": "code",
      "metadata": {
        "id": "nuKkjksFCCmU",
        "colab_type": "code",
        "outputId": "4a28982e-4611-422f-fcb3-98d743e270d6",
        "colab": {
          "base_uri": "https://localhost:8080/",
          "height": 86
        }
      },
      "source": [
        "#  Input two numbers base and exponent and output base^exponent. Also print true when the result is even.\n",
        "base = int(input(\"Enter base: \"))\n",
        "exponent = int(input(\"Enter exponent: \"))\n",
        "result = base ** exponent\n",
        "print(result)\n",
        "print(result % 2 == 0)"
      ],
      "execution_count": 0,
      "outputs": [
        {
          "output_type": "stream",
          "text": [
            "Enter base: 2\n",
            "Enter exponent: 8\n",
            "256\n",
            "True\n"
          ],
          "name": "stdout"
        }
      ]
    },
    {
      "cell_type": "markdown",
      "metadata": {
        "id": "VrEQ47eX40fR",
        "colab_type": "text"
      },
      "source": [
        "#  Documentation, comments\n",
        "\n",
        "#  Making decisions"
      ]
    },
    {
      "cell_type": "markdown",
      "metadata": {
        "id": "o-7p2Xm0CsMt",
        "colab_type": "text"
      },
      "source": [
        "##  Flowcharts\n",
        "Linear vs non-linear flow"
      ]
    },
    {
      "cell_type": "markdown",
      "metadata": {
        "id": "9opHn9ZJCyPX",
        "colab_type": "text"
      },
      "source": [
        "##  Problems"
      ]
    },
    {
      "cell_type": "code",
      "metadata": {
        "id": "5RXHztl__IUn",
        "colab_type": "code",
        "outputId": "c380c232-3812-4fdb-a061-456cd18de76d",
        "colab": {
          "base_uri": "https://localhost:8080/",
          "height": 52
        }
      },
      "source": [
        "#  Input a user's points out of 100, and grade him according to the following:\n",
        "#    points >= 90: A\n",
        "#    80 <= points < 90: B\n",
        "#    70 <= points < 80: C\n",
        "#    60 <= points < 70: D\n",
        "#    points < 60: F\n",
        "\n",
        "points = int(input(\"Enter points: \"))\n",
        "if points < 0 or points > 100:\n",
        "  print(\"Invalid score. Scores must be between 0 and 100.\")\n",
        "elif points >= 90:\n",
        "  print(\"Grade: A\")\n",
        "elif points >= 80:\n",
        "  print(\"Grade: B\")\n",
        "elif points >= 70:\n",
        "  print(\"Grade: C\")\n",
        "elif points >= 60:\n",
        "  print(\"Grade: D\")\n",
        "else:\n",
        "  print(\"Grade: F\")"
      ],
      "execution_count": 0,
      "outputs": [
        {
          "output_type": "stream",
          "text": [
            "Enter points: 95\n",
            "Grade: A\n"
          ],
          "name": "stdout"
        }
      ]
    },
    {
      "cell_type": "code",
      "metadata": {
        "id": "HahUeBGsBaeE",
        "colab_type": "code",
        "outputId": "cd5afc51-0dfd-4a17-a42c-7beb72013d07",
        "colab": {
          "base_uri": "https://localhost:8080/",
          "height": 52
        }
      },
      "source": [
        "#  Input a number and output the absolute value of that number.\n",
        "num = float(input(\"Enter number: \"))\n",
        "if num < 0:\n",
        "  num = -num\n",
        "print(num)"
      ],
      "execution_count": 0,
      "outputs": [
        {
          "output_type": "stream",
          "text": [
            "Enter number: -47\n",
            "47.0\n"
          ],
          "name": "stdout"
        }
      ]
    },
    {
      "cell_type": "code",
      "metadata": {
        "id": "1CVfK0vLBhT8",
        "colab_type": "code",
        "outputId": "17ddd77e-273c-4001-be5f-570bb562c471",
        "colab": {
          "base_uri": "https://localhost:8080/",
          "height": 52
        }
      },
      "source": [
        "#  Print even or odd.\n",
        "num = int(input(\"Enter an integer: \"))\n",
        "if num % 2 == 0:\n",
        "  print(\"Even\")\n",
        "else:\n",
        "  print(\"Odd\")"
      ],
      "execution_count": 0,
      "outputs": [
        {
          "output_type": "stream",
          "text": [
            "Enter an integer: 42\n",
            "Even\n"
          ],
          "name": "stdout"
        }
      ]
    },
    {
      "cell_type": "markdown",
      "metadata": {
        "id": "EZXX-J0F7hor",
        "colab_type": "text"
      },
      "source": [
        "#  Iterations\n",
        "*  while\n",
        "*  range\n",
        "*  for"
      ]
    },
    {
      "cell_type": "markdown",
      "metadata": {
        "id": "Bf38B3dfE1-m",
        "colab_type": "text"
      },
      "source": [
        "###  While loops"
      ]
    },
    {
      "cell_type": "code",
      "metadata": {
        "id": "0B08o_0pFz4W",
        "colab_type": "code",
        "outputId": "5a530adc-1870-4613-c827-fde224182fb6",
        "colab": {
          "base_uri": "https://localhost:8080/",
          "height": 104
        }
      },
      "source": [
        "#  Print all numbers from 4 to 0.\n",
        "i = 4\n",
        "while i >= 0:\n",
        "  print(i)\n",
        "  i = i - 1"
      ],
      "execution_count": 0,
      "outputs": [
        {
          "output_type": "stream",
          "text": [
            "4\n",
            "3\n",
            "2\n",
            "1\n",
            "0\n"
          ],
          "name": "stdout"
        }
      ]
    },
    {
      "cell_type": "code",
      "metadata": {
        "id": "4mE08s6KUKt8",
        "colab_type": "code",
        "outputId": "5148262f-0acf-4c13-ba58-1d9677e88886",
        "colab": {
          "base_uri": "https://localhost:8080/",
          "height": 415
        }
      },
      "source": [
        "#  Print all the even natural numbers from 0 to n.\n",
        "limit = float(input(\"Enter limit: \"))\n",
        "i = 0\n",
        "while i <= limit:\n",
        "  print(i)\n",
        "  i = i + 2"
      ],
      "execution_count": 0,
      "outputs": [
        {
          "output_type": "stream",
          "text": [
            "Enter limit: 42\n",
            "0\n",
            "2\n",
            "4\n",
            "6\n",
            "8\n",
            "10\n",
            "12\n",
            "14\n",
            "16\n",
            "18\n",
            "20\n",
            "22\n",
            "24\n",
            "26\n",
            "28\n",
            "30\n",
            "32\n",
            "34\n",
            "36\n",
            "38\n",
            "40\n",
            "42\n"
          ],
          "name": "stdout"
        }
      ]
    },
    {
      "cell_type": "code",
      "metadata": {
        "id": "cGEY0Yw7D9v8",
        "colab_type": "code",
        "outputId": "9fa0ec69-0539-4c10-a11b-7d79c4041cb7",
        "colab": {
          "base_uri": "https://localhost:8080/",
          "height": 52
        }
      },
      "source": [
        "#  Print all the digits of a number in reverse.\n",
        "#  E.g. if the user enters 7231, print 1327.\n",
        "\n",
        "number = int(input(\"Enter number: \"))\n",
        "reverse = 0\n",
        "\n",
        "while number > 0:\n",
        "  units = number % 10\n",
        "  reverse = reverse * 10 + units\n",
        "  number = number // 10\n",
        "\n",
        "print(reverse)"
      ],
      "execution_count": 0,
      "outputs": [
        {
          "output_type": "stream",
          "text": [
            "Enter number: 8675330\n",
            "335768\n"
          ],
          "name": "stdout"
        }
      ]
    },
    {
      "cell_type": "markdown",
      "metadata": {
        "id": "ANq0rR0_Ed8l",
        "colab_type": "text"
      },
      "source": [
        "###  For loops and the range function"
      ]
    },
    {
      "cell_type": "code",
      "metadata": {
        "id": "YvlHY0gM_6A2",
        "colab_type": "code",
        "outputId": "9267b54a-9ec9-432b-bcf1-e0d4c17518d4",
        "colab": {
          "base_uri": "https://localhost:8080/",
          "height": 121
        }
      },
      "source": [
        "#  Print odd numbers from 1 to 11 using a for loop and range.\n",
        "for i in range(1, 12, 2):\n",
        "  print(i)"
      ],
      "execution_count": 0,
      "outputs": [
        {
          "output_type": "stream",
          "text": [
            "1\n",
            "3\n",
            "5\n",
            "7\n",
            "9\n",
            "11\n"
          ],
          "name": "stdout"
        }
      ]
    },
    {
      "cell_type": "code",
      "metadata": {
        "id": "2b5xNNw9AAR2",
        "colab_type": "code",
        "outputId": "3a7a71b3-229e-43d0-aebe-90e64d166153",
        "colab": {
          "base_uri": "https://localhost:8080/",
          "height": 570
        }
      },
      "source": [
        "#  Fizz buzz game (https://en.wikipedia.org/wiki/Fizz_buzz)\n",
        "#  Print numbers from 1 to 32 with the following restrictions.\n",
        "#  *  Any number divisible by 3 is replaced by the word fizz.\n",
        "#  *  Any number divisible by 5 is replaced by the word buzz.\n",
        "#  *  Numbers divisible by both 3 and 5 become fizz buzz.\n",
        "#  Sample output till 16: 1, 2, Fizz, 4, Buzz, Fizz, 7, 8, Fizz, Buzz, 11, Fizz, 13, 14, Fizz Buzz, 16\n",
        "\n",
        "for i in range(1, 33):\n",
        "  if i % 3 == 0 and i % 5 == 0:\n",
        "    print(\"Fizz Buzz\")\n",
        "  elif i % 3 == 0:\n",
        "    print(\"Fizz\")\n",
        "  elif i % 5 == 0:\n",
        "    print(\"Buzz\")\n",
        "  else:\n",
        "    print(i)"
      ],
      "execution_count": 0,
      "outputs": [
        {
          "output_type": "stream",
          "text": [
            "1\n",
            "2\n",
            "Fizz\n",
            "4\n",
            "Buzz\n",
            "Fizz\n",
            "7\n",
            "8\n",
            "Fizz\n",
            "Buzz\n",
            "11\n",
            "Fizz\n",
            "13\n",
            "14\n",
            "Fizz Buzz\n",
            "16\n",
            "17\n",
            "Fizz\n",
            "19\n",
            "Buzz\n",
            "Fizz\n",
            "22\n",
            "23\n",
            "Fizz\n",
            "Buzz\n",
            "26\n",
            "Fizz\n",
            "28\n",
            "29\n",
            "Fizz Buzz\n",
            "31\n",
            "32\n"
          ],
          "name": "stdout"
        }
      ]
    },
    {
      "cell_type": "code",
      "metadata": {
        "id": "zKjizHs8QwcG",
        "colab_type": "code",
        "outputId": "6079630e-7371-4ea5-bf6e-ec053b266325",
        "colab": {
          "base_uri": "https://localhost:8080/",
          "height": 52
        }
      },
      "source": [
        "#  Calculate n!\n",
        "\n",
        "number = int(input(\"Enter number: \"))\n",
        "fact = 1\n",
        "\n",
        "for i in range(2, number + 1):\n",
        "  fact = fact * i    # Introduce the op= variants\n",
        "\n",
        "print(fact)"
      ],
      "execution_count": 0,
      "outputs": [
        {
          "output_type": "stream",
          "text": [
            "Enter number: 6\n",
            "720\n"
          ],
          "name": "stdout"
        }
      ]
    },
    {
      "cell_type": "markdown",
      "metadata": {
        "id": "ytyhyWE77ZRu",
        "colab_type": "text"
      },
      "source": [
        "#  Functions\n",
        "\n",
        "Functions take input(s) and return an output\n",
        "\n",
        "_Syntax_:\n",
        "```python\n",
        "def NAME ([parameter1: type1, [parameter2: type2, [...]]]) ['->' output_type] ':'\n",
        "  \"\"\"This is a documentation comment\n",
        "      for the dummy function.\"\"\"\n",
        "  \n",
        "  # Do what you have to do\n",
        "  return return_object\n",
        "```"
      ]
    },
    {
      "cell_type": "code",
      "metadata": {
        "id": "WETqE-ze713u",
        "colab_type": "code",
        "outputId": "ed8f4a58-3276-467b-b0aa-98872b1b1568",
        "colab": {
          "base_uri": "https://localhost:8080/",
          "height": 35
        }
      },
      "source": [
        "#  Factorial\n",
        "\n",
        "def factorial(n: int) -> int:\n",
        "  \"\"\" Take a number and return its factorial.\n",
        "      The factorial is given by the formula n! = n * (n - 1) * ... * 2 \"\"\"\n",
        "  \n",
        "#   #  Check for bad input\n",
        "#   if n < 0:\n",
        "#     return -1\n",
        "  \n",
        "  fact = 1\n",
        "  for i in range(2, n+1):\n",
        "    fact *= i\n",
        "  return fact\n",
        "\n",
        "print(factorial(4))"
      ],
      "execution_count": 0,
      "outputs": [
        {
          "output_type": "stream",
          "text": [
            "24\n"
          ],
          "name": "stdout"
        }
      ]
    },
    {
      "cell_type": "code",
      "metadata": {
        "id": "MBzh11gl5rel",
        "colab_type": "code",
        "outputId": "c2bbd318-1f68-415a-bcf0-952b7995f5ec",
        "colab": {
          "base_uri": "https://localhost:8080/",
          "height": 35
        }
      },
      "source": [
        "#  Function to compute n choose k.\n",
        "def choose(n: int, k:int) -> int:\n",
        "  \"\"\" Take two integers and return C(n, k).\n",
        "      This is given by the formula C(n, k) = n! // (k! (n - k)!) \"\"\"\n",
        "  \n",
        "  return factorial(n) // (factorial(k) * factorial(n - k))\n",
        "\n",
        "print(choose(5, 2))"
      ],
      "execution_count": 0,
      "outputs": [
        {
          "output_type": "stream",
          "text": [
            "10\n"
          ],
          "name": "stdout"
        }
      ]
    },
    {
      "cell_type": "code",
      "metadata": {
        "id": "7or_PuswBYrX",
        "colab_type": "code",
        "outputId": "a1f7ac1a-7340-420c-ccae-0d5a32322bc1",
        "colab": {
          "base_uri": "https://localhost:8080/",
          "height": 35
        }
      },
      "source": [
        "#  Write a function (using iteration) to return the nth Fibonacci number\n",
        "#  0, 1, 1, 2, 3, 5, 8, 13, 21, ...\n",
        "\n",
        "def fibonacci(n: int) -> int:\n",
        "  \"\"\" Return the nth Fibonacci number. \"\"\"\n",
        "  \n",
        "  p = 1\n",
        "  q = 0\n",
        "  s = 0\n",
        "  \n",
        "  for i in range(n):\n",
        "    s = p + q\n",
        "    p = q\n",
        "    q = s\n",
        "    #  (s, p, q) = (p + q, q, s)\n",
        "  \n",
        "  return q\n",
        "\n",
        "print(fibonacci(6))"
      ],
      "execution_count": 0,
      "outputs": [
        {
          "output_type": "stream",
          "text": [
            "8\n"
          ],
          "name": "stdout"
        }
      ]
    },
    {
      "cell_type": "code",
      "metadata": {
        "id": "BUUjJ6fBC7kp",
        "colab_type": "code",
        "outputId": "a5101461-bf8d-42e3-d3e7-0540c3a3a6af",
        "colab": {
          "base_uri": "https://localhost:8080/",
          "height": 52
        }
      },
      "source": [
        "#  Write a function to reverse the digits of a decimal number.\n",
        "#  E.g. if the user enters 7231, print 1327.\n",
        "\n",
        "\n",
        "def num_reverse(n: int) -> int:\n",
        "  \"\"\" Reverses the digits of a decimal number \"\"\"\n",
        "  \n",
        "  reverse = 0\n",
        "  \n",
        "  while n > 0:\n",
        "    units = n % 10\n",
        "    reverse = reverse * 10 + units\n",
        "    n //= 10\n",
        "  \n",
        "  return reverse\n",
        "\n",
        "#  Execute the program\n",
        "number = int(input(\"Enter number: \"))\n",
        "print(num_reverse(number))"
      ],
      "execution_count": 0,
      "outputs": [
        {
          "output_type": "stream",
          "text": [
            "Enter number: 97502384058\n",
            "85048320579\n"
          ],
          "name": "stdout"
        }
      ]
    },
    {
      "cell_type": "code",
      "metadata": {
        "id": "Pm5gex4lECiI",
        "colab_type": "code",
        "outputId": "6cf633f0-1da4-41de-eeff-dc5917e73243",
        "colab": {
          "base_uri": "https://localhost:8080/",
          "height": 52
        }
      },
      "source": [
        "#  Write a function called is_prime to check if the argument is prime or not.\n",
        "#  Your return should be a Boolean.\n",
        "\n",
        "def is_prime(n: int) -> bool:\n",
        "  if n % 2 == 0:\n",
        "    return False\n",
        "  for i in range(3, n, 2):\n",
        "    if n % i == 0:\n",
        "      return False\n",
        "  return True\n",
        "\n",
        "print(is_prime(int(input(\"Enter number: \"))))"
      ],
      "execution_count": 0,
      "outputs": [
        {
          "output_type": "stream",
          "text": [
            "Enter number: 42\n",
            "False\n"
          ],
          "name": "stdout"
        }
      ]
    },
    {
      "cell_type": "code",
      "metadata": {
        "id": "So7npnIEGm0h",
        "colab_type": "code",
        "colab": {}
      },
      "source": [
        "#  Write a function to return a string containing the following pattern for n lines.\n",
        "#          $\n",
        "#        $   $\n",
        "#      $       $\n",
        "#    $           $\n",
        "#  $               $\n",
        "#    $           $\n",
        "#      $       $\n",
        "#        $   $\n",
        "#          $"
      ],
      "execution_count": 0,
      "outputs": []
    },
    {
      "cell_type": "markdown",
      "metadata": {
        "id": "X05QpnLGGpxK",
        "colab_type": "text"
      },
      "source": [
        "####  Write a Python function to check whether a number is perfect or not.\n",
        "\n",
        "*Definition*: In number theory, a _perfect number_ is a positive integer that is equal to the sum of its positive divisors excluding the number itself. \n",
        "\n",
        "*Example*: The first perfect number is 6, because 1, 2, and 3 are its proper positive divisors, and 1 + 2 + 3 = 6. Equivalently, the number 6 is equal to half the sum of all its positive divisors: ( 1 + 2 + 3 + 6 ) / 2 = 6. The next perfect number is 28 = 1 + 2 + 4 + 7 + 14.\n",
        "\n",
        "####  Find the first 4 perfect numbers."
      ]
    },
    {
      "cell_type": "markdown",
      "metadata": {
        "id": "CvNyqQFm7i4E",
        "colab_type": "text"
      },
      "source": [
        "#  Recursion\n",
        "*  Base case\n",
        "*  Recursion step\n",
        "*  Do NOT forget: the base case comes first\n",
        "*  Recursion vs induction\n",
        "*  Iteration vs recursion\n",
        "*  Meat: Towers of Hanoi"
      ]
    },
    {
      "cell_type": "code",
      "metadata": {
        "id": "jB51f1Ks70hb",
        "colab_type": "code",
        "outputId": "cce37de6-b0a8-408f-e627-e5d0e8436900",
        "colab": {
          "base_uri": "https://localhost:8080/",
          "height": 35
        }
      },
      "source": [
        "#  Write a function to return the factorial of n using recursion.\n",
        "#  Remember: n! = n * (n - 1)!\n",
        "\n",
        "def fact(n: int) -> int:\n",
        "  \"\"\" Calculates the factorial of an integer. \"\"\"\n",
        "\n",
        "  if n <= 1:\n",
        "    return 1\n",
        "  return n * fact(n - 1)\n",
        "\n",
        "print(fact(5))"
      ],
      "execution_count": 0,
      "outputs": [
        {
          "output_type": "stream",
          "text": [
            "120\n"
          ],
          "name": "stdout"
        }
      ]
    },
    {
      "cell_type": "code",
      "metadata": {
        "id": "0L9NzmO--6GO",
        "colab_type": "code",
        "outputId": "996344f1-e838-45cd-8bb4-defbf06826b2",
        "colab": {
          "base_uri": "https://localhost:8080/",
          "height": 35
        }
      },
      "source": [
        "#  Write a function to return the nth Fibonacci number using recursion.\n",
        "#  Remember: f(n) = f(n - 1) + f(n - 2)\n",
        "\n",
        "def fibonacci(n: int) -> int:\n",
        "  \"\"\" Return the nth Fibonacci number. \"\"\"\n",
        "  \n",
        "  if n == 0:\n",
        "    return 0\n",
        "  elif n == 1:\n",
        "    return 1\n",
        "  else:\n",
        "    return fibonacci(n - 1) + fibonacci(n - 2)\n",
        "\n",
        "print(fibonacci(6))"
      ],
      "execution_count": 0,
      "outputs": [
        {
          "output_type": "stream",
          "text": [
            "8\n"
          ],
          "name": "stdout"
        }
      ]
    },
    {
      "cell_type": "code",
      "metadata": {
        "id": "KOBQ_jxE_No3",
        "colab_type": "code",
        "outputId": "a2af28f3-9e6c-4760-dc33-0420b7f52e2d",
        "colab": {
          "base_uri": "https://localhost:8080/",
          "height": 72
        }
      },
      "source": [
        "#  Write a recursive function to calculate the sum of digits of a decimal number.\n",
        "import random\n",
        "\n",
        "def sum_of_digits(n: int) -> int:\n",
        "  \"\"\" Return the sum of digits of a decimal number. \"\"\"\n",
        "  \n",
        "  if n == 0:\n",
        "    return 0\n",
        "  return  n % 10 + sum_of_digits(n // 10)\n",
        "\n",
        "n = random.randint(0, 10**950)    # n is a random integer from 0 to 10^100\n",
        "print(n)\n",
        "print(sum_of_digits(n))\n"
      ],
      "execution_count": 0,
      "outputs": [
        {
          "output_type": "stream",
          "text": [
            "34700281788910992617432806885796950858386598900076933407965644092990394187849322014816702722579058129617638648988149497246927327959547858300916057980167291788645700010506286072517446094444205737309567242728444277793488803568810055767292340574300168801902915550697115044216733006762699179532581038418656610100769088369593297416607280724857446932098186664836310796349260646356768439442314999399067643172021154749773779596840784416149641493123998009640557186776895675045704083688661338787026784658329758757821934920435186068027353758558356381814489771559410360831125583862007786303779275226733675849469812827645890436562291849565718516103722728848588559478382038634826554049987573194307319727106606251124899596291312372351379792638781549798078131798715387866196221877331673810823169564770185888390906702375309722282521046910900747640140700061097521719593915445201583034878947300643990434378627692100644240312887235115272412597458908424311501176451419497\n",
            "4436\n"
          ],
          "name": "stdout"
        }
      ]
    },
    {
      "cell_type": "code",
      "metadata": {
        "id": "r7E3Ut7N_rk_",
        "colab_type": "code",
        "outputId": "50a75635-a9d0-4f21-cd3d-4f686bd73075",
        "colab": {
          "base_uri": "https://localhost:8080/",
          "height": 89
        }
      },
      "source": [
        "#  Use the above function to quickly check if a (possibly large) number is divisible by 3 or not.\n",
        "import random\n",
        "\n",
        "def div_by_3(n: int) -> bool:\n",
        "  \"\"\" Return if n is divisible by 3. \"\"\"\n",
        "  \n",
        "  return sum_of_digits(n) % 3 == 0\n",
        "\n",
        "n = random.randint(0, 10**950)    # n is a random integer from 0 to 10^100\n",
        "print(n)\n",
        "print(sum_of_digits(n))\n",
        "print(div_by_3(n))\n"
      ],
      "execution_count": 0,
      "outputs": [
        {
          "output_type": "stream",
          "text": [
            "91235318880234732862056490396636949297492388650861630867036404449158667936958577755283007318582623653054609267474005477081865354666828091213385022909937820773151963668551853816245939233043460249418388732734425903531470972125380462098372992176464055822242255215166997079011054052424861374853719854548171006200701103024609143058022893912994047296177564296969707181211791955468891375665417580763204195086266405698322691476710026184719554281512358698211519351812245679557265002878541468323473166201022254793352736356745992660517776342469104042065468835124677817452919103353059719765350939235199975276133926956253524908681251904424058997187979830083885192210572904821432365070997973185855952619932631993741061280499941796856473064693520144516815141889431129416073285943417716212774125322651309409889797490673462738316800374329172763563117076252255555414553101026303536439529857593681379652272539214081631292818016121939148354432509278597231181536176826894\n",
            "4239\n",
            "True\n"
          ],
          "name": "stdout"
        }
      ]
    },
    {
      "cell_type": "markdown",
      "metadata": {
        "id": "5mFJB_tU7kyD",
        "colab_type": "text"
      },
      "source": [
        "#  Nested loops"
      ]
    },
    {
      "cell_type": "code",
      "metadata": {
        "id": "-iA9VDBr7nAN",
        "colab_type": "code",
        "outputId": "b76e0167-c38f-4e47-f198-a46693a86eb4",
        "colab": {
          "base_uri": "https://localhost:8080/",
          "height": 535
        }
      },
      "source": [
        "#  Write a script to print multiplication tables upto n\n",
        "\n",
        "#  Table for 1\n",
        "#  ===========\n",
        "#  1 * 1 = 1\n",
        "#  \n",
        "#  Table for 2\n",
        "#  ===========\n",
        "#  2 * 1 = 2\n",
        "#  2 * 2 = 4\n",
        "#  \n",
        "#  ...\n",
        "#  \n",
        "#  Table for n\n",
        "#  ===========\n",
        "#  n * 1 = n\n",
        "#  n * 2 = 2n\n",
        "#  ...\n",
        "#  n * n = n^2\n",
        "\n",
        "#  Hint: use nested for loops\n",
        "\n",
        "# n = int(input(\"Enter an integer: \"))\n",
        "n = 5\n",
        "\n",
        "for i in range(1, n+1):\n",
        "  print(\"Table for\", i)\n",
        "  print(\"============\")\n",
        "  for j in range(1, i+1):\n",
        "    print(i, \"*\", j, \"=\", i*j)\n",
        "  print()\n"
      ],
      "execution_count": 0,
      "outputs": [
        {
          "output_type": "stream",
          "text": [
            "Table for 1\n",
            "============\n",
            "1 * 1 = 1\n",
            "\n",
            "Table for 2\n",
            "============\n",
            "2 * 1 = 2\n",
            "2 * 2 = 4\n",
            "\n",
            "Table for 3\n",
            "============\n",
            "3 * 1 = 3\n",
            "3 * 2 = 6\n",
            "3 * 3 = 9\n",
            "\n",
            "Table for 4\n",
            "============\n",
            "4 * 1 = 4\n",
            "4 * 2 = 8\n",
            "4 * 3 = 12\n",
            "4 * 4 = 16\n",
            "\n",
            "Table for 5\n",
            "============\n",
            "5 * 1 = 5\n",
            "5 * 2 = 10\n",
            "5 * 3 = 15\n",
            "5 * 4 = 20\n",
            "5 * 5 = 25\n",
            "\n"
          ],
          "name": "stdout"
        }
      ]
    },
    {
      "cell_type": "markdown",
      "metadata": {
        "id": "chgVdjZs6fzR",
        "colab_type": "text"
      },
      "source": [
        "#  String operations\n",
        "*  +\n",
        "*  *\n",
        "*  indexing\n",
        "*  negative indexing\n",
        "*  slicing\n",
        "*  :\n",
        "*  format()"
      ]
    },
    {
      "cell_type": "code",
      "metadata": {
        "id": "UJADfdlIbydD",
        "colab_type": "code",
        "outputId": "e78bf6bd-e8e2-4528-ab87-caeb09d7b197",
        "colab": {
          "base_uri": "https://localhost:8080/",
          "height": 35
        }
      },
      "source": [
        "# \"I am Sudip \" + \"Sinha\"\n",
        "\"*\" * 10\n",
        "name = \"Sudip Sinha\"\n",
        "name[-2]\n",
        "\"My name is {} and my username is {}.\".format(name[0:5], name[0] + name[6:] + str(4))"
      ],
      "execution_count": 0,
      "outputs": [
        {
          "output_type": "execute_result",
          "data": {
            "text/plain": [
              "'My name is Sudip and my username is SSinha4.'"
            ]
          },
          "metadata": {
            "tags": []
          },
          "execution_count": 29
        }
      ]
    },
    {
      "cell_type": "code",
      "metadata": {
        "id": "SprYaQHuANta",
        "colab_type": "code",
        "outputId": "09bf70b1-6146-4bd8-c5bb-7a75711d917b",
        "colab": {
          "base_uri": "https://localhost:8080/",
          "height": 121
        }
      },
      "source": [
        "#  Print the following pattern for n lines\n",
        "#  $\n",
        "#  $$\n",
        "#  $$$\n",
        "#  $$$$\n",
        "#  $$$$$\n",
        "#  Hint: try the * function on strings, e.g. \"x\" * 4 = ?\n",
        "\n",
        "number = int(input(\"Enter number: \"))\n",
        "\n",
        "for i in range(number + 1):\n",
        "  print(\"$\" * i)"
      ],
      "execution_count": 0,
      "outputs": [
        {
          "output_type": "stream",
          "text": [
            "Enter number: 4\n",
            "\n",
            "$\n",
            "$$\n",
            "$$$\n",
            "$$$$\n"
          ],
          "name": "stdout"
        }
      ]
    },
    {
      "cell_type": "code",
      "metadata": {
        "id": "JirSt0Vk7FMx",
        "colab_type": "code",
        "outputId": "86aa6dd4-9040-4552-c66f-0ac2037ad2a2",
        "colab": {
          "base_uri": "https://localhost:8080/",
          "height": 138
        }
      },
      "source": [
        "#  Write a function to return a string with the following pattern for n lines:\n",
        "#  $\n",
        "#  $$\n",
        "#  $$$\n",
        "#  $$$$\n",
        "#  $$$$$\n",
        "#  Hint: In order to induce a line break, use '\\n'\n",
        "\n",
        "def pattern(n: int) -> str:\n",
        "  incr = \"\"\n",
        "  for i in range(number + 1):\n",
        "    incr += \"$\" * i + \"\\n\"\n",
        "  return incr[:-1]\n",
        "  \n",
        "number = int(input(\"Enter number: \"))\n",
        "print(pattern(number))\n"
      ],
      "execution_count": 0,
      "outputs": [
        {
          "output_type": "stream",
          "text": [
            "Enter number: 5\n",
            "\n",
            "$\n",
            "$$\n",
            "$$$\n",
            "$$$$\n",
            "$$$$$\n"
          ],
          "name": "stdout"
        }
      ]
    },
    {
      "cell_type": "code",
      "metadata": {
        "id": "KwSh8GyV8Z3-",
        "colab_type": "code",
        "outputId": "f6987bd1-6d8e-449d-8fdd-2d56a52865dc",
        "colab": {
          "base_uri": "https://localhost:8080/",
          "height": 104
        }
      },
      "source": [
        "#  Write a function to return a string with the following pattern for n lines:\n",
        "\n",
        "#  1\n",
        "#  1 2\n",
        "#  1 2 3\n",
        "#  1 2 3 4\n",
        "#  1 2 3 4 5\n",
        "\n",
        "def staircase(n: int) -> str:\n",
        "  pattern = \"\"\n",
        "  for i in range(1, n + 1):\n",
        "    for j in range(1, i + 1):\n",
        "      pattern += str(j)\n",
        "    pattern += \"\\n\"\n",
        "  return pattern[:-1]    # Remove the last \\n\n",
        "\n",
        "print(staircase(5))"
      ],
      "execution_count": 0,
      "outputs": [
        {
          "output_type": "stream",
          "text": [
            "1\n",
            "12\n",
            "123\n",
            "1234\n",
            "12345\n"
          ],
          "name": "stdout"
        }
      ]
    },
    {
      "cell_type": "code",
      "metadata": {
        "id": "DUYhOAVnCEiC",
        "colab_type": "code",
        "colab": {}
      },
      "source": [
        "#  Fizzbuzz variant\n",
        "#  Write a function which returns a string of fizz buzz horizontally.\n",
        "#  1, 2, Fizz, 4, Buzz, Fizz, 7, 8, Fizz, Buzz, 11, Fizz, 13, 14, Fizz Buzz, 16."
      ],
      "execution_count": 0,
      "outputs": []
    },
    {
      "cell_type": "markdown",
      "metadata": {
        "id": "gFnXDT6rox25",
        "colab_type": "text"
      },
      "source": [
        "##  Indexing and slicing"
      ]
    },
    {
      "cell_type": "code",
      "metadata": {
        "id": "mq1IXvGXo33E",
        "colab_type": "code",
        "outputId": "25de6267-44e6-4ed5-e534-e38add18891c",
        "colab": {
          "base_uri": "https://localhost:8080/",
          "height": 35
        }
      },
      "source": [
        "#  For finding the index of a character, use the index function\n",
        "email = 'ursula_the_coder@bad.programming.com'\n",
        "print(email.index('@'))"
      ],
      "execution_count": 0,
      "outputs": [
        {
          "output_type": "stream",
          "text": [
            "16\n"
          ],
          "name": "stdout"
        }
      ]
    },
    {
      "cell_type": "code",
      "metadata": {
        "id": "A2nGRWD-pOIu",
        "colab_type": "code",
        "outputId": "02abab2e-1060-4f14-96be-e36e0db143f0",
        "colab": {
          "base_uri": "https://localhost:8080/",
          "height": 69
        }
      },
      "source": [
        "#  To get a part of the string, use the : operatator\n",
        "email = 'ursula_the_coder@bad.programming.com'\n",
        "print(email[1:10])\n",
        "print(email[(email.index('@')+1):])\n",
        "print(email[:email.index('_')])"
      ],
      "execution_count": 0,
      "outputs": [
        {
          "output_type": "stream",
          "text": [
            "rsula_the\n",
            "bad.programming.com\n",
            "ursula\n"
          ],
          "name": "stdout"
        }
      ]
    },
    {
      "cell_type": "code",
      "metadata": {
        "id": "Ft5HvcfgosA7",
        "colab_type": "code",
        "colab": {}
      },
      "source": [
        "### Exercise - Sensitive Credit Card Numbers\n",
        "\n",
        "#  You are in charge of handling sensitive data.\n",
        "#  For each of these credit card numbers you need to replace the inner 8 digits with `*`s.\n",
        "#  For example, `4520 1234 5678 0001` should become `4520 **** **** 0001`.\n",
        "\n",
        "#  card1 = \"1234 5678 9876 5432\"\n",
        "#  card2 = \"5412 7501 2345 0987\"\n",
        "#  card3 = \"4000 1234 5678 9010\"\n"
      ],
      "execution_count": 0,
      "outputs": []
    },
    {
      "cell_type": "code",
      "metadata": {
        "id": "GsARmqDknFcQ",
        "colab_type": "code",
        "colab": {}
      },
      "source": [
        "#  Sensitive Email Adresses\n",
        "\n",
        "#  You are again in charge of handling sensitive email addresses.\n",
        "#  For each of these emails you need to replace the user name with 5 `*`s, except for the first letter.\n",
        "#  For example, `ursula_the_coder@bad.programming.com` should become `u*****@bad.programming.com`.\n",
        "#  Use the `.index()` method since the emails have different lengths.\n",
        "\n",
        "#  email1 = \"ada_lovelace@computing.uk\"\n",
        "#  email2 = \"grace.m.hopper@us.gov.com\"\n",
        "#  email3 = \"evelyn_boyd_granville@IBM.computing.com\""
      ],
      "execution_count": 0,
      "outputs": []
    },
    {
      "cell_type": "markdown",
      "metadata": {
        "id": "ubWp7YW2e0AG",
        "colab_type": "text"
      },
      "source": [
        "#  Object type and representation (base)"
      ]
    },
    {
      "cell_type": "markdown",
      "metadata": {
        "id": "zSXU6iOLqnUG",
        "colab_type": "text"
      },
      "source": [
        "##  Checking the type of an object"
      ]
    },
    {
      "cell_type": "code",
      "metadata": {
        "id": "R1ZajPhtqPed",
        "colab_type": "code",
        "outputId": "f76ad357-11e4-4ee6-abd2-3a99b1b1d712",
        "colab": {
          "base_uri": "https://localhost:8080/",
          "height": 104
        }
      },
      "source": [
        "#  To get the type of an object, we use the function `type` \n",
        "print(type(1))\n",
        "print(type(1.5))\n",
        "print(type(True))\n",
        "print(type(\"random\"))\n",
        "print(type(int(\"5\")))"
      ],
      "execution_count": 0,
      "outputs": [
        {
          "output_type": "stream",
          "text": [
            "<class 'int'>\n",
            "<class 'float'>\n",
            "<class 'bool'>\n",
            "<class 'str'>\n",
            "<class 'int'>\n"
          ],
          "name": "stdout"
        }
      ]
    },
    {
      "cell_type": "markdown",
      "metadata": {
        "id": "0Fomfo-NquH9",
        "colab_type": "text"
      },
      "source": [
        "##  Base conversions"
      ]
    },
    {
      "cell_type": "code",
      "metadata": {
        "id": "rQY9IBXAe3Bd",
        "colab_type": "code",
        "outputId": "8f736c39-4678-49e4-c9a9-5ed8bd1c42d6",
        "colab": {
          "base_uri": "https://localhost:8080/",
          "height": 328
        }
      },
      "source": [
        "#  Binary\n",
        "print(\"Binary\\n\" + \"=\" * 6)\n",
        "n = 0b110    #  To specify a number in binary, start the string with '0b'\n",
        "print(n)\n",
        "n_str = bin(6)   #  To print a number in binary, use the bin function\n",
        "print(n_str)\n",
        "print()\n",
        "\n",
        "#  Octal\n",
        "print(\"Octal\\n\" + \"=\" * 5)\n",
        "n = 0o110    #  To specify a number in octal, start the string with '0o'\n",
        "print(n)\n",
        "n_str = oct(6)   #  To print a number in octal, use the oct function\n",
        "print(n_str)\n",
        "print()\n",
        "\n",
        "#  Hexadecimal\n",
        "print(\"Hexadecimal\\n\" + \"=\" * 11)\n",
        "n = 0x110    #  To specify a number in hexadecimal, start the string with '0x'\n",
        "print(n)\n",
        "n_str = hex(6)   #  To print a number in hexadecimal, use the hex function\n",
        "print(n_str)\n",
        "print()\n",
        "\n",
        "\n",
        "#  Arbitrary base\n",
        "print(\"Arbitrary base\\n\" + \"=\" * 14)\n",
        "print(int('0401', 7))"
      ],
      "execution_count": 0,
      "outputs": [
        {
          "output_type": "stream",
          "text": [
            "Binary\n",
            "======\n",
            "6\n",
            "0b110\n",
            "\n",
            "Octal\n",
            "=====\n",
            "72\n",
            "0o6\n",
            "\n",
            "Hexadecimal\n",
            "===========\n",
            "272\n",
            "0x6\n",
            "\n",
            "Arbitrary base\n",
            "==============\n",
            "197\n"
          ],
          "name": "stdout"
        }
      ]
    },
    {
      "cell_type": "markdown",
      "metadata": {
        "id": "OLjfX_4YrkKr",
        "colab_type": "text"
      },
      "source": [
        "#  Using Python libraries\n",
        "https://docs.python.org/3/library/"
      ]
    },
    {
      "cell_type": "code",
      "metadata": {
        "id": "SCKca34arQeW",
        "colab_type": "code",
        "outputId": "8ee3f7cd-cae8-4c8a-82d9-ee576f098af4",
        "colab": {
          "base_uri": "https://localhost:8080/",
          "height": 35
        }
      },
      "source": [
        "import math    # Use this to import the whole library into the workspace.\n",
        "\n",
        "print(math.sin(math.pi/2))"
      ],
      "execution_count": 0,
      "outputs": [
        {
          "output_type": "stream",
          "text": [
            "1.0\n"
          ],
          "name": "stdout"
        }
      ]
    },
    {
      "cell_type": "code",
      "metadata": {
        "id": "rtYZrFwxry9o",
        "colab_type": "code",
        "outputId": "beaba678-278f-4dd3-ce06-158fbbfaaa23",
        "colab": {
          "base_uri": "https://localhost:8080/",
          "height": 35
        }
      },
      "source": [
        "# Use this if you want to import just one function or variable from the library.\n",
        "from string import hexdigits\n",
        "\n",
        "print(hexdigits)"
      ],
      "execution_count": 0,
      "outputs": [
        {
          "output_type": "stream",
          "text": [
            "0123456789abcdefABCDEF\n"
          ],
          "name": "stdout"
        }
      ]
    },
    {
      "cell_type": "markdown",
      "metadata": {
        "id": "SfniEH8F7gEf",
        "colab_type": "text"
      },
      "source": [
        "#  Lists"
      ]
    },
    {
      "cell_type": "markdown",
      "metadata": {
        "id": "trXbXVLT5BRK",
        "colab_type": "text"
      },
      "source": [
        "## Declaration"
      ]
    },
    {
      "cell_type": "code",
      "metadata": {
        "id": "m3Cr-cOA5Eyp",
        "colab_type": "code",
        "outputId": "e34bf2b4-c2c9-440b-82f0-3ada5f75c03f",
        "colab": {
          "base_uri": "https://localhost:8080/",
          "height": 121
        }
      },
      "source": [
        "empl_names = [\"Gavin\", \"Luci\", \"Rohin\", \"Sudip\"]\n",
        "empl_numbers = [9, 4, 1, 11]\n",
        "print(empl_names)\n",
        "print(empl_numbers)\n",
        "\n",
        "#  Print employee numbers beside employee names.\n",
        "#  E.g.    Sudip    11\n",
        "for i in range(len(empl_numbers)):\n",
        "  print(empl_names[i], empl_numbers[i])"
      ],
      "execution_count": 0,
      "outputs": [
        {
          "output_type": "stream",
          "text": [
            "['Gavin', 'Luci', 'Rohin', 'Sudip']\n",
            "[9, 4, 1, 11]\n",
            "Gavin 9\n",
            "Luci 4\n",
            "Rohin 1\n",
            "Sudip 11\n"
          ],
          "name": "stdout"
        }
      ]
    },
    {
      "cell_type": "code",
      "metadata": {
        "id": "FH3hgBopjEuI",
        "colab_type": "code",
        "outputId": "d40aea5b-eb4c-43dc-d269-fed477af9016",
        "colab": {
          "base_uri": "https://localhost:8080/",
          "height": 52
        }
      },
      "source": [
        "#  Find the highest empl_number, i.e. 11 in this case\n",
        "#  Find the position of the highest empl_number, e.g. 3 in this case\n",
        "\n",
        "import random\n",
        "array = random.sample(range(2 ** 16), 16)\n",
        "print(\"Array generated = \", array)\n",
        "\n",
        "max = array[0]\n",
        "idx = 0\n",
        "for i in range(1, len(array)):\n",
        "  if max < array[i]:\n",
        "    max = array[i]\n",
        "    idx = i\n",
        "print(f\"The maximum is {max} at position {idx}.\")"
      ],
      "execution_count": 0,
      "outputs": [
        {
          "output_type": "stream",
          "text": [
            "Array generated =  [9038, 4161, 65468, 14518, 6310, 46824, 10453, 49135, 60954, 20147, 43447, 8863, 44720, 36760, 57088, 46101]\n",
            "The maximum is 65468 at position 2.\n"
          ],
          "name": "stdout"
        }
      ]
    },
    {
      "cell_type": "code",
      "metadata": {
        "id": "sXwDwFma5obz",
        "colab_type": "code",
        "outputId": "e3ee42c1-fc13-4982-b8ef-e6cde3f3c326",
        "colab": {
          "base_uri": "https://localhost:8080/",
          "height": 69
        }
      },
      "source": [
        "# Lists can contain numbers, Booleans, strings, and more lists!\n",
        "weird_list = [1, 2.5, \"three\", [\"inside\", \"list\"], True]\n",
        "print(weird_list)\n",
        "print(weird_list[3])\n",
        "print(weird_list[3][0])"
      ],
      "execution_count": 0,
      "outputs": [
        {
          "output_type": "stream",
          "text": [
            "[1, 2.5, 'three', ['inside', 'list'], True]\n",
            "['inside', 'list']\n",
            "inside\n"
          ],
          "name": "stdout"
        }
      ]
    },
    {
      "cell_type": "markdown",
      "metadata": {
        "id": "r4RAnzlh6G4O",
        "colab_type": "text"
      },
      "source": [
        "##  Indexing and slicing"
      ]
    },
    {
      "cell_type": "code",
      "metadata": {
        "id": "PdCNylQXs1Uc",
        "colab_type": "code",
        "outputId": "f0d04cb2-3fe5-46de-9ed4-4d698a324272",
        "colab": {
          "base_uri": "https://localhost:8080/",
          "height": 86
        }
      },
      "source": [
        "#  Lists have the same operations as strings (question: why?).\n",
        "vector = [0] * 3    # a 3 element vector\n",
        "matrix = [[0] * 3, [0] * 3, [0] * 3, [0] * 3]    # a 4x3 matrix\n",
        "print(vector)\n",
        "print(matrix)\n",
        "\n",
        "#  Modifying\n",
        "vector[0] = 1\n",
        "print(vector[0:2])\n",
        "\n",
        "matrix[1][2] = 4\n",
        "matrix[0][0] = 1\n",
        "print(matrix[:3])"
      ],
      "execution_count": 0,
      "outputs": [
        {
          "output_type": "stream",
          "text": [
            "[0, 0, 0]\n",
            "[[0, 0, 0], [0, 0, 0], [0, 0, 0], [0, 0, 0]]\n",
            "[1, 0]\n",
            "[[1, 0, 0], [0, 0, 4], [0, 0, 0]]\n"
          ],
          "name": "stdout"
        }
      ]
    },
    {
      "cell_type": "code",
      "metadata": {
        "id": "skTG_cdVuI1M",
        "colab_type": "code",
        "colab": {}
      },
      "source": [
        "#  Write a program to initialize a tic tac toe game.\n",
        "#  Ask the user for a move and mark it on the game."
      ],
      "execution_count": 0,
      "outputs": []
    },
    {
      "cell_type": "markdown",
      "metadata": {
        "id": "4g1JSS8ICf9T",
        "colab_type": "text"
      },
      "source": [
        "##  Looping through lists\n",
        "*  Using len()\n",
        "*  Directly"
      ]
    },
    {
      "cell_type": "code",
      "metadata": {
        "id": "siGtfh6hvyrA",
        "colab_type": "code",
        "outputId": "a1c628c5-f07e-4ab6-d98b-2b04a6c2df88",
        "colab": {
          "base_uri": "https://localhost:8080/",
          "height": 207
        }
      },
      "source": [
        "#  Nested lists can be used to represent a grid\n",
        "tictactoe = [['x', 'o', 'x'], ['o', 'o', 'x'], ['o', 'x', 'x']]\n",
        "print(\"Default display: \", tictactoe)\n",
        "\n",
        "#  A better way to print\n",
        "print(\"\\nBetter display (using enumeration): \")\n",
        "disp = ''\n",
        "for row_num in range(len(tictactoe)):\n",
        "  for col_num in range(len(tictactoe[row_num])):\n",
        "    disp += tictactoe[row_num][col_num] + \" \"\n",
        "  disp += '\\n'\n",
        "print(disp[:-1])\n",
        "\n",
        "#  Another better way to print\n",
        "print(\"\\nBetter display (using iterator): \")\n",
        "disp = ''\n",
        "for row in tictactoe:\n",
        "  for element in row:\n",
        "    disp += element + \" \"\n",
        "  disp += '\\n'\n",
        "print(disp[:-1])"
      ],
      "execution_count": 0,
      "outputs": [
        {
          "output_type": "stream",
          "text": [
            "Default display:  [['x', 'o', 'x'], ['o', 'o', 'x'], ['o', 'x', 'x']]\n",
            "\n",
            "Better display (using enumeration): \n",
            "x o x \n",
            "o o x \n",
            "o x x \n",
            "\n",
            "Better display (using iterator): \n",
            "x o x \n",
            "o o x \n",
            "o x x \n"
          ],
          "name": "stdout"
        }
      ]
    },
    {
      "cell_type": "code",
      "metadata": {
        "id": "K6l9bxJKvdt4",
        "colab_type": "code",
        "colab": {}
      },
      "source": [
        "#  Write a function to return the transpose of a matrix"
      ],
      "execution_count": 0,
      "outputs": []
    },
    {
      "cell_type": "markdown",
      "metadata": {
        "id": "drH_y3O0zPdZ",
        "colab_type": "text"
      },
      "source": [
        "##  Pointers\n",
        "https://snakify.org/en/lessons/two_dimensional_lists_arrays"
      ]
    },
    {
      "cell_type": "markdown",
      "metadata": {
        "id": "yj8ZPeJrq3pA",
        "colab_type": "text"
      },
      "source": [
        "##  Sorting and searching"
      ]
    },
    {
      "cell_type": "markdown",
      "metadata": {
        "id": "lcX74VYRLcr4",
        "colab_type": "text"
      },
      "source": [
        "##  Sequential search"
      ]
    },
    {
      "cell_type": "code",
      "metadata": {
        "id": "5LFWCuoUYBVy",
        "colab_type": "code",
        "colab": {
          "base_uri": "https://localhost:8080/",
          "height": 34
        },
        "outputId": "1836218b-2b00-478a-ef6d-4aff1e95ad2d"
      },
      "source": [
        "def sequential_search(lst: list, search: int) -> int:\n",
        "  for i in range(len(lst)):\n",
        "    if lst[i] == search:\n",
        "      return i\n",
        "  return None\n",
        "\n",
        "int_list = [36, 53, 117, 179, 187, 69, 237, 247, 218, 180, 84, 146, 93, 201, 70]\n",
        "search = 187\n",
        "print(sequential_search(int_list, search))"
      ],
      "execution_count": 4,
      "outputs": [
        {
          "output_type": "stream",
          "text": [
            "4\n"
          ],
          "name": "stdout"
        }
      ]
    },
    {
      "cell_type": "markdown",
      "metadata": {
        "id": "JjfcBYHpK9L7",
        "colab_type": "text"
      },
      "source": [
        "##  Binary search"
      ]
    },
    {
      "cell_type": "code",
      "metadata": {
        "id": "kGNyGSrtLuP-",
        "colab_type": "code",
        "outputId": "734e37ba-5708-48e2-ba9b-56188301663f",
        "colab": {
          "base_uri": "https://localhost:8080/",
          "height": 175
        }
      },
      "source": [
        "# The binary search algorithm.\n",
        "def binary_search(lst: list, search: int) -> int:\n",
        "\t\"\"\" Returns the index of search.\n",
        "\t    If not found, returns a large negative number. \"\"\"\n",
        "\tprint(f\"DEBUG: Searching for {search} in {lst}.\")    # Uncomment for debugging messages\n",
        "\tmid = len(lst) // 2\n",
        "\tif len(lst) == 0:\n",
        "\t\treturn (- 2**16 - 1)    # Not found. Return a large negative number\n",
        "\telif search == lst[mid]:    # Result found\n",
        "\t\treturn mid\n",
        "\telif search < lst[mid]:\n",
        "\t\treturn binary_search(lst[:mid], search)    # Choose the left half\n",
        "\telse:\n",
        "\t\treturn mid + 1 + binary_search(lst[mid+1:], search)    # Choose the right half\n",
        "\n",
        "\n",
        "#  Declare the list\n",
        "int_list = [36, 53, 117, 179, 187, 69, 237, 247, 218, 180, 84, 146, 93, 201, 70]\n",
        "print(f\"Original list: {int_list}\\n\")\n",
        "\n",
        "#  Sort the list\n",
        "sort_list = sorted(int_list)\n",
        "print(f\"Sorted list: {sort_list}\\n\")\n",
        "\n",
        "\n",
        "search = 187\n",
        "location = binary_search(sort_list, search)\n",
        "if location < 0:\n",
        "\tlocation = None\n",
        "print(f\"Location of {search} is {location}.\")"
      ],
      "execution_count": 2,
      "outputs": [
        {
          "output_type": "stream",
          "text": [
            "Original list: [36, 53, 117, 179, 187, 69, 237, 247, 218, 180, 84, 146, 93, 201, 70]\n",
            "\n",
            "Sorted list: [36, 53, 69, 70, 84, 93, 117, 146, 179, 180, 187, 201, 218, 237, 247]\n",
            "\n",
            "DEBUG: Searching for 187 in [36, 53, 69, 70, 84, 93, 117, 146, 179, 180, 187, 201, 218, 237, 247].\n",
            "DEBUG: Searching for 187 in [179, 180, 187, 201, 218, 237, 247].\n",
            "DEBUG: Searching for 187 in [179, 180, 187].\n",
            "DEBUG: Searching for 187 in [187].\n",
            "Location of 187 is 10.\n"
          ],
          "name": "stdout"
        }
      ]
    },
    {
      "cell_type": "markdown",
      "metadata": {
        "id": "0A5E-kSSK_KJ",
        "colab_type": "text"
      },
      "source": [
        "##  Bubble sort"
      ]
    },
    {
      "cell_type": "markdown",
      "metadata": {
        "id": "W6P_t9K6Ct2h",
        "colab_type": "text"
      },
      "source": [
        "#  Miscellaneous topics"
      ]
    },
    {
      "cell_type": "code",
      "metadata": {
        "id": "jH9xk7HVCwmQ",
        "colab_type": "code",
        "outputId": "35eb68a7-102c-48fb-dd61-9186d96dc914",
        "colab": {
          "base_uri": "https://localhost:8080/",
          "height": 69
        }
      },
      "source": [
        "#  Check the version of python\n",
        "import sys\n",
        "print(sys.version)\n",
        "print(sys.version_info)"
      ],
      "execution_count": 0,
      "outputs": [
        {
          "output_type": "stream",
          "text": [
            "3.6.8 (default, Jan 14 2019, 11:02:34) \n",
            "[GCC 8.0.1 20180414 (experimental) [trunk revision 259383]]\n",
            "sys.version_info(major=3, minor=6, micro=8, releaselevel='final', serial=0)\n"
          ],
          "name": "stdout"
        }
      ]
    },
    {
      "cell_type": "markdown",
      "metadata": {
        "id": "EYc3idswRo8o",
        "colab_type": "text"
      },
      "source": [
        "#  Projects"
      ]
    },
    {
      "cell_type": "markdown",
      "metadata": {
        "id": "AHRdIhc8vRRF",
        "colab_type": "text"
      },
      "source": [
        "##  Random tic tac toe\n",
        "* SIZE = 3 x 3\n",
        "* Players: 0 and 1\n",
        "* -1 represents both an untouched block and a drawn game"
      ]
    },
    {
      "cell_type": "code",
      "metadata": {
        "id": "cF5bqQ7QRrlN",
        "colab_type": "code",
        "outputId": "411c3a4f-f044-4007-bb65-8ef77b062f3d",
        "colab": {
          "base_uri": "https://localhost:8080/",
          "height": 486
        }
      },
      "source": [
        "#  Simulation of random tictactoe.\n",
        "#  Players: 0 and 1.\n",
        "\n",
        "from random import sample\n",
        "import numpy\n",
        "import pandas\n",
        "# import matplotlib.pyplot as plt\n",
        "\n",
        "\n",
        "SIZE = 3\n",
        "DIGITS = range(SIZE * SIZE)\n",
        "UNPLAYED = -1\n",
        "\n",
        "REPEAT = 2**16\n",
        "\n",
        "\n",
        "def check(state: list) -> int:\n",
        "\t\"\"\" Check which player has won \"\"\"\n",
        "\t\n",
        "\t#  Check rows and colums\n",
        "\tfor i in range(SIZE):\n",
        "\t\tif all(state[i, :] == 0) or all(state[:, i] == 0):\n",
        "\t\t\treturn 0\n",
        "\t\telif all(state[i, :] == 1) or all(state[:, i] == 1):\n",
        "\t\t\treturn 1\n",
        "\t\n",
        "\t#  Check diagonals\n",
        "\tif all(map(lambda n: n == 0, [state[0, 0], state[1, 1], state[2, 2]])):\n",
        "\t\treturn 0\n",
        "\telif all(map(lambda n: n == 1, [state[0, 0], state[1, 1], state[2, 2]])):\n",
        "\t\treturn 1\n",
        "\telif all(map(lambda n: n == 0, [state[0, -1], state[1, -2], state[2, -3]])):\n",
        "\t\treturn 0\n",
        "\telif all(map(lambda n: n == 1, [state[0, -1], state[1, -2], state[2, -3]])):\n",
        "\t\treturn 1\n",
        "\t\n",
        "\treturn UNPLAYED\n",
        "\n",
        "\n",
        "def play():\n",
        "\t\"\"\" Simulate a game. \"\"\"\n",
        "\n",
        "\tsequence = sample(DIGITS, SIZE * SIZE)\n",
        "\t# print(f\"DEBUG: sequence: {sequence}\")\n",
        "\tstate = numpy.array([[-1] * SIZE] * SIZE)\n",
        "\t\n",
        "\tfor stage in range(SIZE * SIZE):\n",
        "\t\tstate[sequence[stage] // 3, sequence[stage] % 3] = stage % 2\n",
        "\t\twinner = check(state)\n",
        "\t\tif winner != UNPLAYED:\n",
        "\t\t\treturn (winner, stage)\n",
        "\t\n",
        "\treturn (check(state), stage)\n",
        "\n",
        "\n",
        "if __name__ == \"__main__\":\n",
        "\t\"\"\" This runs if the program is run as a script. \"\"\"\n",
        "\n",
        "\t#  Frequency of occurrence of the different events.\n",
        "\t#  See data dictionary below for details.\n",
        "\tfreq = [0] * 6\n",
        "\n",
        "\tfor expt in range(REPEAT):\n",
        "\t\tresult = play()\n",
        "\t\tif result[0] == 0:\n",
        "\t\t\tfreq[(result[1] - 4) // 2] += 1\n",
        "\t\telif result[0] == 1:\n",
        "\t\t\tfreq[3 + (result[1] - 5) // 2] += 1\n",
        "\t\telse:\n",
        "\t\t\tfreq[5] += 1\n",
        "\n",
        "\t#  Collect the data\n",
        "\tprob = list(map(lambda x: x/REPEAT, freq))\n",
        "\tdata = {\n",
        "\t\t'winner': [0] * 3 + [1] * 2 + [-1],\n",
        "\t\t'round': list(range(4, 9, 2)) + list(range(5, 9, 2)) + [8],\n",
        "\t\t'frequency': freq,\n",
        "\t\t'probability': prob}\n",
        "\n",
        "\t#  Plot the results\n",
        "\tindex = list(map(\n",
        "\t    lambda winner, round: \"(winner: \" + str(winner) + \", round: \" + str(round) + \")\",\n",
        "\t    [0] * 3 + [1] * 2 + [-1],\n",
        "\t    list(range(4, 9, 2)) + list(range(5, 9, 2)) + [8]))\n",
        "\tdf = pandas.DataFrame(data=data['probability'], index=index, columns=[\"probability\"])\n",
        "\tdf.plot.bar()\n",
        "\tprint(df)"
      ],
      "execution_count": 0,
      "outputs": [
        {
          "output_type": "stream",
          "text": [
            "                        probability\n",
            "(winner: 0, round: 4)      0.095169\n",
            "(winner: 0, round: 6)      0.266098\n",
            "(winner: 0, round: 8)      0.223648\n",
            "(winner: 1, round: 5)      0.086868\n",
            "(winner: 1, round: 7)      0.200317\n",
            "(winner: -1, round: 8)     0.127899\n"
          ],
          "name": "stdout"
        },
        {
          "output_type": "display_data",
          "data": {
            "image/png": "[encoded data removed]",
            "text/plain": [
              "<Figure size 432x288 with 1 Axes>"
            ]
          },
          "metadata": {
            "tags": []
          }
        }
      ]
    }
  ]
}