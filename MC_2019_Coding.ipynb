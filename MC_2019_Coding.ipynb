{
  "nbformat": 4,
  "nbformat_minor": 0,
  "metadata": {
    "colab": {
      "name": "MC_2019_Coding.ipynb",
      "version": "0.3.2",
      "provenance": [],
      "collapsed_sections": [],
      "include_colab_link": true
    },
    "kernelspec": {
      "name": "python3",
      "display_name": "Python 3"
    }
  },
  "cells": [
    {
      "cell_type": "markdown",
      "metadata": {
        "id": "view-in-github",
        "colab_type": "text"
      },
      "source": [
        "<a href=\"https://colab.research.google.com/github/mathcircle/mc-coding-2019/blob/master/MC_2019_Coding.ipynb\" target=\"_parent\"><img src=\"https://colab.research.google.com/assets/colab-badge.svg\" alt=\"Open In Colab\"/></a>"
      ]
    },
    {
      "cell_type": "markdown",
      "metadata": {
        "id": "-6Vcx_l4Z9iZ",
        "colab_type": "text"
      },
      "source": [
        "#  Information\n",
        "*  Code shared in https://github.com/mathcircle/mc-coding-2019\n",
        "*  We will use a simple online coding system located here: https://repl.it. You can sign up to retain your programs.\n",
        "*  Python Documentation: https://docs.python.org/3/."
      ]
    },
    {
      "cell_type": "markdown",
      "metadata": {
        "id": "DfgaK7L5aMRQ",
        "colab_type": "text"
      },
      "source": [
        "Learning to code is learning to *think* in a new way. It is similar to learning a language. You need to actually write to get a hang of things. Otherwise, you'll understand, but you'll forget most of it once the course is over."
      ]
    },
    {
      "cell_type": "markdown",
      "metadata": {
        "id": "F2nK73vIen02",
        "colab_type": "text"
      },
      "source": [
        "# Input and output"
      ]
    },
    {
      "cell_type": "code",
      "metadata": {
        "id": "NaWDErrLfbDr",
        "colab_type": "code",
        "outputId": "c8498894-d49b-4758-da67-4e568f98ab2c",
        "colab": {
          "base_uri": "https://localhost:8080/",
          "height": 87
        }
      },
      "source": [
        "#  You can print to the console using the in-built function `print`\n",
        "print(\"Hello World!\")    # Strings can either be enclosed in double quotes\n",
        "print('Hello world!')    # Or in single quotes\n",
        "print(42)    # Numbers can be of type integer\n",
        "print(10.3)    # Or of type float"
      ],
      "execution_count": 1,
      "outputs": [
        {
          "output_type": "stream",
          "text": [
            "Hello World!\n",
            "Hello world!\n",
            "42\n",
            "10.3\n"
          ],
          "name": "stdout"
        }
      ]
    },
    {
      "cell_type": "code",
      "metadata": {
        "id": "kRNxHHT0BbNp",
        "colab_type": "code",
        "outputId": "64112faa-7cf7-4312-f004-314a2dd61f17",
        "colab": {
          "base_uri": "https://localhost:8080/",
          "height": 70
        }
      },
      "source": [
        "#  You can assign an number or string to a variable using the assingment operator =.\n",
        "#  Input a string from the user.\n",
        "name = input(\"Enter your name: \")\n",
        "print(name)\n",
        "name = \"Some other name\"    # Variable contents may change throughout the program.\n",
        "print(name)"
      ],
      "execution_count": 2,
      "outputs": [
        {
          "output_type": "stream",
          "text": [
            "Enter your name: Sudip\n",
            "Sudip\n",
            "Some other name\n"
          ],
          "name": "stdout"
        }
      ]
    },
    {
      "cell_type": "markdown",
      "metadata": {
        "id": "MClijaL9efRM",
        "colab_type": "text"
      },
      "source": [
        "# Operations: arithmetic, conditional, Boolean/logical"
      ]
    },
    {
      "cell_type": "markdown",
      "metadata": {
        "id": "idyIG-9GfAxN",
        "colab_type": "text"
      },
      "source": [
        "##  Arithmetic operations\n",
        "*  *Input*: numbers\n",
        "*  *Output*: number"
      ]
    },
    {
      "cell_type": "code",
      "metadata": {
        "id": "yZ6m9XirB1yj",
        "colab_type": "code",
        "outputId": "92779a5f-75d9-4b18-a829-bb49495f13f5",
        "colab": {
          "base_uri": "https://localhost:8080/",
          "height": 122
        }
      },
      "source": [
        "# Arithmetic operations (+, -, *, **, /, //, %)\n",
        "print(4 - 3)\n",
        "print(4 * 3)\n",
        "print(4 ** 3)\n",
        "print(4 / 3)\n",
        "print(4 // 3)\n",
        "print(4 % 3)"
      ],
      "execution_count": 3,
      "outputs": [
        {
          "output_type": "stream",
          "text": [
            "1\n",
            "12\n",
            "64\n",
            "1.3333333333333333\n",
            "1\n",
            "1\n"
          ],
          "name": "stdout"
        }
      ]
    },
    {
      "cell_type": "code",
      "metadata": {
        "id": "4cgC7QGKCDuc",
        "colab_type": "code",
        "outputId": "baf55bd6-b4cd-4cf6-fe6d-e76b64ff19a4",
        "colab": {
          "base_uri": "https://localhost:8080/",
          "height": 70
        }
      },
      "source": [
        "# Write a program to input a number and output the units digit and the tens digit\n",
        "num = int(input(\"Enter a two digit number: \"))\n",
        "units = num % 10\n",
        "tens = num % 100\n",
        "tens = tens // 10\n",
        "print(units)\n",
        "print(tens)"
      ],
      "execution_count": 4,
      "outputs": [
        {
          "output_type": "stream",
          "text": [
            "Enter a two digit number: 42\n",
            "2\n",
            "4\n"
          ],
          "name": "stdout"
        }
      ]
    },
    {
      "cell_type": "code",
      "metadata": {
        "id": "46I94tIBJMDd",
        "colab_type": "code",
        "outputId": "812ac3b9-55ba-4afb-8d68-d951b979fa58",
        "colab": {
          "base_uri": "https://localhost:8080/",
          "height": 34
        }
      },
      "source": [
        "4 != 3"
      ],
      "execution_count": 5,
      "outputs": [
        {
          "output_type": "execute_result",
          "data": {
            "text/plain": [
              "True"
            ]
          },
          "metadata": {
            "tags": []
          },
          "execution_count": 5
        }
      ]
    },
    {
      "cell_type": "markdown",
      "metadata": {
        "id": "uos0o-VOgFGN",
        "colab_type": "text"
      },
      "source": [
        "##  Conditional operations\n",
        "*  *Input*: numbers\n",
        "*  *Output*: Boolean/logical"
      ]
    },
    {
      "cell_type": "code",
      "metadata": {
        "id": "rXljWV_qg3Wr",
        "colab_type": "code",
        "outputId": "83a520da-ae62-4005-957e-d4edc914219d",
        "colab": {
          "base_uri": "https://localhost:8080/",
          "height": 87
        }
      },
      "source": [
        "print(4 > 3)\n",
        "print(2 >= 2)\n",
        "print(1 + 1 == 2)\n",
        "print(23 // 10 != 2)"
      ],
      "execution_count": 6,
      "outputs": [
        {
          "output_type": "stream",
          "text": [
            "True\n",
            "True\n",
            "True\n",
            "False\n"
          ],
          "name": "stdout"
        }
      ]
    },
    {
      "cell_type": "markdown",
      "metadata": {
        "id": "eubH2hNNgxg4",
        "colab_type": "text"
      },
      "source": [
        "##  Boolean/logical operations\n",
        "*  *Input*: Boolean/logical\n",
        "*  *Output*: Boolean/logical"
      ]
    },
    {
      "cell_type": "code",
      "metadata": {
        "id": "CfDyXPLHKmLq",
        "colab_type": "code",
        "outputId": "7232bd36-517e-4041-d464-ccf3d034844e",
        "colab": {
          "base_uri": "https://localhost:8080/",
          "height": 87
        }
      },
      "source": [
        "print(True)\n",
        "print(not False)\n",
        "print(True and (4>3))\n",
        "print(True and False)"
      ],
      "execution_count": 7,
      "outputs": [
        {
          "output_type": "stream",
          "text": [
            "True\n",
            "True\n",
            "True\n",
            "False\n"
          ],
          "name": "stdout"
        }
      ]
    },
    {
      "cell_type": "code",
      "metadata": {
        "id": "nuKkjksFCCmU",
        "colab_type": "code",
        "outputId": "af1dd03d-8bf4-4109-fcdf-9a775f465e97",
        "colab": {
          "base_uri": "https://localhost:8080/",
          "height": 87
        }
      },
      "source": [
        "#  Input two numbers base and exponent and output base^exponent. Also print true when the result is even.\n",
        "base = int(input(\"Enter base: \"))\n",
        "exponent = int(input(\"Enter exponent: \"))\n",
        "result = base ** exponent\n",
        "print(result)\n",
        "print(result % 2 == 0)"
      ],
      "execution_count": 8,
      "outputs": [
        {
          "output_type": "stream",
          "text": [
            "Enter base: 2\n",
            "Enter exponent: 4\n",
            "16\n",
            "True\n"
          ],
          "name": "stdout"
        }
      ]
    },
    {
      "cell_type": "markdown",
      "metadata": {
        "id": "VrEQ47eX40fR",
        "colab_type": "text"
      },
      "source": [
        "#  Documentation, comments\n",
        "\n",
        "#  Making decisions"
      ]
    },
    {
      "cell_type": "markdown",
      "metadata": {
        "id": "o-7p2Xm0CsMt",
        "colab_type": "text"
      },
      "source": [
        "##  Flowcharts\n",
        "Linear vs non-linear flow"
      ]
    },
    {
      "cell_type": "markdown",
      "metadata": {
        "id": "9opHn9ZJCyPX",
        "colab_type": "text"
      },
      "source": [
        "##  Problems"
      ]
    },
    {
      "cell_type": "code",
      "metadata": {
        "id": "5RXHztl__IUn",
        "colab_type": "code",
        "outputId": "0da71241-ee22-432f-e437-9ebc6d4e9dd5",
        "colab": {
          "base_uri": "https://localhost:8080/",
          "height": 52
        }
      },
      "source": [
        "#  Input a user's points out of 100, and grade him according to the following:\n",
        "#    points >= 90: A\n",
        "#    80 <= points < 90: B\n",
        "#    70 <= points < 80: C\n",
        "#    60 <= points < 70: D\n",
        "#    points < 60: F\n",
        "\n",
        "points = int(input(\"Enter points: \"))\n",
        "if points < 0 or points > 100:\n",
        "  print(\"Invalid score. Scores must be between 0 and 100.\")\n",
        "elif points >= 90:\n",
        "  print(\"Grade: A\")\n",
        "elif points >= 80:\n",
        "  print(\"Grade: B\")\n",
        "elif points >= 70:\n",
        "  print(\"Grade: C\")\n",
        "elif points >= 60:\n",
        "  print(\"Grade: D\")\n",
        "else:\n",
        "  print(\"Grade: F\")"
      ],
      "execution_count": 9,
      "outputs": [
        {
          "output_type": "stream",
          "text": [
            "Enter points: 74\n",
            "Grade: C\n"
          ],
          "name": "stdout"
        }
      ]
    },
    {
      "cell_type": "code",
      "metadata": {
        "id": "HahUeBGsBaeE",
        "colab_type": "code",
        "outputId": "a170a283-7e95-499c-8347-ac1ae6d0b00d",
        "colab": {
          "base_uri": "https://localhost:8080/",
          "height": 52
        }
      },
      "source": [
        "#  Input a number and output the absolute value of that number.\n",
        "num = float(input(\"Enter number: \"))\n",
        "if num < 0:\n",
        "  num = -num\n",
        "print(num)"
      ],
      "execution_count": 10,
      "outputs": [
        {
          "output_type": "stream",
          "text": [
            "Enter number: -32\n",
            "32.0\n"
          ],
          "name": "stdout"
        }
      ]
    },
    {
      "cell_type": "code",
      "metadata": {
        "id": "1CVfK0vLBhT8",
        "colab_type": "code",
        "outputId": "3c414785-d6f2-49ea-b523-f9471b99b14c",
        "colab": {
          "base_uri": "https://localhost:8080/",
          "height": 52
        }
      },
      "source": [
        "#  Print even or odd.\n",
        "num = int(input(\"Enter an integer: \"))\n",
        "if num % 2 == 0:\n",
        "  print(\"Even\")\n",
        "else:\n",
        "  print(\"Odd\")"
      ],
      "execution_count": 11,
      "outputs": [
        {
          "output_type": "stream",
          "text": [
            "Enter an integer: 77\n",
            "Odd\n"
          ],
          "name": "stdout"
        }
      ]
    },
    {
      "cell_type": "markdown",
      "metadata": {
        "id": "EZXX-J0F7hor",
        "colab_type": "text"
      },
      "source": [
        "#  Iterations\n",
        "*  while\n",
        "*  range\n",
        "*  for"
      ]
    },
    {
      "cell_type": "markdown",
      "metadata": {
        "id": "Bf38B3dfE1-m",
        "colab_type": "text"
      },
      "source": [
        "###  While loops"
      ]
    },
    {
      "cell_type": "code",
      "metadata": {
        "id": "0B08o_0pFz4W",
        "colab_type": "code",
        "outputId": "bf6af6d0-3fd6-4227-8d5b-1cdc02264b56",
        "colab": {
          "base_uri": "https://localhost:8080/",
          "height": 105
        }
      },
      "source": [
        "#  Print all numbers from 4 to 0.\n",
        "i = 4\n",
        "while i >= 0:\n",
        "  print(i)\n",
        "  i = i - 1"
      ],
      "execution_count": 12,
      "outputs": [
        {
          "output_type": "stream",
          "text": [
            "4\n",
            "3\n",
            "2\n",
            "1\n",
            "0\n"
          ],
          "name": "stdout"
        }
      ]
    },
    {
      "cell_type": "code",
      "metadata": {
        "id": "4mE08s6KUKt8",
        "colab_type": "code",
        "outputId": "7bf78d42-4d19-4235-e231-5a3e877a4c46",
        "colab": {
          "base_uri": "https://localhost:8080/",
          "height": 140
        }
      },
      "source": [
        "#  Print all the even natural numbers from 0 to n.\n",
        "limit = 12.3    # float(input(\"Enter limit: \"))\n",
        "i = 0\n",
        "while i <= limit:\n",
        "  print(i)\n",
        "  i = i + 2"
      ],
      "execution_count": 13,
      "outputs": [
        {
          "output_type": "stream",
          "text": [
            "0\n",
            "2\n",
            "4\n",
            "6\n",
            "8\n",
            "10\n",
            "12\n"
          ],
          "name": "stdout"
        }
      ]
    },
    {
      "cell_type": "code",
      "metadata": {
        "id": "cGEY0Yw7D9v8",
        "colab_type": "code",
        "outputId": "c9eeded6-d492-49d7-b1ab-8d401279b5cf",
        "colab": {
          "base_uri": "https://localhost:8080/",
          "height": 34
        }
      },
      "source": [
        "#  Print all the digits of a number in reverse.\n",
        "#  E.g. if the user enters 7231, print 1327.\n",
        "\n",
        "number = 273148710274    # int(input(\"Enter number: \"))\n",
        "reverse = 0\n",
        "\n",
        "while number > 0:\n",
        "  units = number % 10\n",
        "  reverse = reverse * 10 + units\n",
        "  number = number // 10\n",
        "\n",
        "print(reverse)"
      ],
      "execution_count": 14,
      "outputs": [
        {
          "output_type": "stream",
          "text": [
            "472017841372\n"
          ],
          "name": "stdout"
        }
      ]
    },
    {
      "cell_type": "markdown",
      "metadata": {
        "id": "ANq0rR0_Ed8l",
        "colab_type": "text"
      },
      "source": [
        "###  For loops and the range function"
      ]
    },
    {
      "cell_type": "code",
      "metadata": {
        "id": "YvlHY0gM_6A2",
        "colab_type": "code",
        "outputId": "e4d95e78-a14c-420e-d6e6-8d2482162813",
        "colab": {
          "base_uri": "https://localhost:8080/",
          "height": 122
        }
      },
      "source": [
        "#  Print odd numbers from 1 to 11 using a for loop and range.\n",
        "for i in range(1, 12, 2):\n",
        "  print(i)"
      ],
      "execution_count": 15,
      "outputs": [
        {
          "output_type": "stream",
          "text": [
            "1\n",
            "3\n",
            "5\n",
            "7\n",
            "9\n",
            "11\n"
          ],
          "name": "stdout"
        }
      ]
    },
    {
      "cell_type": "code",
      "metadata": {
        "id": "2b5xNNw9AAR2",
        "colab_type": "code",
        "outputId": "07684638-b72c-46cc-a38c-5b46dda7e1c8",
        "colab": {
          "base_uri": "https://localhost:8080/",
          "height": 580
        }
      },
      "source": [
        "#  Fizz buzz game (https://en.wikipedia.org/wiki/Fizz_buzz)\n",
        "#  Print numbers from 1 to 32 with the following restrictions.\n",
        "#  *  Any number divisible by 3 is replaced by the word fizz.\n",
        "#  *  Any number divisible by 5 is replaced by the word buzz.\n",
        "#  *  Numbers divisible by both 3 and 5 become fizz buzz.\n",
        "#  Sample output till 16: 1, 2, Fizz, 4, Buzz, Fizz, 7, 8, Fizz, Buzz, 11, Fizz, 13, 14, Fizz Buzz, 16\n",
        "\n",
        "for i in range(1, 33):\n",
        "  if i % 3 == 0 and i % 5 == 0:\n",
        "    print(\"Fizz Buzz\")\n",
        "  elif i % 3 == 0:\n",
        "    print(\"Fizz\")\n",
        "  elif i % 5 == 0:\n",
        "    print(\"Buzz\")\n",
        "  else:\n",
        "    print(i)"
      ],
      "execution_count": 16,
      "outputs": [
        {
          "output_type": "stream",
          "text": [
            "1\n",
            "2\n",
            "Fizz\n",
            "4\n",
            "Buzz\n",
            "Fizz\n",
            "7\n",
            "8\n",
            "Fizz\n",
            "Buzz\n",
            "11\n",
            "Fizz\n",
            "13\n",
            "14\n",
            "Fizz Buzz\n",
            "16\n",
            "17\n",
            "Fizz\n",
            "19\n",
            "Buzz\n",
            "Fizz\n",
            "22\n",
            "23\n",
            "Fizz\n",
            "Buzz\n",
            "26\n",
            "Fizz\n",
            "28\n",
            "29\n",
            "Fizz Buzz\n",
            "31\n",
            "32\n"
          ],
          "name": "stdout"
        }
      ]
    },
    {
      "cell_type": "code",
      "metadata": {
        "id": "zKjizHs8QwcG",
        "colab_type": "code",
        "outputId": "0c9b3582-9548-4056-c1c5-3dfc79cbc5b3",
        "colab": {
          "base_uri": "https://localhost:8080/",
          "height": 34
        }
      },
      "source": [
        "#  Calculate n!\n",
        "\n",
        "number = 6    # int(input(\"Enter number: \"))\n",
        "fact = 1\n",
        "\n",
        "for i in range(2, number + 1):\n",
        "  fact = fact * i    # Introduce the op= variants\n",
        "\n",
        "print(fact)"
      ],
      "execution_count": 17,
      "outputs": [
        {
          "output_type": "stream",
          "text": [
            "720\n"
          ],
          "name": "stdout"
        }
      ]
    },
    {
      "cell_type": "markdown",
      "metadata": {
        "id": "ytyhyWE77ZRu",
        "colab_type": "text"
      },
      "source": [
        "#  Functions\n",
        "\n",
        "Functions take input(s) and return an output\n",
        "\n",
        "_Syntax_:\n",
        "```python\n",
        "def NAME ([parameter1: type1, [parameter2: type2, [...]]]) ['->' output_type] ':'\n",
        "  \"\"\"This is a documentation comment\n",
        "      for the dummy function.\"\"\"\n",
        "  \n",
        "  # Do what you have to do\n",
        "  return return_object\n",
        "```"
      ]
    },
    {
      "cell_type": "code",
      "metadata": {
        "id": "WETqE-ze713u",
        "colab_type": "code",
        "outputId": "99e89a21-50a6-4dd6-8d0e-e49bbae238da",
        "colab": {
          "base_uri": "https://localhost:8080/",
          "height": 34
        }
      },
      "source": [
        "#  Factorial\n",
        "\n",
        "def factorial(n: int) -> int:\n",
        "  \"\"\" Take a number and return its factorial.\n",
        "      The factorial is given by the formula n! = n * (n - 1) * ... * 2 \"\"\"\n",
        "  \n",
        "#   #  Check for bad input\n",
        "#   if n < 0:\n",
        "#     return -1\n",
        "  \n",
        "  fact = 1\n",
        "  for i in range(2, n+1):\n",
        "    fact *= i\n",
        "  return fact\n",
        "\n",
        "print(factorial(4))"
      ],
      "execution_count": 18,
      "outputs": [
        {
          "output_type": "stream",
          "text": [
            "24\n"
          ],
          "name": "stdout"
        }
      ]
    },
    {
      "cell_type": "code",
      "metadata": {
        "id": "MBzh11gl5rel",
        "colab_type": "code",
        "outputId": "245dbb80-7e8a-43fe-d93e-8e00e3f0dea1",
        "colab": {
          "base_uri": "https://localhost:8080/",
          "height": 34
        }
      },
      "source": [
        "#  Function to compute n choose k.\n",
        "def choose(n: int, k:int) -> int:\n",
        "  \"\"\" Take two integers and return C(n, k).\n",
        "      This is given by the formula C(n, k) = n! // (k! (n - k)!) \"\"\"\n",
        "  \n",
        "  return factorial(n) // (factorial(k) * factorial(n - k))\n",
        "\n",
        "print(choose(5, 2))"
      ],
      "execution_count": 19,
      "outputs": [
        {
          "output_type": "stream",
          "text": [
            "10\n"
          ],
          "name": "stdout"
        }
      ]
    },
    {
      "cell_type": "code",
      "metadata": {
        "id": "7or_PuswBYrX",
        "colab_type": "code",
        "outputId": "02fb0bdc-ae97-41fd-d7f7-29e9ac5de22c",
        "colab": {
          "base_uri": "https://localhost:8080/",
          "height": 34
        }
      },
      "source": [
        "#  Write a function (using iteration) to return the nth Fibonacci number\n",
        "#  0, 1, 1, 2, 3, 5, 8, 13, 21, ...\n",
        "\n",
        "def fibonacci(n: int) -> int:\n",
        "  \"\"\" Return the nth Fibonacci number. \"\"\"\n",
        "  \n",
        "  p = 1\n",
        "  q = 0\n",
        "  s = 0\n",
        "  \n",
        "  for i in range(n):\n",
        "    s = p + q\n",
        "    p = q\n",
        "    q = s\n",
        "    #  (s, p, q) = (p + q, q, s)\n",
        "  \n",
        "  return q\n",
        "\n",
        "print(fibonacci(6))"
      ],
      "execution_count": 20,
      "outputs": [
        {
          "output_type": "stream",
          "text": [
            "8\n"
          ],
          "name": "stdout"
        }
      ]
    },
    {
      "cell_type": "code",
      "metadata": {
        "id": "BUUjJ6fBC7kp",
        "colab_type": "code",
        "outputId": "879c7f1b-6da8-4633-a40c-b43aaf03b8a3",
        "colab": {
          "base_uri": "https://localhost:8080/",
          "height": 34
        }
      },
      "source": [
        "#  Write a function to reverse the digits of a decimal number.\n",
        "#  E.g. if the user enters 7231, print 1327.\n",
        "\n",
        "\n",
        "def num_reverse(n: int) -> int:\n",
        "  \"\"\" Reverses the digits of a decimal number \"\"\"\n",
        "  \n",
        "  reverse = 0\n",
        "  \n",
        "  while n > 0:\n",
        "    units = n % 10\n",
        "    reverse = reverse * 10 + units\n",
        "    n //= 10\n",
        "  \n",
        "  return reverse\n",
        "\n",
        "#  Execute the program\n",
        "number = 7526275185092387502    # int(input(\"Enter number: \"))\n",
        "print(num_reverse(number))"
      ],
      "execution_count": 21,
      "outputs": [
        {
          "output_type": "stream",
          "text": [
            "2057832905815726257\n"
          ],
          "name": "stdout"
        }
      ]
    },
    {
      "cell_type": "code",
      "metadata": {
        "id": "Pm5gex4lECiI",
        "colab_type": "code",
        "outputId": "14457c69-5ce0-42ad-cefb-9d41f1a94c18",
        "colab": {
          "base_uri": "https://localhost:8080/",
          "height": 52
        }
      },
      "source": [
        "#  Write a function called is_prime to check if the argument is prime or not.\n",
        "#  Your return should be a Boolean.\n",
        "\n",
        "def is_prime(n: int) -> bool:\n",
        "  if n % 2 == 0:\n",
        "    return False\n",
        "  for i in range(3, n, 2):\n",
        "    if n % i == 0:\n",
        "      return False\n",
        "  return True\n",
        "\n",
        "# print(is_prime(int(input(\"Enter number: \"))))\n",
        "print(is_prime(42))\n",
        "print(is_prime(29))"
      ],
      "execution_count": 22,
      "outputs": [
        {
          "output_type": "stream",
          "text": [
            "False\n",
            "True\n"
          ],
          "name": "stdout"
        }
      ]
    },
    {
      "cell_type": "markdown",
      "metadata": {
        "id": "X05QpnLGGpxK",
        "colab_type": "text"
      },
      "source": [
        "####  Write a Python function to check whether a number is perfect or not.\n",
        "\n",
        "*Definition*: In number theory, a _perfect number_ is a positive integer that is equal to the sum of its positive divisors excluding the number itself. \n",
        "\n",
        "*Example*: The first perfect number is 6, because 1, 2, and 3 are its proper positive divisors, and 1 + 2 + 3 = 6. Equivalently, the number 6 is equal to half the sum of all its positive divisors: ( 1 + 2 + 3 + 6 ) / 2 = 6. The next perfect number is 28 = 1 + 2 + 4 + 7 + 14.\n",
        "\n",
        "####  Find the first 4 perfect numbers."
      ]
    },
    {
      "cell_type": "markdown",
      "metadata": {
        "id": "CvNyqQFm7i4E",
        "colab_type": "text"
      },
      "source": [
        "#  Recursion\n",
        "*  Base case\n",
        "*  Recursion step\n",
        "*  Do NOT forget: the base case comes first\n",
        "*  Recursion vs induction\n",
        "*  Iteration vs recursion\n",
        "*  Meat: Towers of Hanoi"
      ]
    },
    {
      "cell_type": "code",
      "metadata": {
        "id": "jB51f1Ks70hb",
        "colab_type": "code",
        "outputId": "083ca8f3-ca87-4529-ca4e-6974263b31ab",
        "colab": {
          "base_uri": "https://localhost:8080/",
          "height": 34
        }
      },
      "source": [
        "#  Write a function to return the factorial of n using recursion.\n",
        "#  Remember: n! = n * (n - 1)!\n",
        "\n",
        "def fact(n: int) -> int:\n",
        "  \"\"\" Calculates the factorial of an integer. \"\"\"\n",
        "\n",
        "  if n <= 1:\n",
        "    return 1\n",
        "  return n * fact(n - 1)\n",
        "\n",
        "print(fact(5))"
      ],
      "execution_count": 23,
      "outputs": [
        {
          "output_type": "stream",
          "text": [
            "120\n"
          ],
          "name": "stdout"
        }
      ]
    },
    {
      "cell_type": "code",
      "metadata": {
        "id": "0L9NzmO--6GO",
        "colab_type": "code",
        "outputId": "906ae790-5e26-472c-ac72-e59f661f6c1f",
        "colab": {
          "base_uri": "https://localhost:8080/",
          "height": 34
        }
      },
      "source": [
        "#  Write a function to return the nth Fibonacci number using recursion.\n",
        "#  Remember: f(n) = f(n - 1) + f(n - 2)\n",
        "\n",
        "def fibonacci(n: int) -> int:\n",
        "  \"\"\" Return the nth Fibonacci number. \"\"\"\n",
        "  \n",
        "  if n == 0:\n",
        "    return 0\n",
        "  elif n == 1:\n",
        "    return 1\n",
        "  else:\n",
        "    return fibonacci(n - 1) + fibonacci(n - 2)\n",
        "\n",
        "print(fibonacci(6))"
      ],
      "execution_count": 24,
      "outputs": [
        {
          "output_type": "stream",
          "text": [
            "8\n"
          ],
          "name": "stdout"
        }
      ]
    },
    {
      "cell_type": "code",
      "metadata": {
        "id": "KOBQ_jxE_No3",
        "colab_type": "code",
        "outputId": "b0a91987-6d0b-4adf-b20f-a368817c495e",
        "colab": {
          "base_uri": "https://localhost:8080/",
          "height": 72
        }
      },
      "source": [
        "#  Write a recursive function to calculate the sum of digits of a decimal number.\n",
        "import random\n",
        "\n",
        "def sum_of_digits(n: int) -> int:\n",
        "  \"\"\" Return the sum of digits of a decimal number. \"\"\"\n",
        "  \n",
        "  if n == 0:\n",
        "    return 0\n",
        "  return  n % 10 + sum_of_digits(n // 10)\n",
        "\n",
        "n = random.randint(0, 10**950)    # n is a random integer from 0 to 10^950\n",
        "print(n)\n",
        "print(sum_of_digits(n))"
      ],
      "execution_count": 25,
      "outputs": [
        {
          "output_type": "stream",
          "text": [
            "29306087031449024199521268368615728864467151260985744768077268472984749598304003763580953175414562173975457013819688737530987428818114226153739441986767682413591640860165674998120207675288242034726448332275079547767889887420559168932626272053918417632815704089798306363277179095424645189866749106626219752151092211005092384851607983403521329714999521478750603403302223145292335407349136975049780769951944529146183400550417623892263564258482636849673080448070602059217223946447513865518358909160346550473091797800736709917670008002055817971120250144330942610920187087948610423871152392620473941789199095832451345010833011319852197611280613860600004898514942000754535898102816752752176431229699197187059492455057082466987776746530695688132971043821561279235029848911470339523893844942612367953583599916024023581307522471001486159612157061152468163958202282957617512026654413094141647444636825796338760774223745879740579412457209818009227618218881161548\n",
            "4218\n"
          ],
          "name": "stdout"
        }
      ]
    },
    {
      "cell_type": "code",
      "metadata": {
        "id": "r7E3Ut7N_rk_",
        "colab_type": "code",
        "outputId": "b4b70329-8dc4-4c43-e6be-65f902c02f41",
        "colab": {
          "base_uri": "https://localhost:8080/",
          "height": 90
        }
      },
      "source": [
        "#  Use the above function to quickly check if a (possibly large) number is divisible by 3 or not.\n",
        "import random\n",
        "\n",
        "def div_by_3(n: int) -> bool:\n",
        "  \"\"\" Return if n is divisible by 3. \"\"\"\n",
        "  \n",
        "  return sum_of_digits(n) % 3 == 0\n",
        "\n",
        "n = random.randint(0, 10**950)    # n is a random integer from 0 to 10^100\n",
        "print(n)\n",
        "print(sum_of_digits(n))\n",
        "print(div_by_3(n))"
      ],
      "execution_count": 26,
      "outputs": [
        {
          "output_type": "stream",
          "text": [
            "93521681373002295482146860147016820530457157826548604113108662087832224106637361446415970471672668767191153821388582718630751190118300039485735237904455330609670303106050325262805337569436176568251140497907215055253714918197101622823712299672653861630251117108995449373453783792975654289845947562803106288286446099191635891018437858625925281160915648707673303066461581875871524407327923689180587520986840292035066373475143868076907188589168225448210909523815746395578416930884103199025677015531051508476110684293703353105170745615116312512087608598473273224295250846715645822672916790830561892309503235326859931088579044879086375816858404305291104307769497596435014679923564742956651098399787928368683129202991716114867817132225044273690244585546418499773466776196205924604447659986747529731432171016659121161095861390032153044567534046621900758564809586175899859140119348028846481492259676062618024081253296179451529628177000401817077634246449123548\n",
            "4210\n",
            "False\n"
          ],
          "name": "stdout"
        }
      ]
    },
    {
      "cell_type": "markdown",
      "metadata": {
        "id": "5mFJB_tU7kyD",
        "colab_type": "text"
      },
      "source": [
        "#  Nested loops"
      ]
    },
    {
      "cell_type": "code",
      "metadata": {
        "id": "-iA9VDBr7nAN",
        "colab_type": "code",
        "outputId": "e5f1a405-5203-4b3b-d8c2-3b4270b86b3e",
        "colab": {
          "base_uri": "https://localhost:8080/",
          "height": 545
        }
      },
      "source": [
        "#  Write a script to print multiplication tables upto n\n",
        "\n",
        "#  Table for 1\n",
        "#  ===========\n",
        "#  1 * 1 = 1\n",
        "#  \n",
        "#  Table for 2\n",
        "#  ===========\n",
        "#  2 * 1 = 2\n",
        "#  2 * 2 = 4\n",
        "#  \n",
        "#  ...\n",
        "#  \n",
        "#  Table for n\n",
        "#  ===========\n",
        "#  n * 1 = n\n",
        "#  n * 2 = 2n\n",
        "#  ...\n",
        "#  n * n = n^2\n",
        "\n",
        "#  Hint: use nested for loops\n",
        "\n",
        "# n = int(input(\"Enter an integer: \"))\n",
        "n = 5\n",
        "\n",
        "for i in range(1, n+1):\n",
        "  print(\"Table for\", i)\n",
        "  print(\"============\")\n",
        "  for j in range(1, i+1):\n",
        "    print(i, \"*\", j, \"=\", i*j)\n",
        "  print()"
      ],
      "execution_count": 27,
      "outputs": [
        {
          "output_type": "stream",
          "text": [
            "Table for 1\n",
            "============\n",
            "1 * 1 = 1\n",
            "\n",
            "Table for 2\n",
            "============\n",
            "2 * 1 = 2\n",
            "2 * 2 = 4\n",
            "\n",
            "Table for 3\n",
            "============\n",
            "3 * 1 = 3\n",
            "3 * 2 = 6\n",
            "3 * 3 = 9\n",
            "\n",
            "Table for 4\n",
            "============\n",
            "4 * 1 = 4\n",
            "4 * 2 = 8\n",
            "4 * 3 = 12\n",
            "4 * 4 = 16\n",
            "\n",
            "Table for 5\n",
            "============\n",
            "5 * 1 = 5\n",
            "5 * 2 = 10\n",
            "5 * 3 = 15\n",
            "5 * 4 = 20\n",
            "5 * 5 = 25\n",
            "\n"
          ],
          "name": "stdout"
        }
      ]
    },
    {
      "cell_type": "code",
      "metadata": {
        "id": "SZ_A9HZXLTCC",
        "colab_type": "code",
        "colab": {
          "base_uri": "https://localhost:8080/",
          "height": 122
        },
        "outputId": "e8de069f-9d12-4e73-8997-e0b4dd1fdc95"
      },
      "source": [
        "#  Write a program to print the following pattern (here n = 5)\n",
        "\n",
        "#  (1, 1)\n",
        "#  (2, 1) (2, 2)\n",
        "#  (3, 1) (3, 2) (3, 3)\n",
        "#  (4, 1) (4, 2) (4, 3) (4, 4)\n",
        "#  (5, 1) (5, 2) (5, 3) (5, 4) (5, 5)\n",
        "\n",
        "n = 5\n",
        "output = \"\"\n",
        "for i in range(1, n + 1):\n",
        "\tfor j in range(1, i + 1):\n",
        "\t\toutput += \"(\" + str(i) + \", \" + str(j) + \") \"\n",
        "\toutput += \"\\n\"\n",
        "print(output)"
      ],
      "execution_count": 28,
      "outputs": [
        {
          "output_type": "stream",
          "text": [
            "(1, 1) \n",
            "(2, 1) (2, 2) \n",
            "(3, 1) (3, 2) (3, 3) \n",
            "(4, 1) (4, 2) (4, 3) (4, 4) \n",
            "(5, 1) (5, 2) (5, 3) (5, 4) (5, 5) \n",
            "\n"
          ],
          "name": "stdout"
        }
      ]
    },
    {
      "cell_type": "markdown",
      "metadata": {
        "id": "chgVdjZs6fzR",
        "colab_type": "text"
      },
      "source": [
        "#  String operations\n",
        "*  +\n",
        "*  *\n",
        "*  indexing\n",
        "*  negative indexing\n",
        "*  slicing\n",
        "*  :\n",
        "*  format()"
      ]
    },
    {
      "cell_type": "code",
      "metadata": {
        "id": "UJADfdlIbydD",
        "colab_type": "code",
        "outputId": "222f1309-3c96-44d4-df7e-c3d047ce07d0",
        "colab": {
          "base_uri": "https://localhost:8080/",
          "height": 34
        }
      },
      "source": [
        "# \"I am Sudip \" + \"Sinha\"\n",
        "\"*\" * 10\n",
        "name = \"Sudip Sinha\"\n",
        "name[-2]\n",
        "f\"My name is {name[0:5]} and my username is {name[0] + name[6:] + str(4)}.\""
      ],
      "execution_count": 29,
      "outputs": [
        {
          "output_type": "execute_result",
          "data": {
            "text/plain": [
              "'My name is Sudip and my username is SSinha4.'"
            ]
          },
          "metadata": {
            "tags": []
          },
          "execution_count": 29
        }
      ]
    },
    {
      "cell_type": "code",
      "metadata": {
        "id": "SprYaQHuANta",
        "colab_type": "code",
        "outputId": "fa7450d2-2de5-40a4-f4d9-d0085eb7fb6a",
        "colab": {
          "base_uri": "https://localhost:8080/",
          "height": 122
        }
      },
      "source": [
        "#  Print the following pattern for n lines\n",
        "#  $\n",
        "#  $$\n",
        "#  $$$\n",
        "#  $$$$\n",
        "#  $$$$$\n",
        "#  Hint: try the * function on strings, e.g. \"x\" * 4 = ?\n",
        "\n",
        "number = int(input(\"Enter number: \"))\n",
        "\n",
        "for i in range(number + 1):\n",
        "  print(\"$\" * i)"
      ],
      "execution_count": 30,
      "outputs": [
        {
          "output_type": "stream",
          "text": [
            "Enter number: 4\n",
            "\n",
            "$\n",
            "$$\n",
            "$$$\n",
            "$$$$\n"
          ],
          "name": "stdout"
        }
      ]
    },
    {
      "cell_type": "code",
      "metadata": {
        "id": "JirSt0Vk7FMx",
        "colab_type": "code",
        "outputId": "77f38871-294c-4c3b-c6df-39daf9f2d07d",
        "colab": {
          "base_uri": "https://localhost:8080/",
          "height": 122
        }
      },
      "source": [
        "#  Write a function to return a string with the following pattern for n lines:\n",
        "#  $\n",
        "#  $$\n",
        "#  $$$\n",
        "#  $$$$\n",
        "#  $$$$$\n",
        "#  Hint: In order to induce a line break, use '\\n'\n",
        "\n",
        "def pattern(n: int) -> str:\n",
        "  incr = \"\"\n",
        "  for i in range(number + 1):\n",
        "    incr += \"$\" * i + \"\\n\"\n",
        "  return incr[:-1]\n",
        "  \n",
        "number = 5    # int(input(\"Enter number: \"))\n",
        "print(pattern(number))"
      ],
      "execution_count": 31,
      "outputs": [
        {
          "output_type": "stream",
          "text": [
            "\n",
            "$\n",
            "$$\n",
            "$$$\n",
            "$$$$\n",
            "$$$$$\n"
          ],
          "name": "stdout"
        }
      ]
    },
    {
      "cell_type": "code",
      "metadata": {
        "id": "KwSh8GyV8Z3-",
        "colab_type": "code",
        "outputId": "575b11c5-adf7-4d6e-cf2e-57d0937295e9",
        "colab": {
          "base_uri": "https://localhost:8080/",
          "height": 105
        }
      },
      "source": [
        "#  Write a function to return a string with the following pattern for n lines:\n",
        "\n",
        "#  1\n",
        "#  1 2\n",
        "#  1 2 3\n",
        "#  1 2 3 4\n",
        "#  1 2 3 4 5\n",
        "\n",
        "def staircase(n: int) -> str:\n",
        "  pattern = \"\"\n",
        "  for i in range(1, n + 1):\n",
        "    for j in range(1, i + 1):\n",
        "      pattern += str(j)\n",
        "    pattern += \"\\n\"\n",
        "  return pattern[:-1]    # Remove the last \\n\n",
        "\n",
        "print(staircase(5))"
      ],
      "execution_count": 32,
      "outputs": [
        {
          "output_type": "stream",
          "text": [
            "1\n",
            "12\n",
            "123\n",
            "1234\n",
            "12345\n"
          ],
          "name": "stdout"
        }
      ]
    },
    {
      "cell_type": "code",
      "metadata": {
        "id": "DUYhOAVnCEiC",
        "colab_type": "code",
        "colab": {}
      },
      "source": [
        "#  Fizzbuzz variant\n",
        "#  Write a function which returns a string of fizz buzz horizontally.\n",
        "#  1, 2, Fizz, 4, Buzz, Fizz, 7, 8, Fizz, Buzz, 11, Fizz, 13, 14, Fizz Buzz, 16."
      ],
      "execution_count": 0,
      "outputs": []
    },
    {
      "cell_type": "markdown",
      "metadata": {
        "id": "gFnXDT6rox25",
        "colab_type": "text"
      },
      "source": [
        "##  Indexing and slicing"
      ]
    },
    {
      "cell_type": "code",
      "metadata": {
        "id": "mq1IXvGXo33E",
        "colab_type": "code",
        "outputId": "f8fce4da-f65e-475c-8a93-0060962b911a",
        "colab": {
          "base_uri": "https://localhost:8080/",
          "height": 34
        }
      },
      "source": [
        "#  For finding the index of a character, use the index function\n",
        "email = 'ursula_the_coder@bad.programming.com'\n",
        "print(email.index('@'))"
      ],
      "execution_count": 34,
      "outputs": [
        {
          "output_type": "stream",
          "text": [
            "16\n"
          ],
          "name": "stdout"
        }
      ]
    },
    {
      "cell_type": "code",
      "metadata": {
        "id": "A2nGRWD-pOIu",
        "colab_type": "code",
        "outputId": "95676355-570f-4934-a866-d84770ebaf6c",
        "colab": {
          "base_uri": "https://localhost:8080/",
          "height": 70
        }
      },
      "source": [
        "#  To get a part of the string, use the : operatator\n",
        "email = 'ursula_the_coder@bad.programming.com'\n",
        "print(email[1:10])\n",
        "print(email[(email.index('@')+1):])\n",
        "print(email[:email.index('_')])"
      ],
      "execution_count": 35,
      "outputs": [
        {
          "output_type": "stream",
          "text": [
            "rsula_the\n",
            "bad.programming.com\n",
            "ursula\n"
          ],
          "name": "stdout"
        }
      ]
    },
    {
      "cell_type": "code",
      "metadata": {
        "id": "Ft5HvcfgosA7",
        "colab_type": "code",
        "colab": {
          "base_uri": "https://localhost:8080/",
          "height": 70
        },
        "outputId": "f2fe5b01-b518-4334-8102-f177960312c5"
      },
      "source": [
        "### Exercise - Sensitive Credit Card Numbers\n",
        "\n",
        "#  You are in charge of handling sensitive data.\n",
        "#  For each of these credit card numbers you need to replace the inner 8 digits with `*`s.\n",
        "#  For example, `4520 1234 5678 0001` should become `4520 **** **** 0001`.\n",
        "\n",
        "card1 = \"1234 5678 9876 5432\"\n",
        "card2 = \"5412 7501 2345 0987\"\n",
        "card3 = \"4000 1234 5678 9010\"\n",
        "\n",
        "def obfuscate_credit_card(card: str) -> str:\n",
        "\treturn card1[0:5] + \"*\" * 4 + \" \" + \"*\" * 4 + card1[14:]\n",
        "\n",
        "print(obfuscate_credit_card(card1))\n",
        "print(obfuscate_credit_card(card2))\n",
        "print(obfuscate_credit_card(card3))"
      ],
      "execution_count": 36,
      "outputs": [
        {
          "output_type": "stream",
          "text": [
            "1234 **** **** 5432\n",
            "1234 **** **** 5432\n",
            "1234 **** **** 5432\n"
          ],
          "name": "stdout"
        }
      ]
    },
    {
      "cell_type": "code",
      "metadata": {
        "id": "GsARmqDknFcQ",
        "colab_type": "code",
        "colab": {
          "base_uri": "https://localhost:8080/",
          "height": 70
        },
        "outputId": "c306de8d-7743-4bed-efde-bde32fc9fe96"
      },
      "source": [
        "#  Sensitive Email Adresses\n",
        "\n",
        "#  You are again in charge of handling sensitive email addresses.\n",
        "#  For each of these emails you need to replace the user name with 5 `*`s, except for the first letter.\n",
        "#  For example, `ursula_the_coder@bad.programming.com` should become `u*****@bad.programming.com`.\n",
        "#  Use the `.index()` method since the emails have different lengths.\n",
        "\n",
        "email1 = \"ada_lovelace@computing.uk\"\n",
        "email2 = \"grace.m.hopper@us.gov.com\"\n",
        "email3 = \"evelyn_boyd_granville@IBM.computing.com\"\n",
        "\n",
        "def obfuscate_email(email: str) -> str:\n",
        "\tindex_of_at = email.index('@')\n",
        "\treturn email[0] + \"*\" * (index_of_at - 1) + email[index_of_at:]\n",
        "\n",
        "print(obfuscate_email(email1))\n",
        "print(obfuscate_email(email2))\n",
        "print(obfuscate_email(email3))"
      ],
      "execution_count": 37,
      "outputs": [
        {
          "output_type": "stream",
          "text": [
            "a***********@computing.uk\n",
            "g*************@us.gov.com\n",
            "e********************@IBM.computing.com\n"
          ],
          "name": "stdout"
        }
      ]
    },
    {
      "cell_type": "markdown",
      "metadata": {
        "id": "ubWp7YW2e0AG",
        "colab_type": "text"
      },
      "source": [
        "#  Object type and representation (base)"
      ]
    },
    {
      "cell_type": "markdown",
      "metadata": {
        "id": "zSXU6iOLqnUG",
        "colab_type": "text"
      },
      "source": [
        "##  Checking the type of an object"
      ]
    },
    {
      "cell_type": "code",
      "metadata": {
        "id": "R1ZajPhtqPed",
        "colab_type": "code",
        "outputId": "37851b9b-0d78-4780-fd02-a5a32a9138a4",
        "colab": {
          "base_uri": "https://localhost:8080/",
          "height": 105
        }
      },
      "source": [
        "#  To get the type of an object, we use the function `type` \n",
        "print(type(1))\n",
        "print(type(1.5))\n",
        "print(type(True))\n",
        "print(type(\"random\"))\n",
        "print(type(int(\"5\")))"
      ],
      "execution_count": 38,
      "outputs": [
        {
          "output_type": "stream",
          "text": [
            "<class 'int'>\n",
            "<class 'float'>\n",
            "<class 'bool'>\n",
            "<class 'str'>\n",
            "<class 'int'>\n"
          ],
          "name": "stdout"
        }
      ]
    },
    {
      "cell_type": "markdown",
      "metadata": {
        "id": "0Fomfo-NquH9",
        "colab_type": "text"
      },
      "source": [
        "##  Base conversions"
      ]
    },
    {
      "cell_type": "code",
      "metadata": {
        "id": "rQY9IBXAe3Bd",
        "colab_type": "code",
        "outputId": "3cf8cd40-1711-4481-c10f-9dace66818c1",
        "colab": {
          "base_uri": "https://localhost:8080/",
          "height": 334
        }
      },
      "source": [
        "#  Binary\n",
        "print(\"Binary\\n\" + \"=\" * 6)\n",
        "n = 0b110    #  To specify a number in binary, start the string with '0b'\n",
        "print(n)\n",
        "n_str = bin(6)   #  To print a number in binary, use the bin function\n",
        "print(n_str)\n",
        "print()\n",
        "\n",
        "#  Octal\n",
        "print(\"Octal\\n\" + \"=\" * 5)\n",
        "n = 0o110    #  To specify a number in octal, start the string with '0o'\n",
        "print(n)\n",
        "n_str = oct(6)   #  To print a number in octal, use the oct function\n",
        "print(n_str)\n",
        "print()\n",
        "\n",
        "#  Hexadecimal\n",
        "print(\"Hexadecimal\\n\" + \"=\" * 11)\n",
        "n = 0x110    #  To specify a number in hexadecimal, start the string with '0x'\n",
        "print(n)\n",
        "n_str = hex(6)   #  To print a number in hexadecimal, use the hex function\n",
        "print(n_str)\n",
        "print()\n",
        "\n",
        "\n",
        "#  Arbitrary base\n",
        "print(\"Arbitrary base\\n\" + \"=\" * 14)\n",
        "print(int('0401', 7))"
      ],
      "execution_count": 39,
      "outputs": [
        {
          "output_type": "stream",
          "text": [
            "Binary\n",
            "======\n",
            "6\n",
            "0b110\n",
            "\n",
            "Octal\n",
            "=====\n",
            "72\n",
            "0o6\n",
            "\n",
            "Hexadecimal\n",
            "===========\n",
            "272\n",
            "0x6\n",
            "\n",
            "Arbitrary base\n",
            "==============\n",
            "197\n"
          ],
          "name": "stdout"
        }
      ]
    },
    {
      "cell_type": "markdown",
      "metadata": {
        "id": "OLjfX_4YrkKr",
        "colab_type": "text"
      },
      "source": [
        "#  Using Python libraries\n",
        "https://docs.python.org/3/library/"
      ]
    },
    {
      "cell_type": "code",
      "metadata": {
        "id": "SCKca34arQeW",
        "colab_type": "code",
        "outputId": "9c715762-0595-4412-fd64-401934a04a51",
        "colab": {
          "base_uri": "https://localhost:8080/",
          "height": 34
        }
      },
      "source": [
        "import math    # Use this to import the whole library into the workspace.\n",
        "\n",
        "print(math.sin(math.pi/2))"
      ],
      "execution_count": 40,
      "outputs": [
        {
          "output_type": "stream",
          "text": [
            "1.0\n"
          ],
          "name": "stdout"
        }
      ]
    },
    {
      "cell_type": "code",
      "metadata": {
        "id": "rtYZrFwxry9o",
        "colab_type": "code",
        "outputId": "9c9468bb-3d89-44a6-bfda-05310568e8a2",
        "colab": {
          "base_uri": "https://localhost:8080/",
          "height": 34
        }
      },
      "source": [
        "# Use this if you want to import just one function or variable from the library.\n",
        "from string import hexdigits\n",
        "\n",
        "print(hexdigits)"
      ],
      "execution_count": 41,
      "outputs": [
        {
          "output_type": "stream",
          "text": [
            "0123456789abcdefABCDEF\n"
          ],
          "name": "stdout"
        }
      ]
    },
    {
      "cell_type": "markdown",
      "metadata": {
        "id": "SfniEH8F7gEf",
        "colab_type": "text"
      },
      "source": [
        "#  Lists"
      ]
    },
    {
      "cell_type": "markdown",
      "metadata": {
        "id": "trXbXVLT5BRK",
        "colab_type": "text"
      },
      "source": [
        "## Declaration"
      ]
    },
    {
      "cell_type": "code",
      "metadata": {
        "id": "m3Cr-cOA5Eyp",
        "colab_type": "code",
        "outputId": "611c2347-db38-450c-aa01-c030e348fdb3",
        "colab": {
          "base_uri": "https://localhost:8080/",
          "height": 122
        }
      },
      "source": [
        "empl_names = [\"Gavin\", \"Luci\", \"Rohin\", \"Sudip\"]\n",
        "empl_numbers = [9, 4, 1, 11]\n",
        "print(empl_names)\n",
        "print(empl_numbers)\n",
        "\n",
        "#  Print employee numbers beside employee names.\n",
        "#  E.g.    Sudip    11\n",
        "for i in range(len(empl_numbers)):\n",
        "  print(empl_names[i], empl_numbers[i])"
      ],
      "execution_count": 42,
      "outputs": [
        {
          "output_type": "stream",
          "text": [
            "['Gavin', 'Luci', 'Rohin', 'Sudip']\n",
            "[9, 4, 1, 11]\n",
            "Gavin 9\n",
            "Luci 4\n",
            "Rohin 1\n",
            "Sudip 11\n"
          ],
          "name": "stdout"
        }
      ]
    },
    {
      "cell_type": "code",
      "metadata": {
        "id": "FH3hgBopjEuI",
        "colab_type": "code",
        "outputId": "02a403fb-b7b3-4562-fdcd-fed10301ac7e",
        "colab": {
          "base_uri": "https://localhost:8080/",
          "height": 52
        }
      },
      "source": [
        "#  Find the highest empl_number, i.e. 11 in this case\n",
        "#  Find the position of the highest empl_number, e.g. 3 in this case\n",
        "\n",
        "import random\n",
        "array = random.sample(range(2 ** 16), 16)\n",
        "print(\"Array generated = \", array)\n",
        "\n",
        "max = array[0]\n",
        "idx = 0\n",
        "for i in range(1, len(array)):\n",
        "  if max < array[i]:\n",
        "    max = array[i]\n",
        "    idx = i\n",
        "print(f\"The maximum is {max} at position {idx}.\")"
      ],
      "execution_count": 43,
      "outputs": [
        {
          "output_type": "stream",
          "text": [
            "Array generated =  [44675, 61277, 9800, 42048, 47748, 18455, 26663, 24423, 26553, 31021, 43003, 38027, 53960, 54250, 51918, 34508]\n",
            "The maximum is 61277 at position 1.\n"
          ],
          "name": "stdout"
        }
      ]
    },
    {
      "cell_type": "code",
      "metadata": {
        "id": "sXwDwFma5obz",
        "colab_type": "code",
        "outputId": "40f0705a-3399-4b9e-e7ae-b2ffb165eb77",
        "colab": {
          "base_uri": "https://localhost:8080/",
          "height": 70
        }
      },
      "source": [
        "# Lists can contain numbers, Booleans, strings, and more lists!\n",
        "weird_list = [1, 2.5, \"three\", [\"inside\", \"list\"], True]\n",
        "print(weird_list)\n",
        "print(weird_list[3])\n",
        "print(weird_list[3][0])"
      ],
      "execution_count": 44,
      "outputs": [
        {
          "output_type": "stream",
          "text": [
            "[1, 2.5, 'three', ['inside', 'list'], True]\n",
            "['inside', 'list']\n",
            "inside\n"
          ],
          "name": "stdout"
        }
      ]
    },
    {
      "cell_type": "markdown",
      "metadata": {
        "id": "r4RAnzlh6G4O",
        "colab_type": "text"
      },
      "source": [
        "##  Indexing and slicing"
      ]
    },
    {
      "cell_type": "code",
      "metadata": {
        "id": "PdCNylQXs1Uc",
        "colab_type": "code",
        "outputId": "4134a0c5-3629-4843-e051-2a439df698f9",
        "colab": {
          "base_uri": "https://localhost:8080/",
          "height": 87
        }
      },
      "source": [
        "#  Lists have the same operations as strings (question: why?).\n",
        "vector = [0] * 3    # a 3 element vector\n",
        "matrix = [[0] * 3, [0] * 3, [0] * 3, [0] * 3]    # a 4x3 matrix\n",
        "print(vector)\n",
        "print(matrix)\n",
        "\n",
        "#  Modifying\n",
        "vector[0] = 1\n",
        "print(vector[0:2])\n",
        "\n",
        "matrix[1][2] = 4\n",
        "matrix[0][0] = 1\n",
        "print(matrix[:3])"
      ],
      "execution_count": 45,
      "outputs": [
        {
          "output_type": "stream",
          "text": [
            "[0, 0, 0]\n",
            "[[0, 0, 0], [0, 0, 0], [0, 0, 0], [0, 0, 0]]\n",
            "[1, 0]\n",
            "[[1, 0, 0], [0, 0, 4], [0, 0, 0]]\n"
          ],
          "name": "stdout"
        }
      ]
    },
    {
      "cell_type": "code",
      "metadata": {
        "id": "skTG_cdVuI1M",
        "colab_type": "code",
        "colab": {}
      },
      "source": [
        "#  Write a program to initialize a tic tac toe game.\n",
        "#  Ask the user for a move and mark it on the game."
      ],
      "execution_count": 0,
      "outputs": []
    },
    {
      "cell_type": "markdown",
      "metadata": {
        "id": "4g1JSS8ICf9T",
        "colab_type": "text"
      },
      "source": [
        "##  Looping through lists\n",
        "*  Using len()\n",
        "*  Directly"
      ]
    },
    {
      "cell_type": "code",
      "metadata": {
        "id": "siGtfh6hvyrA",
        "colab_type": "code",
        "outputId": "0a6f6276-c867-435d-daaa-afab90403a1d",
        "colab": {
          "base_uri": "https://localhost:8080/",
          "height": 210
        }
      },
      "source": [
        "#  Nested lists can be used to represent a grid\n",
        "tictactoe = [['x', 'o', 'x'], ['o', 'o', 'x'], ['o', 'x', 'x']]\n",
        "print(\"Default display: \", tictactoe)\n",
        "\n",
        "\n",
        "#  A better way to print\n",
        "print(\"\\nBetter display (using enumeration): \")\n",
        "def display_grid_enumeration(matrix: list) -> list:\n",
        "\tdisp = \"\"\n",
        "\tfor row_num in range(len(matrix)):\n",
        "\t\tfor col_num in range(len(matrix[row_num])):\n",
        "\t\t\tdisp += matrix[row_num][col_num] + \" \"\n",
        "\t\tdisp += \"\\n\"\n",
        "\treturn disp[:-1]\n",
        "\n",
        "print(display_grid_enumeration(tictactoe))\n",
        "\n",
        "\n",
        "#  Another better way to print\n",
        "print(\"\\nBetter display (using iterator): \")\n",
        "def display_grid_iterator(matrix: list) -> list:\n",
        "\tdisp = \"\"\n",
        "\tfor row in matrix:\n",
        "\t\tfor element in row:\n",
        "\t\t\tdisp += element + \" \"\n",
        "\t\tdisp += \"\\n\"\n",
        "\treturn disp[:-1]\n",
        "\n",
        "print(display_grid_iterator(tictactoe))"
      ],
      "execution_count": 47,
      "outputs": [
        {
          "output_type": "stream",
          "text": [
            "Default display:  [['x', 'o', 'x'], ['o', 'o', 'x'], ['o', 'x', 'x']]\n",
            "\n",
            "Better display (using enumeration): \n",
            "x o x \n",
            "o o x \n",
            "o x x \n",
            "\n",
            "Better display (using iterator): \n",
            "x o x \n",
            "o o x \n",
            "o x x \n"
          ],
          "name": "stdout"
        }
      ]
    },
    {
      "cell_type": "code",
      "metadata": {
        "id": "K6l9bxJKvdt4",
        "colab_type": "code",
        "colab": {
          "base_uri": "https://localhost:8080/",
          "height": 175
        },
        "outputId": "12830c76-95de-46cf-87f8-db8dee264181"
      },
      "source": [
        "#  Write a function to return the transpose of a matrix\n",
        "import copy\n",
        "\n",
        "def transpose(matrix: list) -> list:\n",
        "\ttransposed = copy.deepcopy(matrix)    # Creates a copy of the matrix\n",
        "\tfor i in range(len(matrix)):\n",
        "\t\tfor j in range(len(matrix[0])):\n",
        "\t\t\ttransposed[i][j] = matrix[j][i]\n",
        "\treturn transposed\n",
        "\n",
        "print(\"Original:\")\n",
        "print(display_grid_iterator(tictactoe))\n",
        "print(\"\\nTransposed:\")\n",
        "print(display_grid_iterator(transpose(tictactoe)))"
      ],
      "execution_count": 48,
      "outputs": [
        {
          "output_type": "stream",
          "text": [
            "Original:\n",
            "x o x \n",
            "o o x \n",
            "o x x \n",
            "\n",
            "Transposed:\n",
            "x o o \n",
            "o o x \n",
            "x x x \n"
          ],
          "name": "stdout"
        }
      ]
    },
    {
      "cell_type": "markdown",
      "metadata": {
        "id": "drH_y3O0zPdZ",
        "colab_type": "text"
      },
      "source": [
        "##  Pointers\n",
        "https://snakify.org/en/lessons/two_dimensional_lists_arrays"
      ]
    },
    {
      "cell_type": "markdown",
      "metadata": {
        "id": "yj8ZPeJrq3pA",
        "colab_type": "text"
      },
      "source": [
        "##  Searching"
      ]
    },
    {
      "cell_type": "code",
      "metadata": {
        "id": "5LFWCuoUYBVy",
        "colab_type": "code",
        "outputId": "a44892cb-5b7c-42c0-df3e-6ef1baf04dd3",
        "colab": {
          "base_uri": "https://localhost:8080/",
          "height": 34
        }
      },
      "source": [
        "#  Sequential search\n",
        "def sequential_search(lst: list, search: int) -> int:\n",
        "  for i in range(len(lst)):\n",
        "    if lst[i] == search:\n",
        "      return i\n",
        "  return None\n",
        "\n",
        "int_list = [36, 53, 117, 179, 187, 69, 237, 247, 218, 180, 84, 146, 93, 201, 70]\n",
        "search = 187\n",
        "print(sequential_search(int_list, search))"
      ],
      "execution_count": 49,
      "outputs": [
        {
          "output_type": "stream",
          "text": [
            "4\n"
          ],
          "name": "stdout"
        }
      ]
    },
    {
      "cell_type": "code",
      "metadata": {
        "id": "kGNyGSrtLuP-",
        "colab_type": "code",
        "outputId": "6da26db1-e550-4c6b-c425-89ebd7dcf513",
        "colab": {
          "base_uri": "https://localhost:8080/",
          "height": 175
        }
      },
      "source": [
        "# Binary search\n",
        "def binary_search(lst: list, search: int) -> int:\n",
        "\t\"\"\" Returns the index of search.\n",
        "\t    If not found, returns a large negative number. \"\"\"\n",
        "\tprint(f\"DEBUG: Searching for {search} in {lst}.\")    # Uncomment for debugging messages\n",
        "\tmid = len(lst) // 2\n",
        "\tif len(lst) == 0:\n",
        "\t\treturn (- 2**16 - 1)    # Not found. Return a large negative number\n",
        "\telif search == lst[mid]:    # Result found\n",
        "\t\treturn mid\n",
        "\telif search < lst[mid]:\n",
        "\t\treturn binary_search(lst[:mid], search)    # Choose the left half\n",
        "\telse:\n",
        "\t\treturn mid + 1 + binary_search(lst[mid+1:], search)    # Choose the right half\n",
        "\n",
        "\n",
        "#  Declare the list\n",
        "int_list = [36, 53, 117, 179, 187, 69, 237, 247, 218, 180, 84, 146, 93, 201, 70]\n",
        "print(f\"Original list: {int_list}\\n\")\n",
        "\n",
        "#  Sort the list\n",
        "sort_list = sorted(int_list)\n",
        "print(f\"Sorted list: {sort_list}\\n\")\n",
        "\n",
        "\n",
        "search = 187\n",
        "location = binary_search(sort_list, search)\n",
        "if location < 0:\n",
        "\tlocation = None\n",
        "print(f\"Location of {search} is {location}.\")"
      ],
      "execution_count": 50,
      "outputs": [
        {
          "output_type": "stream",
          "text": [
            "Original list: [36, 53, 117, 179, 187, 69, 237, 247, 218, 180, 84, 146, 93, 201, 70]\n",
            "\n",
            "Sorted list: [36, 53, 69, 70, 84, 93, 117, 146, 179, 180, 187, 201, 218, 237, 247]\n",
            "\n",
            "DEBUG: Searching for 187 in [36, 53, 69, 70, 84, 93, 117, 146, 179, 180, 187, 201, 218, 237, 247].\n",
            "DEBUG: Searching for 187 in [179, 180, 187, 201, 218, 237, 247].\n",
            "DEBUG: Searching for 187 in [179, 180, 187].\n",
            "DEBUG: Searching for 187 in [187].\n",
            "Location of 187 is 10.\n"
          ],
          "name": "stdout"
        }
      ]
    },
    {
      "cell_type": "markdown",
      "metadata": {
        "id": "0A5E-kSSK_KJ",
        "colab_type": "text"
      },
      "source": [
        "##  Sorting"
      ]
    },
    {
      "cell_type": "code",
      "metadata": {
        "id": "9VkIhs9DQEYt",
        "colab_type": "code",
        "colab": {
          "base_uri": "https://localhost:8080/",
          "height": 34
        },
        "outputId": "c3250d97-b6aa-4b22-c32f-8b8260020904"
      },
      "source": [
        "#  Bubble sort\n",
        "numbers = [7, 3, -2, 47, 1]\n",
        "\n",
        "def bubble_sort(nums: list) -> list:\n",
        "\tfor i in range(len(nums)):\n",
        "\t\tfor j in range(len(nums) - i - 1):\n",
        "\t\t\tif nums[j] > nums[j + 1]:\n",
        "\t\t\t\t# Swap\n",
        "\t\t\t\ttemp = nums[j]\n",
        "\t\t\t\tnums[j] = nums[j + 1]\n",
        "\t\t\t\tnums[j + 1] = temp\n",
        "\treturn nums\n",
        "\n",
        "print(bubble_sort(numbers))"
      ],
      "execution_count": 51,
      "outputs": [
        {
          "output_type": "stream",
          "text": [
            "[-2, 1, 3, 7, 47]\n"
          ],
          "name": "stdout"
        }
      ]
    },
    {
      "cell_type": "code",
      "metadata": {
        "id": "D68ZJIPgQphn",
        "colab_type": "code",
        "colab": {
          "base_uri": "https://localhost:8080/",
          "height": 34
        },
        "outputId": "72cbe326-63ad-4919-9257-3a0d66a4841d"
      },
      "source": [
        "#  Selection sort\n",
        "numbers = [7, 3, -2, 47, 1]\n",
        "\n",
        "def selection_sort(nums: list) -> list:\n",
        "\tfor i in range(len(nums)):\n",
        "\t\tidx_min = i    # Index of the current minimum.\n",
        "\t\tfor j in range(i + 1, len(nums)):\n",
        "\t\t\tif nums[j] < nums[idx_min]:\n",
        "\t\t\t\tidx_min = j\n",
        "\t\tif idx_min != i:\n",
        "\t\t\t# Swap\n",
        "\t\t\ttemp = nums[i]\n",
        "\t\t\tnums[i] = nums[idx_min]\n",
        "\t\t\tnums[idx_min] = temp\n",
        "\treturn nums\n",
        "\n",
        "print(bubble_sort(numbers))"
      ],
      "execution_count": 52,
      "outputs": [
        {
          "output_type": "stream",
          "text": [
            "[-2, 1, 3, 7, 47]\n"
          ],
          "name": "stdout"
        }
      ]
    },
    {
      "cell_type": "markdown",
      "metadata": {
        "id": "W6P_t9K6Ct2h",
        "colab_type": "text"
      },
      "source": [
        "#  Miscellaneous topics"
      ]
    },
    {
      "cell_type": "code",
      "metadata": {
        "id": "jH9xk7HVCwmQ",
        "colab_type": "code",
        "outputId": "22fb77b6-771a-42a5-b50b-6f3cdebeaff0",
        "colab": {
          "base_uri": "https://localhost:8080/",
          "height": 70
        }
      },
      "source": [
        "#  Check the version of python\n",
        "import sys\n",
        "print(sys.version)\n",
        "print(sys.version_info)"
      ],
      "execution_count": 53,
      "outputs": [
        {
          "output_type": "stream",
          "text": [
            "3.6.8 (default, Jan 14 2019, 11:02:34) \n",
            "[GCC 8.0.1 20180414 (experimental) [trunk revision 259383]]\n",
            "sys.version_info(major=3, minor=6, micro=8, releaselevel='final', serial=0)\n"
          ],
          "name": "stdout"
        }
      ]
    },
    {
      "cell_type": "markdown",
      "metadata": {
        "id": "EYc3idswRo8o",
        "colab_type": "text"
      },
      "source": [
        "#  Projects"
      ]
    },
    {
      "cell_type": "markdown",
      "metadata": {
        "id": "AHRdIhc8vRRF",
        "colab_type": "text"
      },
      "source": [
        "##  Random tic tac toe\n",
        "* SIZE = 3 x 3\n",
        "* Players: 0 and 1\n",
        "* -1 represents both an untouched block and a drawn game"
      ]
    },
    {
      "cell_type": "code",
      "metadata": {
        "id": "cF5bqQ7QRrlN",
        "colab_type": "code",
        "outputId": "f1908411-0d3d-4833-92f7-a1c5553f9415",
        "colab": {
          "base_uri": "https://localhost:8080/",
          "height": 488
        }
      },
      "source": [
        "#  Simulation of random tictactoe.\n",
        "#  Players: 0 and 1.\n",
        "\n",
        "from random import sample\n",
        "import numpy\n",
        "import pandas\n",
        "# import matplotlib.pyplot as plt\n",
        "\n",
        "\n",
        "SIZE = 3\n",
        "DIGITS = range(SIZE * SIZE)\n",
        "UNPLAYED = -1\n",
        "\n",
        "REPEAT = 2**16\n",
        "\n",
        "\n",
        "def check(state: list) -> int:\n",
        "\t\"\"\" Check which player has won \"\"\"\n",
        "\t\n",
        "\t#  Check rows and colums\n",
        "\tfor i in range(SIZE):\n",
        "\t\tif all(state[i, :] == 0) or all(state[:, i] == 0):\n",
        "\t\t\treturn 0\n",
        "\t\telif all(state[i, :] == 1) or all(state[:, i] == 1):\n",
        "\t\t\treturn 1\n",
        "\t\n",
        "\t#  Check diagonals\n",
        "\tif all(map(lambda n: n == 0, [state[0, 0], state[1, 1], state[2, 2]])):\n",
        "\t\treturn 0\n",
        "\telif all(map(lambda n: n == 1, [state[0, 0], state[1, 1], state[2, 2]])):\n",
        "\t\treturn 1\n",
        "\telif all(map(lambda n: n == 0, [state[0, -1], state[1, -2], state[2, -3]])):\n",
        "\t\treturn 0\n",
        "\telif all(map(lambda n: n == 1, [state[0, -1], state[1, -2], state[2, -3]])):\n",
        "\t\treturn 1\n",
        "\t\n",
        "\treturn UNPLAYED\n",
        "\n",
        "\n",
        "def play():\n",
        "\t\"\"\" Simulate a game. \"\"\"\n",
        "\n",
        "\tsequence = sample(DIGITS, SIZE * SIZE)\n",
        "\t# print(f\"DEBUG: sequence: {sequence}\")\n",
        "\tstate = numpy.array([[-1] * SIZE] * SIZE)\n",
        "\t\n",
        "\tfor stage in range(SIZE * SIZE):\n",
        "\t\tstate[sequence[stage] // 3, sequence[stage] % 3] = stage % 2\n",
        "\t\twinner = check(state)\n",
        "\t\tif winner != UNPLAYED:\n",
        "\t\t\treturn (winner, stage)\n",
        "\t\n",
        "\treturn (check(state), stage)\n",
        "\n",
        "\n",
        "if __name__ == \"__main__\":\n",
        "\t\"\"\" This runs if the program is run as a script. \"\"\"\n",
        "\n",
        "\t#  Frequency of occurrence of the different events.\n",
        "\t#  See data dictionary below for details.\n",
        "\tfreq = [0] * 6\n",
        "\n",
        "\tfor expt in range(REPEAT):\n",
        "\t\tresult = play()\n",
        "\t\tif result[0] == 0:\n",
        "\t\t\tfreq[(result[1] - 4) // 2] += 1\n",
        "\t\telif result[0] == 1:\n",
        "\t\t\tfreq[3 + (result[1] - 5) // 2] += 1\n",
        "\t\telse:\n",
        "\t\t\tfreq[5] += 1\n",
        "\n",
        "\t#  Collect the data\n",
        "\tprob = list(map(lambda x: x/REPEAT, freq))\n",
        "\tdata = {\n",
        "\t\t'winner': [0] * 3 + [1] * 2 + [-1],\n",
        "\t\t'round': list(range(4, 9, 2)) + list(range(5, 9, 2)) + [8],\n",
        "\t\t'frequency': freq,\n",
        "\t\t'probability': prob}\n",
        "\n",
        "\t#  Plot the results\n",
        "\tindex = list(map(\n",
        "\t    lambda winner, round: \"(winner: \" + str(winner) + \", round: \" + str(round) + \")\",\n",
        "\t    [0] * 3 + [1] * 2 + [-1],\n",
        "\t    list(range(4, 9, 2)) + list(range(5, 9, 2)) + [8]))\n",
        "\tdf = pandas.DataFrame(data=data['probability'], index=index, columns=[\"probability\"])\n",
        "\tdf.plot.bar()\n",
        "\tprint(df)"
      ],
      "execution_count": 54,
      "outputs": [
        {
          "output_type": "stream",
          "text": [
            "                        probability\n",
            "(winner: 0, round: 4)      0.095215\n",
            "(winner: 0, round: 6)      0.260925\n",
            "(winner: 0, round: 8)      0.225800\n",
            "(winner: 1, round: 5)      0.090225\n",
            "(winner: 1, round: 7)      0.200455\n",
            "(winner: -1, round: 8)     0.127380\n"
          ],
          "name": "stdout"
        },
        {
          "output_type": "display_data",
          "data": {
            "image/png": "[encoded data removed]",
            "text/plain": [
              "<Figure size 432x288 with 1 Axes>"
            ]
          },
          "metadata": {
            "tags": []
          }
        }
      ]
    }
  ]
}